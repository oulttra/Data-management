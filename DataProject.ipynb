{
  "cells": [
    {
      "cell_type": "markdown",
      "metadata": {
        "id": "view-in-github",
        "colab_type": "text"
      },
      "source": [
        "<a href=\"https://colab.research.google.com/github/oulttra/Data-management/blob/main/DataProject.ipynb\" target=\"_parent\"><img src=\"https://colab.research.google.com/assets/colab-badge.svg\" alt=\"Open In Colab\"/></a>"
      ]
    },
    {
      "cell_type": "code",
      "execution_count": 233,
      "metadata": {
        "id": "ijNjInPj8bSP"
      },
      "outputs": [],
      "source": [
        "import pandas as pd\n",
        "import matplotlib.pyplot as plt\n",
        "import seaborn as sns\n",
        "import numpy as np\n",
        "import xgboost\n",
        "import sklearn\n",
        "from sklearn.model_selection import train_test_split\n",
        "from sklearn.linear_model import LogisticRegression\n",
        "from sklearn.preprocessing import StandardScaler\n",
        "from sklearn.metrics import accuracy_score, confusion_matrix, classification_report\n",
        "import matplotlib.pyplot as plt\n",
        "from sklearn.pipeline import Pipeline\n",
        "from sklearn.metrics import roc_curve, roc_auc_score, classification_report, accuracy_score, confusion_matrix\n",
        "from sklearn.ensemble import BaggingClassifier\n",
        "from sklearn.tree import DecisionTreeClassifier\n",
        "from sklearn.model_selection import cross_val_score"
      ]
    },
    {
      "cell_type": "code",
      "execution_count": 234,
      "metadata": {
        "id": "jZ3bDymrJPvR"
      },
      "outputs": [],
      "source": [
        "from google.colab import files"
      ]
    },
    {
      "cell_type": "code",
      "execution_count": 235,
      "metadata": {
        "id": "GJiTBp3485hY"
      },
      "outputs": [],
      "source": [
        "import io"
      ]
    },
    {
      "cell_type": "code",
      "execution_count": 240,
      "metadata": {
        "colab": {
          "base_uri": "https://localhost:8080/",
          "height": 143
        },
        "id": "3RBebr0CK-DH",
        "outputId": "c5ee86eb-40bf-4fa7-c7af-8abd5f006107"
      },
      "outputs": [
        {
          "output_type": "display_data",
          "data": {
            "text/plain": [
              "<IPython.core.display.HTML object>"
            ],
            "text/html": [
              "\n",
              "     <input type=\"file\" id=\"files-e0c4ed32-d26b-4c64-b76b-a24da0a6c68a\" name=\"files[]\" multiple disabled\n",
              "        style=\"border:none\" />\n",
              "     <output id=\"result-e0c4ed32-d26b-4c64-b76b-a24da0a6c68a\">\n",
              "      Upload widget is only available when the cell has been executed in the\n",
              "      current browser session. Please rerun this cell to enable.\n",
              "      </output>\n",
              "      <script>// Copyright 2017 Google LLC\n",
              "//\n",
              "// Licensed under the Apache License, Version 2.0 (the \"License\");\n",
              "// you may not use this file except in compliance with the License.\n",
              "// You may obtain a copy of the License at\n",
              "//\n",
              "//      http://www.apache.org/licenses/LICENSE-2.0\n",
              "//\n",
              "// Unless required by applicable law or agreed to in writing, software\n",
              "// distributed under the License is distributed on an \"AS IS\" BASIS,\n",
              "// WITHOUT WARRANTIES OR CONDITIONS OF ANY KIND, either express or implied.\n",
              "// See the License for the specific language governing permissions and\n",
              "// limitations under the License.\n",
              "\n",
              "/**\n",
              " * @fileoverview Helpers for google.colab Python module.\n",
              " */\n",
              "(function(scope) {\n",
              "function span(text, styleAttributes = {}) {\n",
              "  const element = document.createElement('span');\n",
              "  element.textContent = text;\n",
              "  for (const key of Object.keys(styleAttributes)) {\n",
              "    element.style[key] = styleAttributes[key];\n",
              "  }\n",
              "  return element;\n",
              "}\n",
              "\n",
              "// Max number of bytes which will be uploaded at a time.\n",
              "const MAX_PAYLOAD_SIZE = 100 * 1024;\n",
              "\n",
              "function _uploadFiles(inputId, outputId) {\n",
              "  const steps = uploadFilesStep(inputId, outputId);\n",
              "  const outputElement = document.getElementById(outputId);\n",
              "  // Cache steps on the outputElement to make it available for the next call\n",
              "  // to uploadFilesContinue from Python.\n",
              "  outputElement.steps = steps;\n",
              "\n",
              "  return _uploadFilesContinue(outputId);\n",
              "}\n",
              "\n",
              "// This is roughly an async generator (not supported in the browser yet),\n",
              "// where there are multiple asynchronous steps and the Python side is going\n",
              "// to poll for completion of each step.\n",
              "// This uses a Promise to block the python side on completion of each step,\n",
              "// then passes the result of the previous step as the input to the next step.\n",
              "function _uploadFilesContinue(outputId) {\n",
              "  const outputElement = document.getElementById(outputId);\n",
              "  const steps = outputElement.steps;\n",
              "\n",
              "  const next = steps.next(outputElement.lastPromiseValue);\n",
              "  return Promise.resolve(next.value.promise).then((value) => {\n",
              "    // Cache the last promise value to make it available to the next\n",
              "    // step of the generator.\n",
              "    outputElement.lastPromiseValue = value;\n",
              "    return next.value.response;\n",
              "  });\n",
              "}\n",
              "\n",
              "/**\n",
              " * Generator function which is called between each async step of the upload\n",
              " * process.\n",
              " * @param {string} inputId Element ID of the input file picker element.\n",
              " * @param {string} outputId Element ID of the output display.\n",
              " * @return {!Iterable<!Object>} Iterable of next steps.\n",
              " */\n",
              "function* uploadFilesStep(inputId, outputId) {\n",
              "  const inputElement = document.getElementById(inputId);\n",
              "  inputElement.disabled = false;\n",
              "\n",
              "  const outputElement = document.getElementById(outputId);\n",
              "  outputElement.innerHTML = '';\n",
              "\n",
              "  const pickedPromise = new Promise((resolve) => {\n",
              "    inputElement.addEventListener('change', (e) => {\n",
              "      resolve(e.target.files);\n",
              "    });\n",
              "  });\n",
              "\n",
              "  const cancel = document.createElement('button');\n",
              "  inputElement.parentElement.appendChild(cancel);\n",
              "  cancel.textContent = 'Cancel upload';\n",
              "  const cancelPromise = new Promise((resolve) => {\n",
              "    cancel.onclick = () => {\n",
              "      resolve(null);\n",
              "    };\n",
              "  });\n",
              "\n",
              "  // Wait for the user to pick the files.\n",
              "  const files = yield {\n",
              "    promise: Promise.race([pickedPromise, cancelPromise]),\n",
              "    response: {\n",
              "      action: 'starting',\n",
              "    }\n",
              "  };\n",
              "\n",
              "  cancel.remove();\n",
              "\n",
              "  // Disable the input element since further picks are not allowed.\n",
              "  inputElement.disabled = true;\n",
              "\n",
              "  if (!files) {\n",
              "    return {\n",
              "      response: {\n",
              "        action: 'complete',\n",
              "      }\n",
              "    };\n",
              "  }\n",
              "\n",
              "  for (const file of files) {\n",
              "    const li = document.createElement('li');\n",
              "    li.append(span(file.name, {fontWeight: 'bold'}));\n",
              "    li.append(span(\n",
              "        `(${file.type || 'n/a'}) - ${file.size} bytes, ` +\n",
              "        `last modified: ${\n",
              "            file.lastModifiedDate ? file.lastModifiedDate.toLocaleDateString() :\n",
              "                                    'n/a'} - `));\n",
              "    const percent = span('0% done');\n",
              "    li.appendChild(percent);\n",
              "\n",
              "    outputElement.appendChild(li);\n",
              "\n",
              "    const fileDataPromise = new Promise((resolve) => {\n",
              "      const reader = new FileReader();\n",
              "      reader.onload = (e) => {\n",
              "        resolve(e.target.result);\n",
              "      };\n",
              "      reader.readAsArrayBuffer(file);\n",
              "    });\n",
              "    // Wait for the data to be ready.\n",
              "    let fileData = yield {\n",
              "      promise: fileDataPromise,\n",
              "      response: {\n",
              "        action: 'continue',\n",
              "      }\n",
              "    };\n",
              "\n",
              "    // Use a chunked sending to avoid message size limits. See b/62115660.\n",
              "    let position = 0;\n",
              "    do {\n",
              "      const length = Math.min(fileData.byteLength - position, MAX_PAYLOAD_SIZE);\n",
              "      const chunk = new Uint8Array(fileData, position, length);\n",
              "      position += length;\n",
              "\n",
              "      const base64 = btoa(String.fromCharCode.apply(null, chunk));\n",
              "      yield {\n",
              "        response: {\n",
              "          action: 'append',\n",
              "          file: file.name,\n",
              "          data: base64,\n",
              "        },\n",
              "      };\n",
              "\n",
              "      let percentDone = fileData.byteLength === 0 ?\n",
              "          100 :\n",
              "          Math.round((position / fileData.byteLength) * 100);\n",
              "      percent.textContent = `${percentDone}% done`;\n",
              "\n",
              "    } while (position < fileData.byteLength);\n",
              "  }\n",
              "\n",
              "  // All done.\n",
              "  yield {\n",
              "    response: {\n",
              "      action: 'complete',\n",
              "    }\n",
              "  };\n",
              "}\n",
              "\n",
              "scope.google = scope.google || {};\n",
              "scope.google.colab = scope.google.colab || {};\n",
              "scope.google.colab._files = {\n",
              "  _uploadFiles,\n",
              "  _uploadFilesContinue,\n",
              "};\n",
              "})(self);\n",
              "</script> "
            ]
          },
          "metadata": {}
        },
        {
          "output_type": "stream",
          "name": "stdout",
          "text": [
            "Saving database1.csv to database1 (4).csv\n",
            "Saving database2.csv to database2 (4).csv\n",
            "Saving database3.csv to database3 (4).csv\n"
          ]
        }
      ],
      "source": [
        "uploaded = files.upload()"
      ]
    },
    {
      "cell_type": "code",
      "execution_count": 241,
      "metadata": {
        "colab": {
          "base_uri": "https://localhost:8080/"
        },
        "id": "PluCubt3M_r0",
        "outputId": "c81972e8-62d0-4910-fbcf-c0cac8366283"
      },
      "outputs": [
        {
          "output_type": "stream",
          "name": "stdout",
          "text": [
            "dict_keys(['database1 (4).csv', 'database2 (4).csv', 'database3 (4).csv'])\n"
          ]
        }
      ],
      "source": [
        "print(uploaded.keys())"
      ]
    },
    {
      "cell_type": "code",
      "execution_count": 244,
      "metadata": {
        "id": "7rQw37eCdeMq"
      },
      "outputs": [],
      "source": [
        "database1 = pd.read_csv(io.BytesIO(uploaded['database1 (4).csv']))\n",
        "database2 = pd.read_csv(io.BytesIO(uploaded['database2 (4).csv']))\n",
        "database3 = pd.read_csv(io.BytesIO(uploaded['database3 (4).csv']))"
      ]
    },
    {
      "cell_type": "code",
      "execution_count": 245,
      "metadata": {
        "colab": {
          "base_uri": "https://localhost:8080/"
        },
        "id": "edYOnyi9Kq39",
        "outputId": "3972e6aa-6326-4b7d-98fb-09c5f603ec82"
      },
      "outputs": [
        {
          "output_type": "stream",
          "name": "stdout",
          "text": [
            "    doeid    hhid   ba_climate iecc_climate_code uatyp10       hdd65  \\\n",
            "0  117107  217610  Mixed-Humid                4A       U  To_compute   \n",
            "1  112324  216582       Marine                4C       R  To_compute   \n",
            "2  104821   63587  Mixed-Humid                4A       U  To_compute   \n",
            "3  106481   85867  Mixed-Humid                3A       U  To_compute   \n",
            "4  113761  378348         Cold                5A       R  To_compute   \n",
            "\n",
            "        cdd65  hdd30yr_pub  cdd30yr_pub  typehuq  ...  evchrghome  evchrgapt  \\\n",
            "0  To_compute         4505         1372        5  ...        -2.0         -2   \n",
            "1  To_compute         5312          132        2  ...        -2.0         -2   \n",
            "2  To_compute         3277         1543        2  ...        -2.0         -2   \n",
            "3  To_compute         3116         1679        2  ...        -2.0         -2   \n",
            "4  To_compute         5955          978        2  ...        -2.0         -2   \n",
            "\n",
            "   evchrgwks  evchrgbus  evchrgmuni  evchrgdlr  evchrghwy  evchrgoth  \\\n",
            "0       -2.0       -2.0        -2.0       -2.0       -2.0       -2.0   \n",
            "1       -2.0       -2.0        -2.0       -2.0       -2.0       -2.0   \n",
            "2       -2.0       -2.0        -2.0       -2.0       -2.0       -2.0   \n",
            "3       -2.0       -2.0        -2.0       -2.0       -2.0       -2.0   \n",
            "4       -2.0       -2.0        -2.0       -2.0       -2.0       -2.0   \n",
            "\n",
            "   evhomeamt  evchrgtype  \n",
            "0       -2.0        -2.0  \n",
            "1       -2.0        -2.0  \n",
            "2       -2.0        -2.0  \n",
            "3       -2.0        -2.0  \n",
            "4       -2.0        -2.0  \n",
            "\n",
            "[5 rows x 276 columns]\n",
            "     HHID  REGIONC            DIVISION  STATE_FIPS state_postal  \\\n",
            "0  217610    SOUTH      South Atlantic          51           VA   \n",
            "1   72364  MIDWEST  East North Central          17           IL   \n",
            "2  216582     WEST             Pacific          53           WA   \n",
            "3   63587    SOUTH      South Atlantic          51           VA   \n",
            "4   85867    SOUTH      South Atlantic          45           SC   \n",
            "\n",
            "       state_name  HHSEX  HHAGE  EMPLOYHH  EDUCATION  SDESCENT  \\\n",
            "0        Virginia      1     48         4          4         0   \n",
            "1        Illinois      2     72         3          4         0   \n",
            "2      Washington      2     90         3          3         0   \n",
            "3        Virginia      1     41         2          5         0   \n",
            "4  South Carolina      1     27         1          2         0   \n",
            "\n",
            "   HOUSEHOLDER_RACE  NHSLDMEM  NUMCHILD  NUMADULT1  NUMADULT2  ATHOME  MONEYPY  \n",
            "0                 1         2         1          1          0       5        9  \n",
            "1                 1         2         0          0          2       5       11  \n",
            "2                 1         3         0          2          1       5       11  \n",
            "3                 2         4         2          2          0       5       15  \n",
            "4                 1         3         2          1          0       2        1  \n",
            "    DOEID time  HDD65  CDD65\n",
            "0  110053  Feb    875      0\n",
            "1  115109  Mar    384     77\n",
            "2  118050  Mar    488     89\n",
            "3  112472  Aug    380     62\n",
            "4  102065  Jan    299    144\n"
          ]
        }
      ],
      "source": [
        "print(database1 .head())\n",
        "print(database2 .head())\n",
        "print(database3 .head())"
      ]
    },
    {
      "cell_type": "code",
      "execution_count": 246,
      "metadata": {
        "colab": {
          "base_uri": "https://localhost:8080/"
        },
        "id": "22Z_5lTQinMb",
        "outputId": "d52f66cb-0b33-4d49-8bdc-60790c8fc66c"
      },
      "outputs": [
        {
          "output_type": "stream",
          "name": "stdout",
          "text": [
            "Index(['doeid', 'hhid', 'ba_climate', 'iecc_climate_code', 'uatyp10', 'hdd65',\n",
            "       'cdd65', 'hdd30yr_pub', 'cdd30yr_pub', 'typehuq',\n",
            "       ...\n",
            "       'evchrghome', 'evchrgapt', 'evchrgwks', 'evchrgbus', 'evchrgmuni',\n",
            "       'evchrgdlr', 'evchrghwy', 'evchrgoth', 'evhomeamt', 'evchrgtype'],\n",
            "      dtype='object', length=276)\n",
            "Index(['HHID', 'REGIONC', 'DIVISION', 'STATE_FIPS', 'state_postal',\n",
            "       'state_name', 'HHSEX', 'HHAGE', 'EMPLOYHH', 'EDUCATION', 'SDESCENT',\n",
            "       'HOUSEHOLDER_RACE', 'NHSLDMEM', 'NUMCHILD', 'NUMADULT1', 'NUMADULT2',\n",
            "       'ATHOME', 'MONEYPY'],\n",
            "      dtype='object')\n",
            "Index(['DOEID', 'time', 'HDD65', 'CDD65'], dtype='object')\n"
          ]
        }
      ],
      "source": [
        "print(database1.columns)\n",
        "print(database2.columns)\n",
        "print(database3.columns)"
      ]
    },
    {
      "cell_type": "code",
      "execution_count": 247,
      "metadata": {
        "id": "Bi_iKq8RkIuq"
      },
      "outputs": [],
      "source": [
        "if 'hhid' in database1.columns:\n",
        "    database1.rename(columns={'hhid': 'HHID'}, inplace=True)\n"
      ]
    },
    {
      "cell_type": "code",
      "execution_count": 248,
      "metadata": {
        "id": "oYaNB17SOnZh"
      },
      "outputs": [],
      "source": [
        "merged_df = pd.merge(database1, database2, on=\"HHID\")\n",
        "# we merge database1 and database 2 using HHID columns. We named it merged_df."
      ]
    },
    {
      "cell_type": "code",
      "execution_count": 249,
      "metadata": {
        "colab": {
          "base_uri": "https://localhost:8080/"
        },
        "id": "r4w_3gguo2aX",
        "outputId": "e02f161c-e825-497e-d6ee-92540d5869a7"
      },
      "outputs": [
        {
          "output_type": "stream",
          "name": "stdout",
          "text": [
            "Index(['doeid', 'HHID', 'ba_climate', 'iecc_climate_code', 'uatyp10', 'hdd65',\n",
            "       'cdd65', 'hdd30yr_pub', 'cdd30yr_pub', 'typehuq',\n",
            "       ...\n",
            "       'EMPLOYHH', 'EDUCATION', 'SDESCENT', 'HOUSEHOLDER_RACE', 'NHSLDMEM',\n",
            "       'NUMCHILD', 'NUMADULT1', 'NUMADULT2', 'ATHOME', 'MONEYPY'],\n",
            "      dtype='object', length=293)\n"
          ]
        }
      ],
      "source": [
        "print(merged_df.columns)"
      ]
    },
    {
      "cell_type": "code",
      "execution_count": 250,
      "metadata": {
        "id": "N6tKIkWGpBid"
      },
      "outputs": [],
      "source": [
        "if 'doeid' in merged_df.columns:\n",
        "    merged_df.rename(columns={'doeid': 'DOEID'}, inplace=True)"
      ]
    },
    {
      "cell_type": "code",
      "execution_count": 251,
      "metadata": {
        "id": "70FA-qg2pNjp"
      },
      "outputs": [],
      "source": [
        "merged_data = pd.merge(merged_df, database3, on=\"DOEID\")\n",
        "# And we merged_df with database 3 using DOEID columns. We named it merged_data."
      ]
    },
    {
      "cell_type": "code",
      "execution_count": 252,
      "metadata": {
        "colab": {
          "base_uri": "https://localhost:8080/"
        },
        "id": "yWj8PuWTpRop",
        "outputId": "30230630-a5b6-4027-fb5a-5697b2f30c59"
      },
      "outputs": [
        {
          "output_type": "stream",
          "name": "stdout",
          "text": [
            "    DOEID    HHID   ba_climate iecc_climate_code uatyp10       hdd65  \\\n",
            "0  117107  217610  Mixed-Humid                4A       U  To_compute   \n",
            "1  117107  217610  Mixed-Humid                4A       U  To_compute   \n",
            "2  117107  217610  Mixed-Humid                4A       U  To_compute   \n",
            "3  117107  217610  Mixed-Humid                4A       U  To_compute   \n",
            "4  117107  217610  Mixed-Humid                4A       U  To_compute   \n",
            "\n",
            "        cdd65  hdd30yr_pub  cdd30yr_pub  typehuq  ...  HOUSEHOLDER_RACE  \\\n",
            "0  To_compute         4505         1372        5  ...                 1   \n",
            "1  To_compute         4505         1372        5  ...                 1   \n",
            "2  To_compute         4505         1372        5  ...                 1   \n",
            "3  To_compute         4505         1372        5  ...                 1   \n",
            "4  To_compute         4505         1372        5  ...                 1   \n",
            "\n",
            "   NHSLDMEM  NUMCHILD  NUMADULT1  NUMADULT2  ATHOME  MONEYPY  time  HDD65  \\\n",
            "0         2         1          1          0       5        9   Jun    333   \n",
            "1         2         1          1          0       5        9   Oct    318   \n",
            "2         2         1          1          0       5        9   Apr    320   \n",
            "3         2         1          1          0       5        9   Jan    336   \n",
            "4         2         1          1          0       5        9   Nov    289   \n",
            "\n",
            "   CDD65  \n",
            "0    109  \n",
            "1    107  \n",
            "2    121  \n",
            "3    108  \n",
            "4    105  \n",
            "\n",
            "[5 rows x 296 columns]\n"
          ]
        }
      ],
      "source": [
        "print(merged_data.head())"
      ]
    },
    {
      "cell_type": "markdown",
      "metadata": {
        "id": "cAFu5V0EsBsm"
      },
      "source": [
        "#DETECTION OF MISSING VALUES\n"
      ]
    },
    {
      "cell_type": "code",
      "execution_count": 253,
      "metadata": {
        "colab": {
          "base_uri": "https://localhost:8080/"
        },
        "id": "UKWaH3u6pZ39",
        "outputId": "61204f81-5f34-4f87-be64-934e8f05f037"
      },
      "outputs": [
        {
          "output_type": "execute_result",
          "data": {
            "text/plain": [
              "6768"
            ]
          },
          "metadata": {},
          "execution_count": 253
        }
      ],
      "source": [
        "merged_data.isnull().sum().sum()\n",
        "\n",
        "#This code checks if we had missing values in merged_data\n",
        "#isnull() returns a dataframe with True for NaN values and False for other values. %%"
      ]
    },
    {
      "cell_type": "code",
      "execution_count": 254,
      "metadata": {
        "id": "YEhrg7j9p8DQ"
      },
      "outputs": [],
      "source": [
        "num_duplicates = merged_data.duplicated().sum()\n",
        "# This line detects the number of duplicate rows in the merged_data dataframe.\n",
        "# sum() counts how many True values (duplicates) are in the series."
      ]
    },
    {
      "cell_type": "code",
      "execution_count": 255,
      "metadata": {
        "colab": {
          "base_uri": "https://localhost:8080/"
        },
        "id": "tnXXgwHuqVsE",
        "outputId": "57bac9e1-2a79-4900-b739-e446be2b835a"
      },
      "outputs": [
        {
          "output_type": "stream",
          "name": "stdout",
          "text": [
            "Number of duplicates in the DataFrame: 0\n"
          ]
        }
      ],
      "source": [
        "print(\"Number of duplicates in the DataFrame:\", num_duplicates)"
      ]
    },
    {
      "cell_type": "code",
      "execution_count": 256,
      "metadata": {
        "colab": {
          "base_uri": "https://localhost:8080/"
        },
        "id": "t421rWvptVXP",
        "outputId": "568365ec-54da-409b-8bd2-8c67c44dd18c"
      },
      "outputs": [
        {
          "output_type": "stream",
          "name": "stdout",
          "text": [
            "         DOEID    HHID   ba_climate iecc_climate_code uatyp10       hdd65  \\\n",
            "0       117107  217610  Mixed-Humid                4A       U  To_compute   \n",
            "1       117107  217610  Mixed-Humid                4A       U  To_compute   \n",
            "2       117107  217610  Mixed-Humid                4A       U  To_compute   \n",
            "3       117107  217610  Mixed-Humid                4A       U  To_compute   \n",
            "4       117107  217610  Mixed-Humid                4A       U  To_compute   \n",
            "...        ...     ...          ...               ...     ...         ...   \n",
            "185947  117900  464143  Mixed-Humid                4A       U  To_compute   \n",
            "185948  117900  464143  Mixed-Humid                4A       U  To_compute   \n",
            "185949  117900  464143  Mixed-Humid                4A       U  To_compute   \n",
            "185950  117900  464143  Mixed-Humid                4A       U  To_compute   \n",
            "185951  117900  464143  Mixed-Humid                4A       U  To_compute   \n",
            "\n",
            "             cdd65  hdd30yr_pub  cdd30yr_pub  typehuq  ...  HOUSEHOLDER_RACE  \\\n",
            "0       To_compute         4505         1372        5  ...                 1   \n",
            "1       To_compute         4505         1372        5  ...                 1   \n",
            "2       To_compute         4505         1372        5  ...                 1   \n",
            "3       To_compute         4505         1372        5  ...                 1   \n",
            "4       To_compute         4505         1372        5  ...                 1   \n",
            "...            ...          ...          ...      ...  ...               ...   \n",
            "185947  To_compute         3766         1916        2  ...                 1   \n",
            "185948  To_compute         3766         1916        2  ...                 1   \n",
            "185949  To_compute         3766         1916        2  ...                 1   \n",
            "185950  To_compute         3766         1916        2  ...                 1   \n",
            "185951  To_compute         3766         1916        2  ...                 1   \n",
            "\n",
            "        NHSLDMEM  NUMCHILD  NUMADULT1  NUMADULT2  ATHOME  MONEYPY  time  \\\n",
            "0              2         1          1          0       5        9   Jun   \n",
            "1              2         1          1          0       5        9   Oct   \n",
            "2              2         1          1          0       5        9   Apr   \n",
            "3              2         1          1          0       5        9   Jan   \n",
            "4              2         1          1          0       5        9   Nov   \n",
            "...          ...       ...        ...        ...     ...      ...   ...   \n",
            "185947         1         0          1          0       5       15   Apr   \n",
            "185948         1         0          1          0       5       15   Jan   \n",
            "185949         1         0          1          0       5       15   Mar   \n",
            "185950         1         0          1          0       5       15   Sep   \n",
            "185951         1         0          1          0       5       15   Jun   \n",
            "\n",
            "        HDD65  CDD65  \n",
            "0         333    109  \n",
            "1         318    107  \n",
            "2         320    121  \n",
            "3         336    108  \n",
            "4         289    105  \n",
            "...       ...    ...  \n",
            "185947    322    142  \n",
            "185948    304    127  \n",
            "185949    321    107  \n",
            "185950    313    134  \n",
            "185951    320    140  \n",
            "\n",
            "[185952 rows x 296 columns]\n"
          ]
        }
      ],
      "source": [
        "print(merged_data)"
      ]
    },
    {
      "cell_type": "code",
      "execution_count": 257,
      "metadata": {
        "id": "U07kYduWtVLZ"
      },
      "outputs": [],
      "source": [
        "merged_data['time'] = pd.to_datetime(merged_data['time'], format='%b')\n",
        "# This line converts the time column in the merged_data dataframe to a proper datetime format."
      ]
    },
    {
      "cell_type": "code",
      "execution_count": 258,
      "metadata": {
        "id": "muB0G49TtU84"
      },
      "outputs": [],
      "source": [
        "sum_by_DOEID = merged_data.groupby('DOEID').agg({'HDD65': 'sum', 'CDD65': 'sum', 'time': 'first'}).reset_index()\n",
        "#This line groups the data by the DOEID column and calculates the sum of HDD65 and CDD65 for each group.The first occurrence of time for each group is kept (using 'first')."
      ]
    },
    {
      "cell_type": "code",
      "execution_count": 259,
      "metadata": {
        "id": "ohvHp8M7gsfF"
      },
      "outputs": [],
      "source": [
        "sum_by_DOEID['time'] = '2020'\n",
        "#This line assigns the value '2020' to all rows in the time column of sum_by_DOEID."
      ]
    },
    {
      "cell_type": "code",
      "execution_count": 260,
      "metadata": {
        "id": "-J_P7UX2gsrZ"
      },
      "outputs": [],
      "source": [
        "sum_by_DOEID.rename(columns={'HDD65': 'HDD65_sum', 'CDD65': 'CDD65_sum'}, inplace=True)\n",
        "#This line renames the columns HDD65 and CDD65 to HDD65_sum and CDD65_sum respectively to indicate that these columns represent the sum of these values."
      ]
    },
    {
      "cell_type": "code",
      "execution_count": 261,
      "metadata": {
        "id": "r7ozlfoFgsuS"
      },
      "outputs": [],
      "source": [
        "merged_data.drop_duplicates(subset=['DOEID'], inplace=True)\n"
      ]
    },
    {
      "cell_type": "code",
      "execution_count": 262,
      "metadata": {
        "id": "Z_RMaV5ggsxJ"
      },
      "outputs": [],
      "source": [
        "merged_data = merged_data.merge(sum_by_DOEID, on='DOEID', how='left')"
      ]
    },
    {
      "cell_type": "code",
      "execution_count": 263,
      "metadata": {
        "colab": {
          "base_uri": "https://localhost:8080/"
        },
        "id": "2huGjdfdgs0F",
        "outputId": "6ed79ffe-837a-4435-c06a-3f537988e69a"
      },
      "outputs": [
        {
          "output_type": "stream",
          "name": "stdout",
          "text": [
            "        DOEID    HHID   ba_climate iecc_climate_code uatyp10       hdd65  \\\n",
            "0      117107  217610  Mixed-Humid                4A       U  To_compute   \n",
            "1      112324  216582       Marine                4C       R  To_compute   \n",
            "2      104821   63587  Mixed-Humid                4A       U  To_compute   \n",
            "3      106481   85867  Mixed-Humid                3A       U  To_compute   \n",
            "4      113761  378348         Cold                5A       R  To_compute   \n",
            "...       ...     ...          ...               ...     ...         ...   \n",
            "15491  116913  437666  Mixed-Humid                4A       U  To_compute   \n",
            "15492  110887  123883  Mixed-Humid                4A       U  To_compute   \n",
            "15493  115454   90396  Mixed-Humid                4A       R  To_compute   \n",
            "15494  115493  137470    Hot-Humid                2A       R  To_compute   \n",
            "15495  117900  464143  Mixed-Humid                4A       U  To_compute   \n",
            "\n",
            "            cdd65  hdd30yr_pub  cdd30yr_pub  typehuq  ...  NUMADULT1  \\\n",
            "0      To_compute         4505         1372        5  ...          1   \n",
            "1      To_compute         5312          132        2  ...          2   \n",
            "2      To_compute         3277         1543        2  ...          2   \n",
            "3      To_compute         3116         1679        2  ...          1   \n",
            "4      To_compute         5955          978        2  ...          2   \n",
            "...           ...          ...          ...      ...  ...        ...   \n",
            "15491  To_compute         4869         1067        5  ...          1   \n",
            "15492  To_compute         4739         1108        5  ...          2   \n",
            "15493  To_compute         3557         1515        2  ...          3   \n",
            "15494  To_compute         1904         2459        1  ...          2   \n",
            "15495  To_compute         3766         1916        2  ...          1   \n",
            "\n",
            "       NUMADULT2  ATHOME  MONEYPY     time_x  HDD65  CDD65  HDD65_sum  \\\n",
            "0              0       5        9 1900-06-01    333    109       3886   \n",
            "1              1       5       11 1900-05-01    374     18       4475   \n",
            "2              0       5       15 1900-10-01    213    152       2643   \n",
            "3              0       2        1 1900-04-01    253    138       2909   \n",
            "4              0       1       13 1900-11-01    480     87       5841   \n",
            "...          ...     ...      ...        ...    ...    ...        ...   \n",
            "15491          0       2       11 1900-10-01    326    116       3900   \n",
            "15492          0       5       16 1900-04-01    340    118       4206   \n",
            "15493          0       5       16 1900-11-01    203    130       2680   \n",
            "15494          0       5       13 1900-11-01    114    273       1373   \n",
            "15495          0       5       15 1900-10-01    331    136       3967   \n",
            "\n",
            "       CDD65_sum  time_y  \n",
            "0           1389    2020  \n",
            "1            220    2020  \n",
            "2           1761    2020  \n",
            "3           1552    2020  \n",
            "4           1045    2020  \n",
            "...          ...     ...  \n",
            "15491       1255    2020  \n",
            "15492       1361    2020  \n",
            "15493       1778    2020  \n",
            "15494       3040    2020  \n",
            "15495       1546    2020  \n",
            "\n",
            "[15496 rows x 299 columns]\n"
          ]
        }
      ],
      "source": [
        "print(merged_data)\n"
      ]
    },
    {
      "cell_type": "code",
      "execution_count": 264,
      "metadata": {
        "id": "zfawB2qtgs3h"
      },
      "outputs": [],
      "source": [
        "merged_data.drop(['time_x', 'HDD65', 'CDD65'], axis=1, inplace=True)\n",
        "# These are the names of the columns to be dropped from the merged_data dataframe.\n",
        "#The time_x column is likely created due to a merge operation that caused a suffix (like _x or _y) to differentiate columns with the same name."
      ]
    },
    {
      "cell_type": "code",
      "execution_count": 265,
      "metadata": {
        "colab": {
          "base_uri": "https://localhost:8080/"
        },
        "id": "XzFKXfceh175",
        "outputId": "fd8cac6f-a135-41f0-a9b5-873a5961b177"
      },
      "outputs": [
        {
          "output_type": "stream",
          "name": "stdout",
          "text": [
            "        DOEID    HHID   ba_climate iecc_climate_code uatyp10       hdd65  \\\n",
            "0      117107  217610  Mixed-Humid                4A       U  To_compute   \n",
            "1      112324  216582       Marine                4C       R  To_compute   \n",
            "2      104821   63587  Mixed-Humid                4A       U  To_compute   \n",
            "3      106481   85867  Mixed-Humid                3A       U  To_compute   \n",
            "4      113761  378348         Cold                5A       R  To_compute   \n",
            "...       ...     ...          ...               ...     ...         ...   \n",
            "15491  116913  437666  Mixed-Humid                4A       U  To_compute   \n",
            "15492  110887  123883  Mixed-Humid                4A       U  To_compute   \n",
            "15493  115454   90396  Mixed-Humid                4A       R  To_compute   \n",
            "15494  115493  137470    Hot-Humid                2A       R  To_compute   \n",
            "15495  117900  464143  Mixed-Humid                4A       U  To_compute   \n",
            "\n",
            "            cdd65  hdd30yr_pub  cdd30yr_pub  typehuq  ...  HOUSEHOLDER_RACE  \\\n",
            "0      To_compute         4505         1372        5  ...                 1   \n",
            "1      To_compute         5312          132        2  ...                 1   \n",
            "2      To_compute         3277         1543        2  ...                 2   \n",
            "3      To_compute         3116         1679        2  ...                 1   \n",
            "4      To_compute         5955          978        2  ...                 1   \n",
            "...           ...          ...          ...      ...  ...               ...   \n",
            "15491  To_compute         4869         1067        5  ...                 1   \n",
            "15492  To_compute         4739         1108        5  ...                 1   \n",
            "15493  To_compute         3557         1515        2  ...                 1   \n",
            "15494  To_compute         1904         2459        1  ...                 6   \n",
            "15495  To_compute         3766         1916        2  ...                 1   \n",
            "\n",
            "       NHSLDMEM  NUMCHILD  NUMADULT1  NUMADULT2  ATHOME  MONEYPY  HDD65_sum  \\\n",
            "0             2         1          1          0       5        9       3886   \n",
            "1             3         0          2          1       5       11       4475   \n",
            "2             4         2          2          0       5       15       2643   \n",
            "3             3         2          1          0       2        1       2909   \n",
            "4             3         1          2          0       1       13       5841   \n",
            "...         ...       ...        ...        ...     ...      ...        ...   \n",
            "15491         1         0          1          0       2       11       3900   \n",
            "15492         2         0          2          0       5       16       4206   \n",
            "15493         3         0          3          0       5       16       2680   \n",
            "15494         2         0          2          0       5       13       1373   \n",
            "15495         1         0          1          0       5       15       3967   \n",
            "\n",
            "       CDD65_sum  time_y  \n",
            "0           1389    2020  \n",
            "1            220    2020  \n",
            "2           1761    2020  \n",
            "3           1552    2020  \n",
            "4           1045    2020  \n",
            "...          ...     ...  \n",
            "15491       1255    2020  \n",
            "15492       1361    2020  \n",
            "15493       1778    2020  \n",
            "15494       3040    2020  \n",
            "15495       1546    2020  \n",
            "\n",
            "[15496 rows x 296 columns]\n"
          ]
        }
      ],
      "source": [
        "print(merged_data)"
      ]
    },
    {
      "cell_type": "markdown",
      "metadata": {
        "id": "dfk3sQ_0jXe2"
      },
      "source": [
        "##ANALYSIS OF MISSING VALUES"
      ]
    },
    {
      "cell_type": "code",
      "execution_count": 266,
      "metadata": {
        "id": "uSj8ztkIh2BQ"
      },
      "outputs": [],
      "source": [
        "merged_data.isnull().sum().to_csv('missing_values.csv')\n",
        "#merged_data.isnull() returns a dataframe where each cell is either True (if the value is missing) or False (if the value is not missing).\n",
        "#.sum() counts the True values in each column, which represents the number of missing values per column."
      ]
    },
    {
      "cell_type": "code",
      "execution_count": 267,
      "metadata": {
        "id": "L9HJrC5Qh2Du"
      },
      "outputs": [],
      "source": [
        "columns_with_missing_values = merged_data.columns[merged_data.isnull().any()]"
      ]
    },
    {
      "cell_type": "code",
      "execution_count": 268,
      "metadata": {
        "colab": {
          "base_uri": "https://localhost:8080/"
        },
        "id": "rkOg_cuKh2GE",
        "outputId": "fffd38f6-873f-4c4b-8dc4-dc622184f470"
      },
      "outputs": [
        {
          "output_type": "stream",
          "name": "stdout",
          "text": [
            "Columns with missing values in merged_data:\n",
            "Index(['medicaldev', 'evchrghome', 'evchrgwks', 'evchrgbus', 'evchrgmuni',\n",
            "       'evchrgdlr', 'evchrghwy', 'evchrgoth', 'evhomeamt', 'evchrgtype'],\n",
            "      dtype='object')\n"
          ]
        }
      ],
      "source": [
        "print(\"Columns with missing values in merged_data:\")\n",
        "print(columns_with_missing_values)"
      ]
    },
    {
      "cell_type": "code",
      "execution_count": 269,
      "metadata": {
        "colab": {
          "base_uri": "https://localhost:8080/"
        },
        "id": "oZu0jYkbh2Nq",
        "outputId": "bfa50a41-c193-46e6-faa6-0a46f0c80053"
      },
      "outputs": [
        {
          "output_type": "stream",
          "name": "stderr",
          "text": [
            "<ipython-input-269-44eb175153fc>:2: FutureWarning: A value is trying to be set on a copy of a DataFrame or Series through chained assignment using an inplace method.\n",
            "The behavior will change in pandas 3.0. This inplace method will never work because the intermediate object on which we are setting values always behaves as a copy.\n",
            "\n",
            "For example, when doing 'df[col].method(value, inplace=True)', try using 'df.method({col: value}, inplace=True)' or df[col] = df[col].method(value) instead, to perform the operation inplace on the original object.\n",
            "\n",
            "\n",
            "  merged_data['medicaldev'].fillna(median_medicaldev, inplace=True)\n"
          ]
        }
      ],
      "source": [
        "median_medicaldev = merged_data['medicaldev'].median()\n",
        "merged_data['medicaldev'].fillna(median_medicaldev, inplace=True)\n",
        "#calculates the median of the medicaldev column."
      ]
    },
    {
      "cell_type": "code",
      "execution_count": 270,
      "metadata": {
        "id": "6XGBEewVh2QS"
      },
      "outputs": [],
      "source": [
        "merged_data.fillna(0, inplace=True)"
      ]
    },
    {
      "cell_type": "code",
      "execution_count": 271,
      "metadata": {
        "colab": {
          "base_uri": "https://localhost:8080/"
        },
        "id": "wLiC-00Zh2Si",
        "outputId": "55caee29-d405-4805-d2ca-a9de8ff8ad7e"
      },
      "outputs": [
        {
          "output_type": "stream",
          "name": "stdout",
          "text": [
            "0        0.0\n",
            "1        1.0\n",
            "2        0.0\n",
            "3        0.0\n",
            "4        0.0\n",
            "        ... \n",
            "15491    0.0\n",
            "15492    0.0\n",
            "15493    0.0\n",
            "15494    1.0\n",
            "15495    0.0\n",
            "Name: medicaldev, Length: 15496, dtype: float64\n"
          ]
        }
      ],
      "source": [
        "print(merged_data.medicaldev)"
      ]
    },
    {
      "cell_type": "markdown",
      "metadata": {
        "id": "1BYZC0dwoCNO"
      },
      "source": [
        "## ERRORS AND OUTLIERS"
      ]
    },
    {
      "cell_type": "code",
      "execution_count": 272,
      "metadata": {
        "id": "oGNfDOxmn1Ml"
      },
      "outputs": [],
      "source": [
        "description = merged_data.describe(include=\"all\")\n",
        "description.to_csv(\"description.csv\")"
      ]
    },
    {
      "cell_type": "code",
      "execution_count": 273,
      "metadata": {
        "colab": {
          "base_uri": "https://localhost:8080/"
        },
        "id": "V11rqLgen1PT",
        "outputId": "ea1d920f-ae04-4287-a42c-52310836f449"
      },
      "outputs": [
        {
          "output_type": "stream",
          "name": "stdout",
          "text": [
            "count    15496.000000\n",
            "mean         6.995031\n",
            "std          7.216563\n",
            "min          1.000000\n",
            "25%          5.000000\n",
            "50%          6.000000\n",
            "75%          8.000000\n",
            "max        112.000000\n",
            "Name: totrooms, dtype: float64\n"
          ]
        }
      ],
      "source": [
        "print(merged_data['totrooms'].describe())"
      ]
    },
    {
      "cell_type": "code",
      "execution_count": 274,
      "metadata": {
        "id": "ipJL76lsn1U2"
      },
      "outputs": [],
      "source": [
        "invalid_totrooms = merged_data[(merged_data['totrooms'] < 1) | (merged_data['totrooms'] > 15)]"
      ]
    },
    {
      "cell_type": "code",
      "execution_count": 275,
      "metadata": {
        "id": "2vqIg95Ln1Z5"
      },
      "outputs": [],
      "source": [
        "merged_data= merged_data.drop(invalid_totrooms.index)"
      ]
    },
    {
      "cell_type": "code",
      "execution_count": 276,
      "metadata": {
        "colab": {
          "base_uri": "https://localhost:8080/"
        },
        "id": "p5RymKKWn1cp",
        "outputId": "1c5b0995-b744-463a-d5b6-7047be7643a4"
      },
      "outputs": [
        {
          "output_type": "stream",
          "name": "stdout",
          "text": [
            "        DOEID    HHID   ba_climate iecc_climate_code uatyp10       hdd65  \\\n",
            "31     101425  209863  Mixed-Humid                4A       C  To_compute   \n",
            "124    110832   59986      Hot-Dry                2B       U  To_compute   \n",
            "380    105095  477726  Mixed-Humid                4A       R  To_compute   \n",
            "508    100034  440142         Cold                6A       U  To_compute   \n",
            "653    106649  147000  Mixed-Humid                3A       R  To_compute   \n",
            "...       ...     ...          ...               ...     ...         ...   \n",
            "14735  101557  438169    Hot-Humid                2A       U  To_compute   \n",
            "15094  108393  213689         Cold                6A       R  To_compute   \n",
            "15144  105921  498623         Cold                5B       C  To_compute   \n",
            "15208  111393  227648  Mixed-Humid                3A       R  To_compute   \n",
            "15329  106037  190750    Hot-Humid                2A       U  To_compute   \n",
            "\n",
            "            cdd65  hdd30yr_pub  cdd30yr_pub  typehuq  ...  HOUSEHOLDER_RACE  \\\n",
            "31     To_compute         4354         1041        2  ...                 1   \n",
            "124    To_compute         1298         3841        2  ...                 1   \n",
            "380    To_compute         4479         1173        2  ...                 1   \n",
            "508    To_compute         7627          726        2  ...                 1   \n",
            "653    To_compute         2635         2111        2  ...                 1   \n",
            "...           ...          ...          ...      ...  ...               ...   \n",
            "14735  To_compute         1408         3035        2  ...                 1   \n",
            "15094  To_compute         8454          487        2  ...                 1   \n",
            "15144  To_compute         6607          545        2  ...                 1   \n",
            "15208  To_compute         2762         1971        2  ...                 1   \n",
            "15329  To_compute          407         3800        2  ...                 1   \n",
            "\n",
            "       NHSLDMEM  NUMCHILD  NUMADULT1  NUMADULT2  ATHOME  MONEYPY  HDD65_sum  \\\n",
            "31            2         0          0          2       5       12       3342   \n",
            "124           2         0          0          2       5       13       1243   \n",
            "380           2         0          0          2       5       13       3579   \n",
            "508           2         1          1          0       0       16       7239   \n",
            "653           2         0          0          2       5       14       2202   \n",
            "...         ...       ...        ...        ...     ...      ...        ...   \n",
            "14735         3         0          3          0       5       12       1106   \n",
            "15094         2         0          0          2       5       15       7790   \n",
            "15144         2         0          2          0       5       15       6359   \n",
            "15208         2         0          1          1       5       15       2213   \n",
            "15329         5         0          5          0       5       12        305   \n",
            "\n",
            "       CDD65_sum  time_y  \n",
            "31          1509    2020  \n",
            "124         4549    2020  \n",
            "380         1538    2020  \n",
            "508          872    2020  \n",
            "653         1985    2020  \n",
            "...          ...     ...  \n",
            "14735       3534    2020  \n",
            "15094        783    2020  \n",
            "15144        874    2020  \n",
            "15208       2125    2020  \n",
            "15329       4446    2020  \n",
            "\n",
            "[72 rows x 296 columns]\n"
          ]
        }
      ],
      "source": [
        "print(invalid_totrooms)"
      ]
    },
    {
      "cell_type": "code",
      "execution_count": 277,
      "metadata": {
        "colab": {
          "base_uri": "https://localhost:8080/"
        },
        "id": "fHrjCAWin1fU",
        "outputId": "d9df49a3-3eca-477b-88aa-0fd2916510c4"
      },
      "outputs": [
        {
          "output_type": "stream",
          "name": "stdout",
          "text": [
            "        DOEID    HHID   ba_climate iecc_climate_code uatyp10       hdd65  \\\n",
            "0      117107  217610  Mixed-Humid                4A       U  To_compute   \n",
            "1      112324  216582       Marine                4C       R  To_compute   \n",
            "2      104821   63587  Mixed-Humid                4A       U  To_compute   \n",
            "3      106481   85867  Mixed-Humid                3A       U  To_compute   \n",
            "4      113761  378348         Cold                5A       R  To_compute   \n",
            "...       ...     ...          ...               ...     ...         ...   \n",
            "15491  116913  437666  Mixed-Humid                4A       U  To_compute   \n",
            "15492  110887  123883  Mixed-Humid                4A       U  To_compute   \n",
            "15493  115454   90396  Mixed-Humid                4A       R  To_compute   \n",
            "15494  115493  137470    Hot-Humid                2A       R  To_compute   \n",
            "15495  117900  464143  Mixed-Humid                4A       U  To_compute   \n",
            "\n",
            "            cdd65  hdd30yr_pub  cdd30yr_pub  typehuq  ...  HOUSEHOLDER_RACE  \\\n",
            "0      To_compute         4505         1372        5  ...                 1   \n",
            "1      To_compute         5312          132        2  ...                 1   \n",
            "2      To_compute         3277         1543        2  ...                 2   \n",
            "3      To_compute         3116         1679        2  ...                 1   \n",
            "4      To_compute         5955          978        2  ...                 1   \n",
            "...           ...          ...          ...      ...  ...               ...   \n",
            "15491  To_compute         4869         1067        5  ...                 1   \n",
            "15492  To_compute         4739         1108        5  ...                 1   \n",
            "15493  To_compute         3557         1515        2  ...                 1   \n",
            "15494  To_compute         1904         2459        1  ...                 6   \n",
            "15495  To_compute         3766         1916        2  ...                 1   \n",
            "\n",
            "       NHSLDMEM  NUMCHILD  NUMADULT1  NUMADULT2  ATHOME  MONEYPY  HDD65_sum  \\\n",
            "0             2         1          1          0       5        9       3886   \n",
            "1             3         0          2          1       5       11       4475   \n",
            "2             4         2          2          0       5       15       2643   \n",
            "3             3         2          1          0       2        1       2909   \n",
            "4             3         1          2          0       1       13       5841   \n",
            "...         ...       ...        ...        ...     ...      ...        ...   \n",
            "15491         1         0          1          0       2       11       3900   \n",
            "15492         2         0          2          0       5       16       4206   \n",
            "15493         3         0          3          0       5       16       2680   \n",
            "15494         2         0          2          0       5       13       1373   \n",
            "15495         1         0          1          0       5       15       3967   \n",
            "\n",
            "       CDD65_sum  time_y  \n",
            "0           1389    2020  \n",
            "1            220    2020  \n",
            "2           1761    2020  \n",
            "3           1552    2020  \n",
            "4           1045    2020  \n",
            "...          ...     ...  \n",
            "15491       1255    2020  \n",
            "15492       1361    2020  \n",
            "15493       1778    2020  \n",
            "15494       3040    2020  \n",
            "15495       1546    2020  \n",
            "\n",
            "[15424 rows x 296 columns]\n"
          ]
        }
      ],
      "source": [
        "print(merged_data)"
      ]
    },
    {
      "cell_type": "code",
      "execution_count": 278,
      "metadata": {
        "colab": {
          "base_uri": "https://localhost:8080/",
          "height": 587
        },
        "id": "1rc-YUZ4n1h3",
        "outputId": "2950b201-4abe-418e-ac48-dc4530def27e"
      },
      "outputs": [
        {
          "output_type": "display_data",
          "data": {
            "text/plain": [
              "<Figure size 1200x800 with 1 Axes>"
            ],
            "image/png": "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\n"
          },
          "metadata": {}
        }
      ],
      "source": [
        "possible_outliers = ['HDD65_sum', 'CDD65_sum', 'hdd30yr_pub', 'cdd30yr_pub', 'sqftest', 'totsqft_en', 'tothsqft', 'totcsqft']\n",
        "plt.figure(figsize=(12, 8))\n",
        "sns.boxplot(data=merged_data[possible_outliers], orient='h')\n",
        "plt.title('Boxplots of selected variables')\n",
        "plt.xlabel('Values')\n",
        "plt.show()"
      ]
    },
    {
      "cell_type": "code",
      "execution_count": 279,
      "metadata": {
        "id": "ofb6BVtQn1km"
      },
      "outputs": [],
      "source": [
        "def detect_outliers_tukey(data):\n",
        "    Q1 = np.percentile(data, 25)\n",
        "    Q3 = np.percentile(data, 75)\n",
        "    IQR = Q3 - Q1\n",
        "    lower_bound = Q1 - 1.5 * IQR\n",
        "    upper_bound = Q3 + 1.5 * IQR\n",
        "    outliers = (data < lower_bound) | (data > upper_bound)\n",
        "    return outliers"
      ]
    },
    {
      "cell_type": "code",
      "execution_count": 280,
      "metadata": {
        "id": "iaZ02wLjn1o-"
      },
      "outputs": [],
      "source": [
        "columns_to_check = ['HDD65_sum', 'CDD65_sum', 'hdd30yr_pub', 'cdd30yr_pub', 'sqftest', 'totsqft_en', 'tothsqft', 'totcsqft']"
      ]
    },
    {
      "cell_type": "code",
      "execution_count": 281,
      "metadata": {
        "colab": {
          "base_uri": "https://localhost:8080/"
        },
        "id": "2ffFSryhn1sP",
        "outputId": "c7a690dd-1066-4c25-f52e-3a52277da1c5"
      },
      "outputs": [
        {
          "output_type": "stream",
          "name": "stdout",
          "text": [
            "Number of outliers in'HDD65_sum': 65\n",
            "Number of outliers in'CDD65_sum': 1590\n",
            "Number of outliers in'hdd30yr_pub': 64\n",
            "Number of outliers in'cdd30yr_pub': 896\n",
            "Number of outliers in'sqftest': 480\n",
            "Number of outliers in'totsqft_en': 471\n",
            "Number of outliers in'tothsqft': 444\n",
            "Number of outliers in'totcsqft': 315\n"
          ]
        }
      ],
      "source": [
        "for column in columns_to_check:\n",
        "    outliers = detect_outliers_tukey(merged_data[column])\n",
        "    print(f\"Number of outliers in'{column}': {outliers.sum()}\")"
      ]
    },
    {
      "cell_type": "code",
      "execution_count": 282,
      "metadata": {
        "id": "HM1CyDgDvr5o"
      },
      "outputs": [],
      "source": [
        "outliers_HDD65_sum = detect_outliers_tukey(merged_data['HDD65_sum'])"
      ]
    },
    {
      "cell_type": "code",
      "execution_count": 283,
      "metadata": {
        "id": "sROJca8-vr8W"
      },
      "outputs": [],
      "source": [
        "outliers_hdd30yr_pub = detect_outliers_tukey(merged_data['hdd30yr_pub'])"
      ]
    },
    {
      "cell_type": "code",
      "execution_count": 284,
      "metadata": {
        "colab": {
          "base_uri": "https://localhost:8080/"
        },
        "id": "3Yq94CIivr-_",
        "outputId": "03a9f4b9-7158-454f-a132-d6ce877a72c7"
      },
      "outputs": [
        {
          "output_type": "stream",
          "name": "stdout",
          "text": [
            "Number of DOEIDs in common for outliers between 'HDD65_sum' and 'hdd30yr_pub': 51\n"
          ]
        }
      ],
      "source": [
        "common_outliers_HDD = merged_data.loc[outliers_HDD65_sum & outliers_hdd30yr_pub, 'DOEID']\n",
        "\n",
        "total_common_outliers_HDD2 = len(common_outliers_HDD)\n",
        "print(\"Number of DOEIDs in common for outliers between 'HDD65_sum' and 'hdd30yr_pub':\", total_common_outliers_HDD2)"
      ]
    },
    {
      "cell_type": "code",
      "execution_count": 285,
      "metadata": {
        "colab": {
          "base_uri": "https://localhost:8080/",
          "height": 472
        },
        "id": "xxQw_eE6vsBt",
        "outputId": "86a3aa0d-251f-4df4-b4aa-c95e42b974dd"
      },
      "outputs": [
        {
          "output_type": "display_data",
          "data": {
            "text/plain": [
              "<Figure size 640x480 with 1 Axes>"
            ],
            "image/png": "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\n"
          },
          "metadata": {}
        }
      ],
      "source": [
        "hdd_data = merged_data['HDD65_sum']\n",
        "plt.hist(hdd_data, bins=30, color='skyblue', edgecolor='black')\n",
        "plt.title('Histogram of HDD65_sum')\n",
        "plt.xlabel('Values of HDD65_sum')\n",
        "plt.ylabel('Frequency')\n",
        "plt.show()"
      ]
    },
    {
      "cell_type": "code",
      "execution_count": 286,
      "metadata": {
        "colab": {
          "base_uri": "https://localhost:8080/",
          "height": 472
        },
        "id": "kl5qMRiWvsEe",
        "outputId": "772e07a7-6ccf-4d62-b8a5-a1456a42df05"
      },
      "outputs": [
        {
          "output_type": "display_data",
          "data": {
            "text/plain": [
              "<Figure size 640x480 with 1 Axes>"
            ],
            "image/png": "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\n"
          },
          "metadata": {}
        }
      ],
      "source": [
        "hdd_data_without_outliers = merged_data.loc[~outliers_HDD65_sum, 'HDD65_sum']\n",
        "plt.hist(hdd_data_without_outliers, bins=30, color='skyblue', edgecolor='black')\n",
        "plt.title('Histogram of HDD65_sum (without outliers)')\n",
        "plt.xlabel('Values of HDD65_sum')\n",
        "plt.ylabel('Frequency')\n",
        "plt.show()"
      ]
    },
    {
      "cell_type": "code",
      "execution_count": 287,
      "metadata": {
        "id": "7wxGEmIPvsHO"
      },
      "outputs": [],
      "source": [
        "outliers_TOTSQFT_EN = detect_outliers_tukey(merged_data['totsqft_en'])"
      ]
    },
    {
      "cell_type": "code",
      "execution_count": 288,
      "metadata": {
        "id": "qIkA0c710-nD"
      },
      "outputs": [],
      "source": [
        "outliers_TOTHSQFT = detect_outliers_tukey(merged_data['tothsqft'])"
      ]
    },
    {
      "cell_type": "code",
      "execution_count": 289,
      "metadata": {
        "id": "3acxdsRS0-pr"
      },
      "outputs": [],
      "source": [
        "outliers_TOTCSQFT = detect_outliers_tukey(merged_data['totcsqft'])\n",
        "\n",
        "outliers_communs_TOTSQFT = outliers_TOTSQFT_EN & outliers_TOTHSQFT & outliers_TOTCSQFT\n",
        "\n",
        "shared_outliers_TOTSQFT = np.sum(outliers_communs_TOTSQFT)\n"
      ]
    },
    {
      "cell_type": "code",
      "execution_count": 290,
      "metadata": {
        "colab": {
          "base_uri": "https://localhost:8080/"
        },
        "id": "8WgGqEkv0-sU",
        "outputId": "b4cc5d67-7417-4bd8-b8bd-90f273c74fc6"
      },
      "outputs": [
        {
          "output_type": "stream",
          "name": "stdout",
          "text": [
            "Number of outliers in commun between TOTSQFT_EN, TOTHSQFT and TOTCSQFT: 244\n"
          ]
        }
      ],
      "source": [
        "print(\"Number of outliers in commun between TOTSQFT_EN, TOTHSQFT and TOTCSQFT:\", shared_outliers_TOTSQFT)\n"
      ]
    },
    {
      "cell_type": "markdown",
      "metadata": {
        "id": "LOzZ8rY03HlV"
      },
      "source": [
        "##REMOVE OUTLIERS"
      ]
    },
    {
      "cell_type": "code",
      "execution_count": 291,
      "metadata": {
        "id": "3a-P_LHB0-xr"
      },
      "outputs": [],
      "source": [
        "variables_to_process = ['HDD65_sum', 'CDD65_sum', 'hdd30yr_pub', 'cdd30yr_pub', 'sqftest', 'totsqft_en', 'tothsqft', 'totcsqft']\n"
      ]
    },
    {
      "cell_type": "code",
      "execution_count": 292,
      "metadata": {
        "id": "4-vnCBoQ0-0Q"
      },
      "outputs": [],
      "source": [
        "for variable in variables_to_process:\n",
        "    outliers = detect_outliers_tukey(merged_data[variable])\n",
        "    merged_data = merged_data[~outliers]"
      ]
    },
    {
      "cell_type": "code",
      "execution_count": 293,
      "metadata": {
        "colab": {
          "base_uri": "https://localhost:8080/"
        },
        "id": "rBBqFl670-2n",
        "outputId": "23031657-4bf2-4321-ae27-910a7cca50a5"
      },
      "outputs": [
        {
          "output_type": "stream",
          "name": "stdout",
          "text": [
            "Size of DataFrame after removing outliers: (12744, 296)\n"
          ]
        }
      ],
      "source": [
        "print(\"Size of DataFrame after removing outliers:\", merged_data.shape)"
      ]
    },
    {
      "cell_type": "code",
      "execution_count": 294,
      "metadata": {
        "colab": {
          "base_uri": "https://localhost:8080/"
        },
        "id": "MD6rmfYC0-71",
        "outputId": "58bd8a2a-66aa-4efb-c95a-56c6198edadb"
      },
      "outputs": [
        {
          "output_type": "stream",
          "name": "stdout",
          "text": [
            "Shape of dataset : (12744, 296)\n"
          ]
        }
      ],
      "source": [
        "shape_dataset = merged_data.shape\n",
        "\n",
        "print(\"Shape of dataset :\", shape_dataset)"
      ]
    },
    {
      "cell_type": "markdown",
      "metadata": {
        "id": "Wysdj-tf5mQb"
      },
      "source": [
        "##CHECKING SINGLE VALUES"
      ]
    },
    {
      "cell_type": "code",
      "execution_count": 295,
      "metadata": {
        "colab": {
          "base_uri": "https://localhost:8080/"
        },
        "id": "kJvuP-vE0_A4",
        "outputId": "cec1d4d8-8812-4c2f-ee1e-124dfd2761d0"
      },
      "outputs": [
        {
          "output_type": "stream",
          "name": "stdout",
          "text": [
            "Unique values in the column 'DOEID':\n",
            "[117107 112324 104821 ... 110887 115454 115493]\n",
            "\n",
            "\n",
            "Unique values in the column 'HHID':\n",
            "[217610 216582  63587 ... 123883  90396 137470]\n",
            "\n",
            "\n",
            "Unique values in the column 'ba_climate':\n",
            "['Mixed-Humid' 'Marine' 'Cold' 'Very-Cold' 'Hot-Humid' 'Hot-Dry'\n",
            " 'Mixed-Dry']\n",
            "\n",
            "\n",
            "Unique values in the column 'iecc_climate_code':\n",
            "['4A' '4C' '3A' '5A' '7AK' '5B' '2A' '6A' '3C' '3B' '7A' '6B' '4B' '1A'\n",
            " '7B' '2B']\n",
            "\n",
            "\n",
            "Unique values in the column 'uatyp10':\n",
            "['U' 'R' 'C']\n",
            "\n",
            "\n",
            "Unique values in the column 'hdd65':\n",
            "['To_compute']\n",
            "\n",
            "\n",
            "Unique values in the column 'cdd65':\n",
            "['To_compute']\n",
            "\n",
            "\n",
            "Unique values in the column 'hdd30yr_pub':\n",
            "[4505 5312 3277 ... 5877 7194 1067]\n",
            "\n",
            "\n",
            "Unique values in the column 'cdd30yr_pub':\n",
            "[1372  132 1543 ... 2287 2565 2129]\n",
            "\n",
            "\n",
            "Unique values in the column 'typehuq':\n",
            "[5 2 3 4 1]\n",
            "\n",
            "\n",
            "Unique values in the column 'cellar':\n",
            "[-2  0  1]\n",
            "\n",
            "\n",
            "Unique values in the column 'crawl':\n",
            "[-2  1  0]\n",
            "\n",
            "\n",
            "Unique values in the column 'concrete':\n",
            "[-2  1  0]\n",
            "\n",
            "\n",
            "Unique values in the column 'baseoth':\n",
            "[-2  0  1]\n",
            "\n",
            "\n",
            "Unique values in the column 'basefin':\n",
            "[-2  1  0]\n",
            "\n",
            "\n",
            "Unique values in the column 'attic':\n",
            "[-2  1  0]\n",
            "\n",
            "\n",
            "Unique values in the column 'atticfin':\n",
            "[-2  0  1]\n",
            "\n",
            "\n",
            "Unique values in the column 'stories':\n",
            "[-2  2  1  5  3  4]\n",
            "\n",
            "\n",
            "Unique values in the column 'prkgplc1':\n",
            "[-2  0  1]\n",
            "\n",
            "\n",
            "Unique values in the column 'sizeofgarage':\n",
            "[-2  2  1  3]\n",
            "\n",
            "\n",
            "Unique values in the column 'kownrent':\n",
            "[1 2 3]\n",
            "\n",
            "\n",
            "Unique values in the column 'yearmaderange':\n",
            "[3 1 8 9 4 5 6 2 7]\n",
            "\n",
            "\n",
            "Unique values in the column 'bedrooms':\n",
            "[2 4 5 1 3 0 6]\n",
            "\n",
            "\n",
            "Unique values in the column 'ncombath':\n",
            "[1 2 3 4 0]\n",
            "\n",
            "\n",
            "Unique values in the column 'nhafbath':\n",
            "[1 0 2]\n",
            "\n",
            "\n",
            "Unique values in the column 'othrooms':\n",
            "[2 5 4 3 6 1 7 8 9]\n",
            "\n",
            "\n",
            "Unique values in the column 'totrooms':\n",
            "[ 4  9  3  6  5  8  7 10 11 12  2  1 13 15 14]\n",
            "\n",
            "\n",
            "Unique values in the column 'studio':\n",
            "[ 0 -2  1]\n",
            "\n",
            "\n",
            "Unique values in the column 'walltype':\n",
            "[ 1  2  3  7  5  4  6 99]\n",
            "\n",
            "\n",
            "Unique values in the column 'rooftype':\n",
            "[-2  5  3  2  6 99  1  4]\n",
            "\n",
            "\n",
            "Unique values in the column 'highceil':\n",
            "[ 0  1 -2]\n",
            "\n",
            "\n",
            "Unique values in the column 'door1sum':\n",
            "[0 1 2 4 3 5 6 9 8 7]\n",
            "\n",
            "\n",
            "Unique values in the column 'windows':\n",
            "[3 7 6 2 1 4 5]\n",
            "\n",
            "\n",
            "Unique values in the column 'typeglass':\n",
            "[1 2 3]\n",
            "\n",
            "\n",
            "Unique values in the column 'origwin':\n",
            "[0 1]\n",
            "\n",
            "\n",
            "Unique values in the column 'winframe':\n",
            "[2 3 1 4 5]\n",
            "\n",
            "\n",
            "Unique values in the column 'treeshad':\n",
            "[0 1]\n",
            "\n",
            "\n",
            "Unique values in the column 'adqinsul':\n",
            "[4 2 1 3]\n",
            "\n",
            "\n",
            "Unique values in the column 'drafty':\n",
            "[1 4 3 2]\n",
            "\n",
            "\n",
            "Unique values in the column 'ugashere':\n",
            "[1 0]\n",
            "\n",
            "\n",
            "Unique values in the column 'swimpool':\n",
            "[-2  0  1]\n",
            "\n",
            "\n",
            "Unique values in the column 'monpool':\n",
            "[-2  4  3  5  6  8  9 12  2  0  7  1 10]\n",
            "\n",
            "\n",
            "Unique values in the column 'poolpump':\n",
            "[-2  1  0]\n",
            "\n",
            "\n",
            "Unique values in the column 'fuelpool':\n",
            "[-2  0  1  5 99  2  3]\n",
            "\n",
            "\n",
            "Unique values in the column 'recbath':\n",
            "[0 1]\n",
            "\n",
            "\n",
            "Unique values in the column 'montub':\n",
            "[-2  3 12  9  0  2  1  6  4  8  7 10  5 11]\n",
            "\n",
            "\n",
            "Unique values in the column 'fueltub':\n",
            "[-2  5  1  2  3]\n",
            "\n",
            "\n",
            "Unique values in the column 'numfrig':\n",
            "[1 3 2 0 5 4 6 7 8]\n",
            "\n",
            "\n",
            "Unique values in the column 'sizrfri1':\n",
            "[ 4  2  3 -2  1  5]\n",
            "\n",
            "\n",
            "Unique values in the column 'typerfr1':\n",
            "[ 4  2  5  3  1 -2]\n",
            "\n",
            "\n",
            "Unique values in the column 'agerfri1':\n",
            "[ 1  5  3  4  2  6 -2]\n",
            "\n",
            "\n",
            "Unique values in the column 'ice':\n",
            "[ 1  0 -2]\n",
            "\n",
            "\n",
            "Unique values in the column 'sizrfri2':\n",
            "[-2  4  1  2  3  5]\n",
            "\n",
            "\n",
            "Unique values in the column 'typerfr2':\n",
            "[-2  3  1  4  2  5]\n",
            "\n",
            "\n",
            "Unique values in the column 'agerfri2':\n",
            "[-2  6  1  3  5  2  4]\n",
            "\n",
            "\n",
            "Unique values in the column 'locrfri2':\n",
            "[-2  4  2  1  3 99]\n",
            "\n",
            "\n",
            "Unique values in the column 'winechill':\n",
            "[0 1]\n",
            "\n",
            "\n",
            "Unique values in the column 'numfreez':\n",
            "[0 1 2 3 4 6 7 8]\n",
            "\n",
            "\n",
            "Unique values in the column 'uprtfrzr':\n",
            "[-2  1  2]\n",
            "\n",
            "\n",
            "Unique values in the column 'sizfreez':\n",
            "[-2  3  2  1  4  5]\n",
            "\n",
            "\n",
            "Unique values in the column 'freezer':\n",
            "[-2  1  2]\n",
            "\n",
            "\n",
            "Unique values in the column 'agefrzr':\n",
            "[-2  6  2  1  5  3  4]\n",
            "\n",
            "\n",
            "Unique values in the column 'range':\n",
            "[1 0 2]\n",
            "\n",
            "\n",
            "Unique values in the column 'cooktop':\n",
            "[0 1 2]\n",
            "\n",
            "\n",
            "Unique values in the column 'oven':\n",
            "[0 1 2 3]\n",
            "\n",
            "\n",
            "Unique values in the column 'rangefuel':\n",
            "[ 1 -2 13  5  2]\n",
            "\n",
            "\n",
            "Unique values in the column 'rangeindt':\n",
            "[-2  0  1]\n",
            "\n",
            "\n",
            "Unique values in the column 'rcookuse':\n",
            "[20 -2  5  6 10  2  8  4  3  1 12  7  0 16 14 18 15 21 17 11 13  9 19]\n",
            "\n",
            "\n",
            "Unique values in the column 'rovenuse':\n",
            "[ 8 -2  3  6  5  2  4  1  7  0 10 20 12 14 15 11  9 21 18 16 17]\n",
            "\n",
            "\n",
            "Unique values in the column 'cooktopfuel':\n",
            "[-2  2  5  1]\n",
            "\n",
            "\n",
            "Unique values in the column 'cooktopindt':\n",
            "[-2  0  1]\n",
            "\n",
            "\n",
            "Unique values in the column 'cooktopuse':\n",
            "[-2  8  7 20 21  5 10  1  2 15  0  4 18 12  6 14  3  9 11 19 16 17 13]\n",
            "\n",
            "\n",
            "Unique values in the column 'ovenfuel':\n",
            "[-2  5  1  2]\n",
            "\n",
            "\n",
            "Unique values in the column 'ovenuse':\n",
            "[-2 20  5  4  8  3  2  0  1  7  9 10  6 15 12 14 16 18 13]\n",
            "\n",
            "\n",
            "Unique values in the column 'micro':\n",
            "[1 0 2 3]\n",
            "\n",
            "\n",
            "Unique values in the column 'amtmicro':\n",
            "[30 20  3  7 14 10  9  5  6  2 12 -2 26 25  8 21 40 15 18 50  4 68 19 65\n",
            "  0  1 28 35 42 29 70 13 16 24 56 60 17 37 48 52 11 49 54 22 27 32 45 63\n",
            " 23 59 66 33 67 55 36 46 41 38]\n",
            "\n",
            "\n",
            "Unique values in the column 'outgrillfuel':\n",
            "[-2  2 23  1]\n",
            "\n",
            "\n",
            "Unique values in the column 'outgrill':\n",
            "[0 1]\n",
            "\n",
            "\n",
            "Unique values in the column 'nummeal':\n",
            "[3 1 2 4 6 5 0]\n",
            "\n",
            "\n",
            "Unique values in the column 'usecoffee':\n",
            "[0 1 2 3]\n",
            "\n",
            "\n",
            "Unique values in the column 'toast':\n",
            "[0 1]\n",
            "\n",
            "\n",
            "Unique values in the column 'toastovn':\n",
            "[1 0]\n",
            "\n",
            "\n",
            "Unique values in the column 'crockpot':\n",
            "[0 1]\n",
            "\n",
            "\n",
            "Unique values in the column 'prsscook':\n",
            "[0 1]\n",
            "\n",
            "\n",
            "Unique values in the column 'ricecook':\n",
            "[0 1]\n",
            "\n",
            "\n",
            "Unique values in the column 'blender':\n",
            "[1 0]\n",
            "\n",
            "\n",
            "Unique values in the column 'appother':\n",
            "[0 1]\n",
            "\n",
            "\n",
            "Unique values in the column 'elfood':\n",
            "[0 1]\n",
            "\n",
            "\n",
            "Unique values in the column 'lpcook':\n",
            "[0 1]\n",
            "\n",
            "\n",
            "Unique values in the column 'ugcook':\n",
            "[1 0]\n",
            "\n",
            "\n",
            "Unique values in the column 'dishwash':\n",
            "[1 0]\n",
            "\n",
            "\n",
            "Unique values in the column 'dwashuse':\n",
            "[10  7  8 -2  5  0  2  3  9  4  1  6 14 12 15 20 18 21 11 17 13 16]\n",
            "\n",
            "\n",
            "Unique values in the column 'dwcycle':\n",
            "[ 2 -2  3  5  1  6  4]\n",
            "\n",
            "\n",
            "Unique values in the column 'agedw':\n",
            "[ 3  5 -2  1  4  2  6]\n",
            "\n",
            "\n",
            "Unique values in the column 'cwasher':\n",
            "[0 1]\n",
            "\n",
            "\n",
            "Unique values in the column 'topfront':\n",
            "[-2  1  2]\n",
            "\n",
            "\n",
            "Unique values in the column 'washload':\n",
            "[-2 25  3  4 10 14  1  2  5  6  8  7 12  0 15 20 16  9 11 21 18 28 17 13\n",
            " 30 22 23]\n",
            "\n",
            "\n",
            "Unique values in the column 'washtemp':\n",
            "[-2  2  3  1]\n",
            "\n",
            "\n",
            "Unique values in the column 'agecwash':\n",
            "[-2  5  3  1  2  4  6]\n",
            "\n",
            "\n",
            "Unique values in the column 'dryer':\n",
            "[0 1]\n",
            "\n",
            "\n",
            "Unique values in the column 'dryrfuel':\n",
            "[-2  5  1  2]\n",
            "\n",
            "\n",
            "Unique values in the column 'dryruse':\n",
            "[-2 25  3  4 10 14  2  5  1  6  8  7 12  0 15 20  9 16 11 21 18 28 17 13\n",
            " 30]\n",
            "\n",
            "\n",
            "Unique values in the column 'agecdryer':\n",
            "[-2  5  3  1  6  2  4]\n",
            "\n",
            "\n",
            "Unique values in the column 'tvcolor':\n",
            "[ 1  2  5  3  0  7  4  6 11 10  8  9]\n",
            "\n",
            "\n",
            "Unique values in the column 'tvsize1':\n",
            "[ 3  2 -2  4  1]\n",
            "\n",
            "\n",
            "Unique values in the column 'tvtype1':\n",
            "[ 1  3  2 -2  5  4]\n",
            "\n",
            "\n",
            "Unique values in the column 'tvuse1':\n",
            "[ 1  2  5  3  4 -2 99]\n",
            "\n",
            "\n",
            "Unique values in the column 'tvonwd1':\n",
            "[ 4.  16.  12.   5.  10.  -2.   3.   6.   8.   2.   0.5  1.   7.  24.\n",
            " 15.   9.  20.  17.  18.  14.  13.   0.  11.  22.  19.  21.  23. ]\n",
            "\n",
            "\n",
            "Unique values in the column 'tvonwe1':\n",
            "[ 3.  16.  15.   5.  10.  -2.   4.   8.   6.  11.   9.   2.   0.5  1.\n",
            " 24.  12.   7.  20.  17.  18.  14.  13.   0.  22.  23.  21.  19. ]\n",
            "\n",
            "\n",
            "Unique values in the column 'tvsize2':\n",
            "[-2  2  3  1  4]\n",
            "\n",
            "\n",
            "Unique values in the column 'tvtype2':\n",
            "[-2  3  2  1  5  4]\n",
            "\n",
            "\n",
            "Unique values in the column 'tvuse2':\n",
            "[-2  1  3  4  5  2 99]\n",
            "\n",
            "\n",
            "Unique values in the column 'tvonwd2':\n",
            "[-2.  12.   1.   2.  10.   4.   3.   5.   0.5  6.   8.   0.  15.  18.\n",
            " 22.  24.   7.  16.  20.  17.   9.  11.  14.  13.  19.  23. ]\n",
            "\n",
            "\n",
            "Unique values in the column 'tvonwe2':\n",
            "[-2.  12.   1.   4.  10.   0.   2.   3.   5.   0.5  6.   8.   9.   7.\n",
            " 17.  15.  18.  22.  24.  16.  20.  13.  14.  11.  23.  19. ]\n",
            "\n",
            "\n",
            "Unique values in the column 'tvsize3':\n",
            "[-2  1  3  2  4]\n",
            "\n",
            "\n",
            "Unique values in the column 'tvtype3':\n",
            "[-2  2  1  3  5  4]\n",
            "\n",
            "\n",
            "Unique values in the column 'tvuse3':\n",
            "[-2  4 99  5  3  1  2]\n",
            "\n",
            "\n",
            "Unique values in the column 'tvonwd3':\n",
            "[-2.  20.  10.   1.   5.   2.   0.5  3.   0.   7.   4.  18.  12.   8.\n",
            "  6.  16.  14.  15.  13.   9.  17.  24.  11. ]\n",
            "\n",
            "\n",
            "Unique values in the column 'tvonwe3':\n",
            "[-2.  18.  10.   1.   5.   2.   0.5  3.   0.   6.   4.  22.  15.   8.\n",
            " 20.   7.  12.  14.  13.  24.   9.  17.  16.  23.  11. ]\n",
            "\n",
            "\n",
            "Unique values in the column 'cablesat':\n",
            "[ 0  2  4  1 -2  3  5  6  8]\n",
            "\n",
            "\n",
            "Unique values in the column 'combodvr':\n",
            "[ 1  0  2 -2  3  4  5  6  7]\n",
            "\n",
            "\n",
            "Unique values in the column 'sepdvr':\n",
            "[ 0  2  1 -2  4  3  5  6]\n",
            "\n",
            "\n",
            "Unique values in the column 'intstream':\n",
            "[ 0  3  1 -2  2  7  4  6  5 10  8  9]\n",
            "\n",
            "\n",
            "Unique values in the column 'playsta':\n",
            "[ 0  3 -2  1  2  4  5  6]\n",
            "\n",
            "\n",
            "Unique values in the column 'dvd':\n",
            "[ 1  2  3 -2  0  4  5]\n",
            "\n",
            "\n",
            "Unique values in the column 'vcr':\n",
            "[ 1  0  2 -2  3  4  5]\n",
            "\n",
            "\n",
            "Unique values in the column 'tvaudiosys':\n",
            "[ 0  1 -2  2  4  3  5]\n",
            "\n",
            "\n",
            "Unique values in the column 'desktop':\n",
            "[2 1 0 3 4 5 7 6]\n",
            "\n",
            "\n",
            "Unique values in the column 'numlaptop':\n",
            "[ 1  2  0  3  4  5  6  8  7 20 12 10]\n",
            "\n",
            "\n",
            "Unique values in the column 'numtablet':\n",
            "[ 3  0  4  2  1  6  5  7 10  8]\n",
            "\n",
            "\n",
            "Unique values in the column 'elperiph':\n",
            "[ 1  0  2  3  4  8  5 10  6  7]\n",
            "\n",
            "\n",
            "Unique values in the column 'numsmphone':\n",
            "[ 2  3  4  1  0  6  7  5  8 10 11  9]\n",
            "\n",
            "\n",
            "Unique values in the column 'cellphone':\n",
            "[ 0  1  2  4  3  8  6  7  5  9 11 12]\n",
            "\n",
            "\n",
            "Unique values in the column 'tellwork':\n",
            "[0 1]\n",
            "\n",
            "\n",
            "Unique values in the column 'telldays':\n",
            "[-2  5  1  6  7  3  2  4  0]\n",
            "\n",
            "\n",
            "Unique values in the column 'tldesktop':\n",
            "[-2  0  1]\n",
            "\n",
            "\n",
            "Unique values in the column 'tllaptop':\n",
            "[-2  1  0]\n",
            "\n",
            "\n",
            "Unique values in the column 'tltablet':\n",
            "[-2  0  1]\n",
            "\n",
            "\n",
            "Unique values in the column 'tlmonitor':\n",
            "[-2  1  0]\n",
            "\n",
            "\n",
            "Unique values in the column 'tlother':\n",
            "[-2  0  1]\n",
            "\n",
            "\n",
            "Unique values in the column 'onlneduc':\n",
            "[1 0]\n",
            "\n",
            "\n",
            "Unique values in the column 'internet':\n",
            "[1 2 0]\n",
            "\n",
            "\n",
            "Unique values in the column 'intypecell':\n",
            "[ 1  0 -2]\n",
            "\n",
            "\n",
            "Unique values in the column 'intypebroad':\n",
            "[ 1  0 -2]\n",
            "\n",
            "\n",
            "Unique values in the column 'intypeoth':\n",
            "[ 0  1 -2]\n",
            "\n",
            "\n",
            "Unique values in the column 'smartspk':\n",
            "[ 0  2  6  1 -2  3  5  4  9  7  8]\n",
            "\n",
            "\n",
            "Unique values in the column 'sslight':\n",
            "[-2  0  1]\n",
            "\n",
            "\n",
            "Unique values in the column 'sstemp':\n",
            "[-2  0  1]\n",
            "\n",
            "\n",
            "Unique values in the column 'sssecure':\n",
            "[-2  0  1]\n",
            "\n",
            "\n",
            "Unique values in the column 'sstv':\n",
            "[-2  1  0]\n",
            "\n",
            "\n",
            "Unique values in the column 'ssother':\n",
            "[-2  0  1]\n",
            "\n",
            "\n",
            "Unique values in the column 'heathome':\n",
            "[1 0]\n",
            "\n",
            "\n",
            "Unique values in the column 'dntheat':\n",
            "[-2  1  2]\n",
            "\n",
            "\n",
            "Unique values in the column 'heatapt':\n",
            "[ 0 -2  1]\n",
            "\n",
            "\n",
            "Unique values in the column 'equipm':\n",
            "[ 5  3 99  4 -2  2  7 10  8 13]\n",
            "\n",
            "\n",
            "Unique values in the column 'fuelheat':\n",
            "[ 5  1 -2  3  2  7 99]\n",
            "\n",
            "\n",
            "Unique values in the column 'equipage':\n",
            "[ 2  3  1  6 -2  4  5]\n",
            "\n",
            "\n",
            "Unique values in the column 'geohp':\n",
            "[-2  0  1]\n",
            "\n",
            "\n",
            "Unique values in the column 'equipauxtype':\n",
            "[ 0  8 10  5  9 -2 99 13]\n",
            "\n",
            "\n",
            "Unique values in the column 'equipaux':\n",
            "[ 0  1 -2]\n",
            "\n",
            "\n",
            "Unique values in the column 'fuelaux':\n",
            "[-2  7  5  1  2  3 99]\n",
            "\n",
            "\n",
            "Unique values in the column 'useequipaux':\n",
            "[-2  3  5  4  1  2]\n",
            "\n",
            "\n",
            "Unique values in the column 'numportel':\n",
            "[-2  1  2  3  6  4  8  5  7]\n",
            "\n",
            "\n",
            "Unique values in the column 'numfireplc':\n",
            "[-2  1  2  3  7  4  5]\n",
            "\n",
            "\n",
            "Unique values in the column 'numdlhp':\n",
            "[-2  3  5  2  1  6  4  7  8]\n",
            "\n",
            "\n",
            "Unique values in the column 'baseheat':\n",
            "[-2  1  0]\n",
            "\n",
            "\n",
            "Unique values in the column 'attcheat':\n",
            "[-2  0  1]\n",
            "\n",
            "\n",
            "Unique values in the column 'gargheat':\n",
            "[-2  0  1]\n",
            "\n",
            "\n",
            "Unique values in the column 'humidtype':\n",
            "[1 2 0]\n",
            "\n",
            "\n",
            "Unique values in the column 'numporthum':\n",
            "[ 1  2 -2  3  4  5  6  8]\n",
            "\n",
            "\n",
            "Unique values in the column 'usehumid':\n",
            "[ 4 -2  2  1  3 99]\n",
            "\n",
            "\n",
            "Unique values in the column 'elwarm':\n",
            "[1 0]\n",
            "\n",
            "\n",
            "Unique values in the column 'ugwarm':\n",
            "[0 1]\n",
            "\n",
            "\n",
            "Unique values in the column 'lpwarm':\n",
            "[0 1]\n",
            "\n",
            "\n",
            "Unique values in the column 'fowarm':\n",
            "[0 1]\n",
            "\n",
            "\n",
            "Unique values in the column 'wdwarm':\n",
            "[0 1]\n",
            "\n",
            "\n",
            "Unique values in the column 'aircond':\n",
            "[1 0]\n",
            "\n",
            "\n",
            "Unique values in the column 'coolapt':\n",
            "[ 0 -2  1]\n",
            "\n",
            "\n",
            "Unique values in the column 'acequipm_pub':\n",
            "[ 4  1 -2  5  3  6]\n",
            "\n",
            "\n",
            "Unique values in the column 'acequipage':\n",
            "[ 2  3  1  6  4 -2  5]\n",
            "\n",
            "\n",
            "Unique values in the column 'acequipauxtype_pub':\n",
            "[ 0 -2  3  5  4  1  6]\n",
            "\n",
            "\n",
            "Unique values in the column 'numdlhpac':\n",
            "[-2  2  3  5  1  4  6  7  8]\n",
            "\n",
            "\n",
            "Unique values in the column 'numwwac':\n",
            "[ 1  3 -2  2  6  5  9  4  7  8]\n",
            "\n",
            "\n",
            "Unique values in the column 'numportac':\n",
            "[-2  1  2  4  8  3  5]\n",
            "\n",
            "\n",
            "Unique values in the column 'basecool':\n",
            "[-2  1  0]\n",
            "\n",
            "\n",
            "Unique values in the column 'attccool':\n",
            "[-2  0  1]\n",
            "\n",
            "\n",
            "Unique values in the column 'gargcool':\n",
            "[-2  0  1]\n",
            "\n",
            "\n",
            "Unique values in the column 'numcfan':\n",
            "[ 0  8  6  4  1  2  3  5  7  9 10 11]\n",
            "\n",
            "\n",
            "Unique values in the column 'numfloorfan':\n",
            "[0 4 2 3 1 5 6 7 9 8]\n",
            "\n",
            "\n",
            "Unique values in the column 'usecfan':\n",
            "[-2  4  1  3  2 99]\n",
            "\n",
            "\n",
            "Unique values in the column 'housefan':\n",
            "[-2  1  0]\n",
            "\n",
            "\n",
            "Unique values in the column 'atticfan':\n",
            "[-2  0  1]\n",
            "\n",
            "\n",
            "Unique values in the column 'dehumtype':\n",
            "[1 0 2]\n",
            "\n",
            "\n",
            "Unique values in the column 'numportdehum':\n",
            "[ 1  2 -2  3  6  8  5  4]\n",
            "\n",
            "\n",
            "Unique values in the column 'usedehum':\n",
            "[ 2  4 -2  3  1 99]\n",
            "\n",
            "\n",
            "Unique values in the column 'elcool':\n",
            "[1 0]\n",
            "\n",
            "\n",
            "Unique values in the column 'typetherm':\n",
            "[ 2  3  0  1 -2]\n",
            "\n",
            "\n",
            "Unique values in the column 'heatcntl':\n",
            "[ 4  3  2  1 -2  5 99]\n",
            "\n",
            "\n",
            "Unique values in the column 'temphome':\n",
            "[73 72 70 75 68 66 69 -2 81 74 50 67 71 80 65 78 79 63 64 77 60 62 76 85\n",
            " 55 59 61 82 58 90 54 86 84 88 89 56 57]\n",
            "\n",
            "\n",
            "Unique values in the column 'tempgone':\n",
            "[68 75 72 70 66 65 -2 73 69 62 74 76 50 55 71 80 79 64 60 63 67 58 77 78\n",
            " 59 61 57 54 52 82 56 85 90 81 86 51 84 89]\n",
            "\n",
            "\n",
            "Unique values in the column 'tempnite':\n",
            "[71 68 75 72 70 64 69 66 -2 81 67 60 74 50 65 55 73 76 63 79 62 80 58 77\n",
            " 56 61 78 59 54 90 52 85 57 82 83 51 88 87 84 53 89 86]\n",
            "\n",
            "\n",
            "Unique values in the column 'coolcntl':\n",
            "[ 2  3  1  4 -2  5 99]\n",
            "\n",
            "\n",
            "Unique values in the column 'temphomeac':\n",
            "[78 68 75 72 70 -2 76 66 80 60 74 65 50 77 67 82 73 69 71 63 59 64 55 62\n",
            " 79 85 58 90 54 84 56 53 86 81 61 57 83 87 88 51 52]\n",
            "\n",
            "\n",
            "Unique values in the column 'tempgoneac':\n",
            "[82 68 74 75 72 70 -2 78 66 63 76 60 80 73 71 65 50 77 67 85 69 59 64 90\n",
            " 84 79 55 62 89 58 83 88 61 81 54 52 87 86 56 57 53]\n",
            "\n",
            "\n",
            "Unique values in the column 'tempniteac':\n",
            "[74 68 66 75 72 65 70 -2 73 78 67 69 50 71 64 80 76 59 60 79 62 77 82 63\n",
            " 55 85 83 58 84 54 90 52 61 81 56 51 89 57 86]\n",
            "\n",
            "\n",
            "Unique values in the column 'h2oapt':\n",
            "[ 1 -2  0]\n",
            "\n",
            "\n",
            "Unique values in the column 'h2omain':\n",
            "[-2  1 99  4  2  3]\n",
            "\n",
            "\n",
            "Unique values in the column 'wheatsiz':\n",
            "[3 2 4 1]\n",
            "\n",
            "\n",
            "Unique values in the column 'wheatbkt':\n",
            "[ 1  0 -2]\n",
            "\n",
            "\n",
            "Unique values in the column 'wheatage':\n",
            "[3 6 1 4 2 5]\n",
            "\n",
            "\n",
            "Unique values in the column 'fuelh2o':\n",
            "[ 1  5  2  3  8  7 99]\n",
            "\n",
            "\n",
            "Unique values in the column 'morethan1h2o':\n",
            "[1 0]\n",
            "\n",
            "\n",
            "Unique values in the column 'fuelh2o2':\n",
            "[ 1 -2  5 99  2  7  8  3]\n",
            "\n",
            "\n",
            "Unique values in the column 'elwater':\n",
            "[0 1]\n",
            "\n",
            "\n",
            "Unique values in the column 'fowater':\n",
            "[0 1]\n",
            "\n",
            "\n",
            "Unique values in the column 'lpwater':\n",
            "[0 1]\n",
            "\n",
            "\n",
            "Unique values in the column 'solwater':\n",
            "[0 1]\n",
            "\n",
            "\n",
            "Unique values in the column 'wdwater':\n",
            "[0 1]\n",
            "\n",
            "\n",
            "Unique values in the column 'ugwater':\n",
            "[1 0]\n",
            "\n",
            "\n",
            "Unique values in the column 'lgtin1to4':\n",
            "[13  0  6  2  4 10 12 16  3  8  5  7  1 11 15  9 24 18 20 29 44 14 35 27\n",
            " 45 50 25 19 30 17 28 36 22 31 26 33 21 23 32 63 65 40 34 37 62 60 56 84\n",
            " 67 57 38 64 75 41 39 89 43 48 76]\n",
            "\n",
            "\n",
            "Unique values in the column 'lgtin4to8':\n",
            "[ 7 30  4  1  2  6 24  8  0  5 14 10  3 12 52 15 18 23  9 11 20 16 13 35\n",
            " 17 19 25 28 60 27 22 21 26 50 32 45 41 62 40 29 43 44 31 33 55 34 42 51]\n",
            "\n",
            "\n",
            "Unique values in the column 'lgtinmore8':\n",
            "[ 4  0  2  1 29  6  3  5 10 12  8  9  7 11 16 20 15 18 30 22 14 17 26 27\n",
            " 25 19 31 24 13 99 23 35 40 36 21]\n",
            "\n",
            "\n",
            "Unique values in the column 'lgtinled':\n",
            "[4 2 1 3 0]\n",
            "\n",
            "\n",
            "Unique values in the column 'lgtincfl':\n",
            "[0 2 4 3 1]\n",
            "\n",
            "\n",
            "Unique values in the column 'lgtincan':\n",
            "[3 4 2 0 1]\n",
            "\n",
            "\n",
            "Unique values in the column 'lgtoutany':\n",
            "[0 1]\n",
            "\n",
            "\n",
            "Unique values in the column 'lgtoutnite':\n",
            "[-2  4  2  1  5  3  6  8 20 10 12 13 16  9  7 19 11 24 30 34 15 14 22 21\n",
            " 23 17 50]\n",
            "\n",
            "\n",
            "Unique values in the column 'lgtoutled':\n",
            "[-2  1  0]\n",
            "\n",
            "\n",
            "Unique values in the column 'lgtoutcfl':\n",
            "[-2  0  1]\n",
            "\n",
            "\n",
            "Unique values in the column 'lgtoutcan':\n",
            "[-2  0  1]\n",
            "\n",
            "\n",
            "Unique values in the column 'elpay':\n",
            "[ 2  1  3 99]\n",
            "\n",
            "\n",
            "Unique values in the column 'ngpay':\n",
            "[ 2 -2  1  3 99]\n",
            "\n",
            "\n",
            "Unique values in the column 'lpgpay':\n",
            "[-2  1  2  3]\n",
            "\n",
            "\n",
            "Unique values in the column 'fopay':\n",
            "[-2  1  2  3 99]\n",
            "\n",
            "\n",
            "Unique values in the column 'smartmeter':\n",
            "[ 0  1 -4]\n",
            "\n",
            "\n",
            "Unique values in the column 'intdataacc':\n",
            "[-2  1  0]\n",
            "\n",
            "\n",
            "Unique values in the column 'medicaldev':\n",
            "[0. 1.]\n",
            "\n",
            "\n",
            "Unique values in the column 'powerout':\n",
            "[0 1]\n",
            "\n",
            "\n",
            "Unique values in the column 'whypowerout':\n",
            "[-2  1  3 99  2]\n",
            "\n",
            "\n",
            "Unique values in the column 'backup':\n",
            "[1 0]\n",
            "\n",
            "\n",
            "Unique values in the column 'solar':\n",
            "[-2  0  1]\n",
            "\n",
            "\n",
            "Unique values in the column 'elother':\n",
            "[1]\n",
            "\n",
            "\n",
            "Unique values in the column 'ugoth':\n",
            "[0 1]\n",
            "\n",
            "\n",
            "Unique values in the column 'lpother':\n",
            "[0 1]\n",
            "\n",
            "\n",
            "Unique values in the column 'foother':\n",
            "[0 1]\n",
            "\n",
            "\n",
            "Unique values in the column 'useel':\n",
            "[1]\n",
            "\n",
            "\n",
            "Unique values in the column 'useng':\n",
            "[1 0]\n",
            "\n",
            "\n",
            "Unique values in the column 'uselp':\n",
            "[0 1]\n",
            "\n",
            "\n",
            "Unique values in the column 'usefo':\n",
            "[0 1]\n",
            "\n",
            "\n",
            "Unique values in the column 'usesolar':\n",
            "[0 1]\n",
            "\n",
            "\n",
            "Unique values in the column 'usewood':\n",
            "[0 1]\n",
            "\n",
            "\n",
            "Unique values in the column 'allelec':\n",
            "[0 1]\n",
            "\n",
            "\n",
            "Unique values in the column 'sqftest':\n",
            "[ 900 3000  600  920  780 3650 2500 1440 1600 1720 1900 2000 1500 1300\n",
            " 1800  740 1570 2200  800 3300  950 1150 1000  680 1340 3200 1950 1450\n",
            "  700 1200 2050 1400 1350 2480 3600 1260  970 1980  980 1110 1170 2340\n",
            " 2090  870 2100 1700  500  940  640  880 1920 1750 1640 2600 1970  840\n",
            " 2860 2490 1060  890 2560 1250 2060 1680 2350 2800 1080 2380 1650 2420\n",
            " 1660 2990  650 2250 1280 2660  400 2900  850 1100 2400 1180 1160  560\n",
            " 2700 2230 1480  550 1070 3400 1580 1990 2170 1320 2120 1360  580 1770\n",
            "  830 2850 1230 1290 1310 1760  790 1190  960 1930 1630 2300 3190 1530\n",
            " 1470 1560 3110  420 1890  750 2520 1540 2950 3280 1010 3090 2190 1410\n",
            " 1820  540 1960 3500 1690 2110 1850 2180  860  380 1550  620  530 1620\n",
            " 3100  460 1020 1050 1490 3050 3540 1740 1520 3420 1380 2440 1120 1220\n",
            " 2290 1780  990 1710  590 3360  350 2780 2150  770 2770 3240 2960  910\n",
            " 2160  930 1040 1370 2010 2590  630  820 2650 2220 2630 2020 1420 2640\n",
            " 1030 1860  240 1880 1670 2910  720  760 1130 2750 2270 2710 2130 2030\n",
            " 1240 2690  670 1730 2070 1940 2550 2310 2040 1330  510 1810 3170 1790\n",
            " 1590 1210  810 3060 2280 1510 1610 2980 3390 2970 2530  480  450 3010\n",
            " 2730 2240 1090 2810 1830 2580 2920 2320 3530 1870 1430  710 2410 1460\n",
            " 2450 3250 2670 3120  430  610 1910  730 2080 3350 2460 3480 2330 1840\n",
            " 2790 3330 2830 3550 1140 1270 3220 3260 2680 3270 2510 3460 2260  690\n",
            " 2470 2210 2760  520 2430 2140 3130 2370 2820  660 3520 2840 3020 3160\n",
            " 1390 3490  570  300  340 3440 2880 3310 2540 3580 3150 3380 2360 3640\n",
            " 3210 2620  290 2720 2570 3590 2610 3230 3430 2390 3510  320 3450 2870\n",
            "  410 3370  370 2930  260 2740 3610 3070  470 3660 2940 2890 3080 3040\n",
            " 3180  440 3290 3030 3560 3630]\n",
            "\n",
            "\n",
            "Unique values in the column 'sqftrange':\n",
            "[3 8 2 7 4 5 6 1]\n",
            "\n",
            "\n",
            "Unique values in the column 'sqftincb':\n",
            "[-2  0  1]\n",
            "\n",
            "\n",
            "Unique values in the column 'sqftinca':\n",
            "[-2  0  1]\n",
            "\n",
            "\n",
            "Unique values in the column 'sqftincg':\n",
            "[-2  0  1]\n",
            "\n",
            "\n",
            "Unique values in the column 'totsqft_en':\n",
            "[ 900 3000  600 1800  920  780 2030 2500 1440 1600 1320 1900 2000 2250\n",
            " 1300  490 1570 2200  800 3300  950 1150 1000  680 2010 3200 1950 1450\n",
            "  700 1200 2050 1400 2600 2700 3130 1260  970 2970 2950 1110 2350 4000\n",
            " 2340 1500 1740 1520 3150  500  640  880 3070 1640  860 2400  840 1750\n",
            " 3260 3120 1060  890 2560 1250 2060 1680 1080 3570  820 2420 2990  650\n",
            " 1280 2660  400  850 2100 1100 1180 1160 1880  560 2550 1850 2230 2220\n",
            " 2370 2900 1700  550 1070 2300 3800 1580 3600 2460 2170 1980 2120 1710\n",
            "  580 1770  830 2850 2110 1290 4050 2610 1820 3020  790 1190 1930 2450\n",
            " 3590 1530 1920 1470 1560 3110 1430 1330 1650 2160  420 1890 1050  750\n",
            " 2520 3280 1010 3090 1360 3290 1410 3960  540 2360 3500 3370 1780 1960\n",
            " 1630  710 3750  380 1550 3400 1310 2020 3210  620  530 1620 3380  460\n",
            " 1020 2270 1970 3450 1910 3540 1130 1490 3420 1380 2490 2480 2440 1350\n",
            " 3080 3900 1840 2240 2090 4500  980 2290 3550  960  990 2810 2720 2690\n",
            " 2980 3430  590 2860 3360  350 2130 3230 4200  770 2770 1480 2570 3170\n",
            " 2840 3970 2960 1340  910  740 1540  610 1870 2800 1040 1370 2180 2590\n",
            "  630 2380 1460 3980 1940 2890 2650 1170 4400 2640 1030 3250  930 1860\n",
            "  240 4350  300 2910  720 1120 2080 2750 2630 3810 2710 3050 2670  760\n",
            " 2530 2330 1240 1670  510 1220 3510  670 3040 2070 3830 2310 3100 2740\n",
            " 2040  940 1660 3190 3880 3240 1990 2410 1810  810 1690 3060 2280 1730\n",
            " 1510 3220 3390  480 2830 1230  450 2260 1760 2730 1720 2150 3700 1090\n",
            " 1210 1830 3860 3730 2510 2320 3530 4410 4010  870 1270 2390 2210 2580\n",
            " 3850 1420 2880 3740  430 2870  730 2930 1140 3350 3790 3480  470 2920\n",
            " 4070 1390 3890 3670 2790 3330 3820 4300 3030 2680 3140 2760 3460 3620\n",
            "  690 3650 4480 2470  520  660 4280 2430 3470 2780 3320 1590 3310 2820\n",
            " 4180 3520 2140 3680 2190 3720 1790  360 3490  570 3780 3870  340 3440\n",
            " 2540 4250 3990 3920 3580 3160 4220 3630  250 3640 4030 2620  290 3710\n",
            " 4430 3760 4190 3910 4150 3940  320 3840  410 3010 3270 4120 3410 4130\n",
            "  390 1610  370 3340 4360 4460 4330 2940 3560  260 3610 4090 4340 3180\n",
            " 3950 4060 4080  310 3690 4420 4100  440 4450  330]\n",
            "\n",
            "\n",
            "Unique values in the column 'tothsqft':\n",
            "[ 900 3000  600 1800  920  780 2030 2500 1440 1600    0 1900 2000 1500\n",
            " 1300 2250  250 1570 2200  800 3300  950 1150 1000  680 2010 3200 1950\n",
            " 1450  700 1200 2050 1400 2600 2700 3130 1260  970 1980  980 1110 1350\n",
            " 1170 4000 2340 1740 2100 2950  500  640  880 1520 1750 1640  860 2400\n",
            "  840 3260 3120 1060 2560 1250 2060 1680 2350 1080 2380  820 2420 2990\n",
            "  650 1280 2660  400  480  850 1100 1180 1160  560 1700 1480 2230 2220\n",
            " 2900  550 1130 1070 2300 3800 1580  870 3600 2460 2170 1320 2120 1710\n",
            "  580 1770  830 2850 2110  430 1820 1510  790 1190  960 1930 2450 3590\n",
            " 1530 1920 1470 1560 3110 1430 1650 2160  420 1370 1890 1050  750 2520\n",
            " 2190 3280 1010  940 3090 1360 3290 1410  540 2360 3500 1690 1850 1270\n",
            " 1310  710  380 1550 3400 1340 1630 3210  620  530 1620  460  510 1090\n",
            " 2550  740 1970 3450 1490 3420 1380 2490 2480 1330 2440 3080 3900 1230\n",
            " 2240 3150 1220 2090 2290 1780  990 2810 2720 2690 3430  590 2860 3750\n",
            " 3360 2130 1020 3230  770 2770 2570 3170 1030 1960 2840  210 2960  910\n",
            "  300 1870 2800 1040 2180 2590  630 2370 1540 2650 1290 2630 2020 1880\n",
            " 2640 3250  930 1860  240  720  200 2910  160 1120 2080 3380 2750 3810\n",
            " 2670  760 2530 1240 3510  670 3040 2070 1730 3830 2310 3100  890 2040\n",
            "  320 1670  270 1990 3190 1940  230 3240 1590 2410 1810 3050  810 3060\n",
            " 2280  520 1460 3880 1610 2980 3390 2970 3370  450 3010 2260 1760 2730\n",
            " 1720 2150 1830 2580 1210 2320 2330 3530 3780  310 2390 2210  180 1660\n",
            " 1840 1420 2880 3740 3850  610 2870  730  330 3350 3550 3480  470 2920\n",
            "  690 2610 3890 3670  110 2790 3330 3820 2830 3220 3030 1140 2680 2930\n",
            " 3140 2760 3460 3620  190 3650  660 2470  440  350 2430 2780 2510 3320\n",
            " 3310 2820 3700 2140 3520 3720 1790  360 3020 1390 1910 3070 3490 3870\n",
            " 2710  570  340 3440 2270 2540 2890  370 3920 3580 3160 3630 3640 2620\n",
            "  290 3710 3860  410 3760 3470 3540 2740 3910  280 3270  220 3410 3970\n",
            "  390 3840 3730  170 3340  100 3680 2940  260  490 3610 3180 3950 3690\n",
            " 3980 3940  130 3560   40]\n",
            "\n",
            "\n",
            "Unique values in the column 'totcsqft':\n",
            "[ 220 1000 3000  200 1800  920  780    0 2030 2500 1440 1600 1320  230\n",
            " 1900 2000 1500 1300  150   40 1570 2200 3300  950  330   90 2010 3200\n",
            " 1050 1950 1450  170 1400 2600  800 2700 2480 1260  970 1980  980  740\n",
            " 1350  700 4000 2340 2090  870 2100 1700  500  300  600 1520 1750  640\n",
            " 1640  860 2070  840 2860 3120 1470 1060 2560 1250 2060 1680 2350 2800\n",
            " 1080  900 2380  820 2020 1200  190  270 2990 1280 2660 2400 1670  850\n",
            "  400 2050 1180  210 1100 2230 2900 1130 1070 2300 3400 1420 3600 1550\n",
            " 2170 2120 1710  380 1770  360 2850 2460 2110 2610 1170 1510  260 1190\n",
            "  240  960 1930 2450 2420 3190  440 1920 2250 1560 3110 1430  280 1780\n",
            "  420  390  350  680  560 2520 2950  750 3280 1010  310  160 3090 1360\n",
            " 1330 3290  710  140  580 1820  180 1960 3500 1690 1850 1020  520  120\n",
            "  650 1310 2880 1340 1630 3210 1620  460  340  480 1090  250  320 2550\n",
            "  760  490  530  110  770 2360  570  830 1740 3450 3420 1380 2490  620\n",
            "  430 3130 3900  410  550 1120 3150 1030 2290  990 1880 2690 3430 1530\n",
            "  630  100 2180  540 3230  450 1110 2770 1890 1940 1480 3170 1040 2840\n",
            " 3800 1150  910 2160  690   50 1870 1370 3100 1580  510  660  670 2590\n",
            " 1540 2650 1290 2220 2630 1990 3750  590 3250  470  720   80 2910 2670\n",
            " 2080  370 3380  290 2750 2270 2130 2530 2330 1650 1240 3510 3040 2310\n",
            "  890 1660 1220 1410 3240 1590  940 3060 2280 1730 3880  130 1610 2980\n",
            " 3390 1160 2190  880 1230 1790 3010 1760 2730 2150 2240 3260 2810 1830\n",
            " 1720 1210 2320 3530 1270 2410 1860 2960 2390 1460 1840 1490 3740  810\n",
            " 2440  730 3350 2370 3480 2040  790 2790 3330 2830 3550 2210 3030 1140\n",
            " 2680 2930 3140 3460 1810 2260 1970 2760  610 2430 2780 2510 3670 3320\n",
            " 2820 3700 3520 3720  930 3160 1910 3070 3490 3870 2710 2720 1390 2640\n",
            " 2540 2580 3780   70 3920 3580 3050 3630   60 3640 3360 2140 3710 3470\n",
            " 2570 3590 2620 2740 3850 2920 3270 2870 3310 3220 3840 2970 3410 3730\n",
            " 3340 3830 2890 3680 2940 4050 3610 2470 3370 3860 3020 3080 3970 3690\n",
            " 3180 3980 3560]\n",
            "\n",
            "\n",
            "Unique values in the column 'dbt1':\n",
            "[ 91.8  83.3  93.2  92.6  89.9  71.1  98.9  91.3  92.8  93.4  88.   85.6\n",
            "  90.2  90.1  91.4  82.2  78.7  83.7  86.4  98.6  94.3  87.6  78.9  88.4\n",
            "  90.4  95.3  89.1  90.   98.8  81.8  80.8  83.8  86.3  83.4  68.   90.6\n",
            "  91.1  86.5  88.2  88.3  89.8  87.9  89.7  84.3  89.6  92.9  87.8  96.7\n",
            "  96.8  68.1  94.5  72.7  74.7  86.9  90.3  85.3  93.   90.9  98.7  89.\n",
            "  90.8  91.5  88.9  94.7  88.5  85.5  97.1  71.6  97.4  93.3  83.   87.5\n",
            "  92.5  92.7  86.   84.1  88.6  86.7  84.5  82.5  87.7  97.9  93.1  96.5\n",
            "  94.   91.6  95.1  97.2  88.8  98.   92.4  88.7  80.7  65.7  89.5  88.1\n",
            "  85.9  94.8  99.2  85.   96.9  85.1  95.6 100.1  91.2  86.1  89.4  81.1\n",
            "  93.8  84.4  99.   91.   70.1  85.8  87.2  83.5  96.6  86.6  91.9  95.4\n",
            "  82.   65.8  86.2  79.8  90.7 106.4  98.2  84.2  82.1  85.7  87.   84.6\n",
            "  86.8  75.5  69.7  97.8  82.6  67.   99.1  94.1  91.7  95.2  92.1  79.\n",
            " 100.2  92.   78.8  82.3  81.9  81.7  93.5  99.4  94.6  96.4  90.5  82.4\n",
            "  87.4 103.7  70.4  71.5  81.5  63.2  76.   89.2  97.   97.5  98.4 100.4\n",
            "  81.   98.5  79.5  83.2 101.6  95.7  79.2  68.6  89.3  82.7  92.2  95.\n",
            "  78.1  94.2 101.9 100.8  84.8  93.9  83.9  83.6  79.3  99.5  72.4  59.2\n",
            "  81.3  74.2  93.6  85.2  95.8  92.3  96.3  84.9  93.7  80.2  94.9  84.\n",
            "  96.   71.9 102.2 100.   81.4  97.3  95.9  81.6  82.8  81.2  65.9  77.2\n",
            "  79.4  67.7 106.8  99.6  96.2  61.8 100.3  69.9  87.1  63.4  97.7  67.2\n",
            "  80.4  94.4  73.3 106.3  62.9  68.7  80.6 109.1  59.4  68.9  99.3  74.8\n",
            "  63.9  77.8  60.4  74.4  63.5  64.9  85.4]\n",
            "\n",
            "\n",
            "Unique values in the column 'dbt99':\n",
            "[ 20.7  24.8  21.5  25.1   0.6   5.7  -4.   27.4  11.5  22.5  31.7  27.3\n",
            "   3.2   8.9  15.7  -5.5  39.   45.7 -17.1   3.8  22.9  17.9 -14.5   1.2\n",
            "   8.5  22.2  33.8  15.5  23.1  13.    0.5  42.9   4.2  31.2  -0.1   4.3\n",
            "  24.5   5.1  20.8  16.6  -7.   10.    4.9   3.4  12.  -11.8   7.3  18.\n",
            "   9.3   0.7  13.6  21.6  -6.4  21.7  -6.6   9.6  43.6  33.4  18.6  30.7\n",
            "  29.6  -3.   26.5  45.2  26.8  25.9  43.9  -3.1  13.8  11.2  13.9  -7.3\n",
            "  19.6  29.9 -12.8   5.8  -2.7  41.1  18.7 -14.   39.7  30.4  -4.8   6.7\n",
            "  12.4  29.5   7.2 -13.1  28.    9.5  12.7   1.6  11.8  16.5   9.8   4.5\n",
            "  27.6  -4.1   6.9  17.6  -6.5  10.4  15.6   0.4  18.8  19.3  18.1  36.4\n",
            "  32.4  35.5  16.3  19.5  23.2   0.   -9.2  10.2  18.2   5.4  15.8  18.9\n",
            "   9.2  36.   38.6   4.8  16.1  23.3  16.   -0.4   7.5  44.9  25.2  -1.8\n",
            "   8.8  28.3  24.9  -5.8  10.3  26.1   8.7  28.2  34.    9.4  12.2  -3.6\n",
            "  19.2  -1.3  25.4   0.9  22.6  32.3   1.4  17.3  21.2   8.   10.6  -4.4\n",
            "   4.7   0.8  14.3  -0.2   2.6   9.    6.5  37.7  12.6   7.1  -8.3  14.2\n",
            "  -6.2  -1.6  33.7  31.8  18.4  14.   11.9  16.7  11.3  -9.1   9.7  33.9\n",
            "   7.4  -2.8  15.9  -9.5  38.7  29.8   9.1   3.1  27.8  10.1 -16.9   9.9\n",
            "   7.9  12.9  17.7  -2.5  11.7  17.8  27.    2.9  35.7  32.   28.1  27.1\n",
            "  13.4   1.9  32.5  25.   25.3  28.4  17.5  12.3   3.3  27.9   3.9  19.\n",
            "  27.5  26.7  -0.9  -3.2  -6.   30.2  42.1  12.8  23.6  27.7   3.   20.9\n",
            "   4.1   2.8  33.   -0.3  34.6  -0.7  28.5   5.6  -2.4   0.3  19.4  29.7\n",
            "  -9.8   1.5  -7.9  67.5  -2.9   6.2 -12.9  23.4   3.7 -12.   -1.5  18.3\n",
            " -13.    8.1  31.6  35.1  -3.4  30.   26.6  -8.5  -7.8  16.8 -10.4   6.8\n",
            "  -2.2  43.1  36.5   2.7  19.9  -4.2  23.9  24.7  18.5  35.6  30.3  35.\n",
            " -10.8  -9.   14.4   5.   63.9  16.2  33.1  -5.1  33.6  -8.   31.5   8.6\n",
            "   8.4  24.1  13.7 -13.9  42.8  28.8  -8.9   6.3 -14.7 -17.7   1.3  -7.4\n",
            "  33.2  20.5  41.   21.4  36.3  27.2  41.4  29.2  23.8 -11.2  65.9   6.6\n",
            "  -8.2   1.1  37.3  25.8 -16.5  26.4  25.7 -17.4  12.1  30.5 -17.5  -5.6\n",
            "  -1.4  35.8  36.1  26.2 -12.5  32.7   4.6   5.2  -2.   -2.3  32.8  15.4\n",
            "   1.   11.   -0.5  39.2  17.4  -6.9  -9.4  46.4  36.7  25.5  26.9  31.9\n",
            "  34.7  -7.6 -15.3  32.1  33.5  30.8  28.9  22.8  29.   60.7  -1.9   0.2\n",
            " -17.8  31.   24.6  11.6  -3.3  61.8  -6.3  42.5   5.3  -4.5 -13.3   2.1\n",
            "  19.1  31.3   7.8   6.4  14.1  -3.8  -8.7 -14.8   7.7  35.9  10.5 -10.3\n",
            " -11.4  -8.6  21.3 -19.6  -2.1 -11.3  -6.1  35.3  23.5 -12.7   2.   46.\n",
            "  -5.   -5.7   7.  -10.   37.2  34.9  17.1 -13.2  16.4  32.6  22.7 -13.4\n",
            "  21.   44.6 -14.9  15.1  20.2  -7.7  26.3  -8.1  44.2  38.8   5.5  34.4\n",
            "   0.1 -12.2  30.6 -16.   44.5 -20.   17.2  34.1  44.   -7.5  12.5 -19.8\n",
            "  -1.7 -12.3  15.2  37.4  31.4 -20.3  13.2 -19.2  45.5  40.6  -3.7 -17.2\n",
            "  -9.6]\n",
            "\n",
            "\n",
            "Unique values in the column 'gwt':\n",
            "[57.5 49.5 62.2 61.2 51.4 57.7 52.7 37.9 67.8 51.2 67.3 61.4 69.4 51.1\n",
            " 47.3 54.1 54.6 50.7 42.3 58.3 64.9 42.4 67.1 42.7 61.8 56.6 44.  44.7\n",
            " 50.8 60.  71.9 55.2 60.8 61.  49.9 62.1 54.7 47.  55.9 48.2 45.6 46.7\n",
            " 49.7 56.3 34.9 58.7 55.7 45.  52.9 46.6 49.8 53.5 43.6 52.5 46.5 58.5\n",
            " 43.4 62.6 42.1 62.  60.7 50.  55.8 64.7 50.1 46.3 51.  48.7 49.3 42.8\n",
            " 63.4 64.8 66.8 64.1 40.6 45.5 54.8 56.7 58.1 44.9 68.4 49.6 44.1 42.6\n",
            " 62.7 57.9 36.9 69.3 46.8 57.1 50.2 55.4 53.4 43.7 50.9 55.3 48.3 52.3\n",
            " 54.3 47.5 50.4 46.1 47.7 39.  53.3 57.6 62.3 59.7 60.5 56.2 70.8 49.1\n",
            " 66.4 44.2 49.2 61.6 42.9 61.7 59.2 54.5 60.2 59.3 55.1 51.3 65.6 60.4\n",
            " 45.4 45.1 68.5 62.9 54.2 44.8 50.6 48.4 53.1 52.2 61.3 53.  59.6 48.6\n",
            " 55.6 43.9 65.3 43.2 59.9 68.1 55.  59.1 53.9 45.9 56.4 42.  67.4 61.1\n",
            " 40.4 47.8 48.5 52.1 51.8 65.4 46.  45.2 41.4 49.4 53.2 47.2 57.2 40.2\n",
            " 54.4 44.3 71.3 69.9 58.6 70.6 43.5 57.4 70.5 61.9 52.6 38.5 72.5 50.5\n",
            " 65.9 48.1 43.8 61.5 57.  46.2 46.4 70.9 56.8 58.  51.7 71.6 49.  70.7\n",
            " 53.6 50.3 58.2 37.5 62.8 55.5 64.4 72.7 51.6 46.9 66.3 37.4 57.8 67.\n",
            " 65.7 65.  65.5 59.  54.  63.3 67.7 60.3 60.1 58.8 51.5 69.7 52.8 63.8\n",
            " 48.9 64.2 72.4 43.1 45.3 47.1 68.8 40.7 74.8 63.2 66.1 59.8 59.4 59.5\n",
            " 57.3 52.  71.4 58.4 65.8 69.8 63.5 64.6 56.5 71.2 62.5 42.2 39.7 64.5\n",
            " 42.5 41.8 45.7 37.8 53.8 67.6 48.8 38.8 47.4 56.9 38.4 71.7 56.1 60.9\n",
            " 56.  65.1 40.5 43.3 48.  68.2 52.4 77.4 72.2 53.7 51.9 70.2 39.6 41.1\n",
            " 67.5 64.  47.6 41.6 68.3 58.9 39.2 70.3 71.5 64.3 63.7 63.  41.9 54.9\n",
            " 66.  67.2 40.3 66.5 65.2 63.9 47.9 39.9 39.1 70.  62.4 71.  41.7 66.9\n",
            " 71.8 39.4 40.  60.6 70.1 44.5 45.8 40.1 66.7 41.5 72.8 72.3 43.  38.2\n",
            " 40.9 37.  66.6 63.1 72.6 69.1 68.9 44.6 68.7 44.4 39.8 36.8 37.3 41.3\n",
            " 68.  40.8 37.1 70.4 69.6 72.  69.  73.1 66.2 38.9 67.9 69.5 34.1 73.2\n",
            " 68.6 72.1 63.6 38.1 39.5 41.  41.2 69.2 71.1 36.3 73.  38.7 37.6 35.2\n",
            " 37.7 39.3 74.3]\n",
            "\n",
            "\n",
            "Unique values in the column 'woodtype':\n",
            "[-2  1  2]\n",
            "\n",
            "\n",
            "Unique values in the column 'outlet':\n",
            "[-2  1  0]\n",
            "\n",
            "\n",
            "Unique values in the column 'elecveh':\n",
            "[0 1]\n",
            "\n",
            "\n",
            "Unique values in the column 'evchrghome':\n",
            "[-2.  1.  0.]\n",
            "\n",
            "\n",
            "Unique values in the column 'evchrgapt':\n",
            "[-2  0  1]\n",
            "\n",
            "\n",
            "Unique values in the column 'evchrgwks':\n",
            "[-2.  0.  1.]\n",
            "\n",
            "\n",
            "Unique values in the column 'evchrgbus':\n",
            "[-2.  0.  1.]\n",
            "\n",
            "\n",
            "Unique values in the column 'evchrgmuni':\n",
            "[-2.  0.  1.]\n",
            "\n",
            "\n",
            "Unique values in the column 'evchrgdlr':\n",
            "[-2.  1.  0.]\n",
            "\n",
            "\n",
            "Unique values in the column 'evchrghwy':\n",
            "[-2.  1.  0.]\n",
            "\n",
            "\n",
            "Unique values in the column 'evchrgoth':\n",
            "[-2.  1.  0.]\n",
            "\n",
            "\n",
            "Unique values in the column 'evhomeamt':\n",
            "[-2.  1.  2.  3.  5.  6.  0.  4.]\n",
            "\n",
            "\n",
            "Unique values in the column 'evchrgtype':\n",
            "[-2.  1.  2.  0.]\n",
            "\n",
            "\n",
            "Unique values in the column 'REGIONC':\n",
            "['SOUTH' 'WEST' 'MIDWEST' 'NORTHEAST']\n",
            "\n",
            "\n",
            "Unique values in the column 'DIVISION':\n",
            "['South Atlantic' 'Pacific' 'West North Central' 'East North Central'\n",
            " 'West South Central' 'Mountain North' 'East South Central'\n",
            " 'Middle Atlantic' 'New England' 'Mountain South']\n",
            "\n",
            "\n",
            "Unique values in the column 'STATE_FIPS':\n",
            "[51 53 45 31 11 18  2 48 49  1 13 41 17 42 19 50  6 38 16 28 24 23 39 37\n",
            " 54 25 26 34 46 36 47 55  8 33 21 35 27  5 30 29 20 22  4 32 40 56 10  9\n",
            " 12 44 15]\n",
            "\n",
            "\n",
            "Unique values in the column 'state_postal':\n",
            "['VA' 'WA' 'SC' 'NE' 'DC' 'IN' 'AK' 'TX' 'UT' 'AL' 'GA' 'OR' 'IL' 'PA'\n",
            " 'IA' 'VT' 'CA' 'ND' 'ID' 'MS' 'MD' 'ME' 'OH' 'NC' 'WV' 'MA' 'MI' 'NJ'\n",
            " 'SD' 'NY' 'TN' 'WI' 'CO' 'NH' 'KY' 'NM' 'MN' 'AR' 'MT' 'MO' 'KS' 'LA'\n",
            " 'AZ' 'NV' 'OK' 'WY' 'DE' 'CT' 'FL' 'RI' 'HI']\n",
            "\n",
            "\n",
            "Unique values in the column 'state_name':\n",
            "['Virginia' 'Washington' 'South Carolina' 'Nebraska'\n",
            " 'District of Columbia' 'Indiana' 'Alaska' 'Texas' 'Utah' 'Alabama'\n",
            " 'Georgia' 'Oregon' 'Illinois' 'Pennsylvania' 'Iowa' 'Vermont'\n",
            " 'California' 'North Dakota' 'Idaho' 'Mississippi' 'Maryland' 'Maine'\n",
            " 'Ohio' 'North Carolina' 'West Virginia' 'Massachusetts' 'Michigan'\n",
            " 'New Jersey' 'South Dakota' 'New York' 'Tennessee' 'Wisconsin' 'Colorado'\n",
            " 'New Hampshire' 'Kentucky' 'New Mexico' 'Minnesota' 'Arkansas' 'Montana'\n",
            " 'Missouri' 'Kansas' 'Louisiana' 'Arizona' 'Nevada' 'Oklahoma' 'Wyoming'\n",
            " 'Delaware' 'Connecticut' 'Florida' 'Rhode Island' 'Hawaii']\n",
            "\n",
            "\n",
            "Unique values in the column 'HHSEX':\n",
            "[1 2]\n",
            "\n",
            "\n",
            "Unique values in the column 'HHAGE':\n",
            "[48 90 41 27 28 66 79 62 37 36 30 68 64 63 42 65 54 32 40 31 58 44 59 29\n",
            " 72 89 87 57 60 50 55 80 49 38 61 70 69 24 22 33 84 56 73 71 78 34 21 76\n",
            " 67 18 45 46 53 52 77 47 74 86 85 75 51 39 43 26 35 82 81 25 23 83 88 20\n",
            " 19]\n",
            "\n",
            "\n",
            "Unique values in the column 'EMPLOYHH':\n",
            "[4 3 2 1]\n",
            "\n",
            "\n",
            "Unique values in the column 'EDUCATION':\n",
            "[4 3 5 2 1]\n",
            "\n",
            "\n",
            "Unique values in the column 'SDESCENT':\n",
            "[0 1]\n",
            "\n",
            "\n",
            "Unique values in the column 'HOUSEHOLDER_RACE':\n",
            "[1 2 4 3 6 5]\n",
            "\n",
            "\n",
            "Unique values in the column 'NHSLDMEM':\n",
            "[2 3 4 1 5 6 7]\n",
            "\n",
            "\n",
            "Unique values in the column 'NUMCHILD':\n",
            "[1 0 2 3 4]\n",
            "\n",
            "\n",
            "Unique values in the column 'NUMADULT1':\n",
            "[1 2 0 3 4 5 6 7]\n",
            "\n",
            "\n",
            "Unique values in the column 'NUMADULT2':\n",
            "[0 1 2 3 6 4 5]\n",
            "\n",
            "\n",
            "Unique values in the column 'ATHOME':\n",
            "[5 2 1 3 0 4]\n",
            "\n",
            "\n",
            "Unique values in the column 'MONEYPY':\n",
            "[ 9 11 15  1 13 16  7  8 14  6  3 12  5 10  2  4]\n",
            "\n",
            "\n",
            "Unique values in the column 'HDD65_sum':\n",
            "[3886 4475 2643 ... 8427 5455 1373]\n",
            "\n",
            "\n",
            "Unique values in the column 'CDD65_sum':\n",
            "[1389  220 1761 ... 2122 2290 3186]\n",
            "\n",
            "\n",
            "Unique values in the column 'time_y':\n",
            "['2020']\n",
            "\n",
            "\n"
          ]
        }
      ],
      "source": [
        "for column in merged_data.columns:\n",
        "\n",
        "    print(f\"Unique values in the column '{column}':\")\n",
        "    print(merged_data[column].unique())\n",
        "    print(\"\\n\")\n"
      ]
    },
    {
      "cell_type": "markdown",
      "metadata": {
        "id": "G9N-KL9U6eSU"
      },
      "source": [
        "##CONVERSION OF VARIABLES IN \"INT64\""
      ]
    },
    {
      "cell_type": "code",
      "execution_count": 296,
      "metadata": {
        "id": "4IPlXqQP0_F8"
      },
      "outputs": [],
      "source": [
        "categorical_cols = []\n",
        "\n",
        "new_data = merged_data.copy()\n"
      ]
    },
    {
      "cell_type": "code",
      "execution_count": 297,
      "metadata": {
        "colab": {
          "base_uri": "https://localhost:8080/"
        },
        "id": "qCZHkxjdxIA-",
        "outputId": "06dc6467-872b-49e2-a6b6-38288598b288"
      },
      "outputs": [
        {
          "output_type": "stream",
          "name": "stdout",
          "text": [
            "<bound method IndexOpsMixin.tolist of Index(['DOEID', 'HHID', 'ba_climate', 'iecc_climate_code', 'uatyp10', 'hdd65',\n",
            "       'cdd65', 'hdd30yr_pub', 'cdd30yr_pub', 'typehuq',\n",
            "       ...\n",
            "       'HOUSEHOLDER_RACE', 'NHSLDMEM', 'NUMCHILD', 'NUMADULT1', 'NUMADULT2',\n",
            "       'ATHOME', 'MONEYPY', 'HDD65_sum', 'CDD65_sum', 'time_y'],\n",
            "      dtype='object', length=296)>\n"
          ]
        }
      ],
      "source": [
        "print(new_data.columns.tolist)"
      ]
    },
    {
      "cell_type": "code",
      "execution_count": 298,
      "metadata": {
        "colab": {
          "base_uri": "https://localhost:8080/"
        },
        "id": "rRJ6UhyyEgp8",
        "outputId": "5b636e0e-87c8-42f1-8636-78a08ea85e9c"
      },
      "outputs": [
        {
          "output_type": "stream",
          "name": "stdout",
          "text": [
            "     typehuq  cellar  crawl  concrete  baseoth  basefin  attic  atticfin  \\\n",
            "0          5      -2     -2        -2       -2       -2     -2        -2   \n",
            "1          2       0      1         1        0       -2      1         0   \n",
            "2          2       0      1         0        0       -2      1         0   \n",
            "3          2       0      1         0        0       -2      0        -2   \n",
            "4          2       1      0         0        0        1      1         0   \n",
            "..       ...     ...    ...       ...      ...      ...    ...       ...   \n",
            "334        4      -2     -2        -2       -2       -2     -2        -2   \n",
            "335        3       0      1         1        1       -2      0        -2   \n",
            "336        2       1      1         0        0        0      1         1   \n",
            "337        5      -2     -2        -2       -2       -2     -2        -2   \n",
            "338        2       0      0         1        0       -2      1         0   \n",
            "\n",
            "     stories  prkgplc1  ...  EMPLOYHH  EDUCATION  SDESCENT  HOUSEHOLDER_RACE  \\\n",
            "0         -2        -2  ...         4          4         0                 1   \n",
            "1          2         0  ...         3          3         0                 1   \n",
            "2          2         1  ...         2          5         0                 2   \n",
            "3          1         0  ...         1          2         0                 1   \n",
            "4          1         0  ...         1          1         0                 1   \n",
            "..       ...       ...  ...       ...        ...       ...               ...   \n",
            "334       -2        -2  ...         3          3         0                 2   \n",
            "335        1         1  ...         1          3         0                 2   \n",
            "336        2         0  ...         1          4         0                 4   \n",
            "337       -2        -2  ...         1          4         0                 1   \n",
            "338        1         1  ...         3          3         0                 1   \n",
            "\n",
            "     NHSLDMEM  NUMCHILD  NUMADULT1  NUMADULT2  ATHOME  MONEYPY  \n",
            "0           2         1          1          0       5        9  \n",
            "1           3         0          2          1       5       11  \n",
            "2           4         2          2          0       5       15  \n",
            "3           3         2          1          0       2        1  \n",
            "4           3         1          2          0       1       13  \n",
            "..        ...       ...        ...        ...     ...      ...  \n",
            "334         7         2          2          3       5       15  \n",
            "335         1         0          1          0       3       11  \n",
            "336         2         0          2          0       1       16  \n",
            "337         1         0          1          0       5       10  \n",
            "338         2         0          0          2       5       12  \n",
            "\n",
            "[290 rows x 284 columns]\n"
          ]
        }
      ],
      "source": 
        "copied_data = new_data.iloc[:, 9:293]\n",
        "\n",
        "print(copied_data.head(290))\n"
      ]
    },
    {
      "cell_type": "code",
      "execution_count": 299,
      "metadata": {
        "id": "Q8me_aRv0_In"
      },
      "outputs": [],
      "source": [
        "new_categorical_cols = [ 'typehuq', 'cellar', 'crawl', 'concrete', 'baseoth', 'basefin', 'attic', 'atticfin', 'stories', 'prkgplc1', 'sizeofgarage', 'kownrent',\n",
        "                        'yearmaderange', 'bedrooms', 'ncombath', 'nhafbath', 'othrooms', 'totrooms',\n",
        "                        'studio', 'walltype', 'rooftype', 'highceil', 'door1sum', 'windows', 'typeglass',\n",
        "                        'origwin', 'winframe', 'treeshad', 'adqinsul', 'drafty', 'ugashere', 'swimpool',\n",
        "                        'monpool', 'poolpump', 'fuelpool', 'recbath', 'montub', 'fueltub', 'numfrig',\n",
        "                        'sizrfri1', 'typerfr1', 'agerfri1', 'ice', 'sizrfri2', 'typerfr2', 'agerfri2',\n",
        "                        'locrfri2', 'winechill', 'numfreez', 'uprtfrzr', 'sizfreez', 'freezer', 'agefrzr',\n",
        "                        'range', 'cooktop', 'oven', 'rangefuel', 'rangeindt', 'rcookuse', 'rovenuse',\n",
        "                        'cooktopfuel', 'cooktopindt', 'cooktopuse', 'ovenfuel', 'ovenuse', 'micro',\n",
        "                        'amtmicro', 'outgrillfuel', 'outgrill', 'nummeal', 'usecoffee', 'toast',\n",
        "                        'toastovn', 'crockpot', 'prsscook', 'ricecook', 'blender', 'appother', 'elfood',\n",
        "                        'lpcook', 'ugcook', 'dishwash', 'dwashuse', 'dwcycle', 'agedw', 'cwasher',\n",
        "                        'topfront', 'washload', 'washtemp', 'agecwash', 'dryer', 'dryrfuel', 'dryruse',\n",
        "                        'agecdryer', 'tvcolor', 'tvsize1', 'tvtype1', 'tvuse1', 'tvonwd1', 'tvonwe1',\n",
        "                        'tvsize2', 'tvtype2', 'tvuse2', 'tvonwd2', 'tvonwe2', 'tvsize3', 'tvtype3',\n",
        "                        'tvuse3', 'tvonwd3', 'tvonwe3', 'cablesat', 'combodvr', 'sepdvr', 'intstream',\n",
        "                        'playsta', 'dvd', 'vcr', 'tvaudiosys', 'desktop', 'numlaptop', 'numtablet',\n",
        "                        'elperiph', 'numsmphone', 'cellphone', 'tellwork', 'telldays', 'tldesktop',\n",
        "                        'tllaptop', 'tltablet', 'tlmonitor', 'tlother', 'onlneduc', 'internet', 'intypecell',\n",
        "                        'intypebroad', 'intypeoth', 'smartspk', 'sslight', 'sstemp', 'sssecure', 'sstv',\n",
        "                        'ssother', 'heathome', 'dntheat', 'heatapt', 'equipm', 'fuelheat', 'equipage', 'geohp',\n",
        "                        'equipauxtype', 'equipaux', 'fuelaux', 'useequipaux', 'numportel', 'numfireplc', 'numdlhp',\n",
        "                        'baseheat', 'attcheat', 'gargheat', 'humidtype', 'numporthum', 'usehumid', 'elwarm', 'ugwarm',\n",
        "                        'lpwarm', 'fowarm', 'wdwarm', 'aircond', 'coolapt', 'acequipm_pub', 'acequipage',\n",
        "                        'acequipauxtype_pub', 'numdlhpac', 'numwwac', 'numportac', 'basecool', 'attccool', 'gargcool',\n",
        "                        'numcfan', 'numfloorfan', 'usecfan', 'housefan', 'atticfan', 'dehumtype', 'numportdehum',\n",
        "                        'usedehum', 'elcool', 'typetherm', 'heatcntl', 'temphome', 'tempgone', 'tempnite', 'coolcntl',\n",
        "                        'temphomeac', 'tempgoneac', 'tempniteac', 'h2oapt', 'h2omain', 'wheatsiz', 'wheatbkt', 'wheatage',\n",
        "                        'fuelh2o', 'morethan1h2o', 'fuelh2o2', 'elwater', 'fowater', 'lpwater', 'solwater', 'wdwater',\n",
        "                        'ugwater', 'lgtin1to4', 'lgtin4to8', 'lgtinmore8', 'lgtinled', 'lgtincfl', 'lgtincan', 'lgtoutany',\n",
        "                        'lgtoutnite', 'lgtoutled', 'lgtoutcfl', 'lgtoutcan', 'elpay', 'ngpay', 'lpgpay', 'fopay', 'smartmeter',\n",
        "                        'intdataacc', 'medicaldev', 'powerout', 'whypowerout', 'backup', 'solar', 'elother', 'ugoth', 'lpother',\n",
        "                        'foother', 'useel', 'useng', 'uselp', 'usefo', 'usesolar', 'usewood', 'allelec', 'sqftest', 'sqftrange',\n",
        "                        'sqftincb', 'sqftinca', 'sqftincg', 'totsqft_en', 'tothsqft', 'totcsqft', 'dbt1', 'dbt99', 'gwt',\n",
        "                        'woodtype', 'outlet', 'elecveh', 'evchrghome', 'evchrgapt', 'evchrgwks', 'evchrgbus', 'evchrgmuni',\n",
        "                        'evchrgdlr', 'evchrghwy', 'evchrgoth', 'evhomeamt', 'evchrgtype', 'REGIONC', 'DIVISION', 'STATE_FIPS',\n",
        "                        'state_postal', 'state_name', 'HHSEX', 'HHAGE', 'EMPLOYHH', 'EDUCATION', 'SDESCENT', 'HOUSEHOLDER_RACE',\n",
        "                        'NHSLDMEM', 'NUMCHILD', 'NUMADULT1', 'NUMADULT2', 'ATHOME', 'MONEYPY',]"
      ]
    },
    {
      "cell_type": "code",
      "execution_count": 300,
      "metadata": {
        "colab": {
          "base_uri": "https://localhost:8080/"
        },
        "id": "j0F2v46m_d8t",
        "outputId": "05963814-1ecd-497a-9ab2-0fca220f0f83"
      },
      "outputs": [
        {
          "output_type": "stream",
          "name": "stdout",
          "text": [
            "['DOEID', 'HHID', 'ba_climate', 'iecc_climate_code', 'uatyp10', 'hdd65', 'cdd65', 'hdd30yr_pub', 'cdd30yr_pub', 'typehuq', 'cellar', 'crawl', 'concrete', 'baseoth', 'basefin', 'attic', 'atticfin', 'stories', 'prkgplc1', 'sizeofgarage', 'kownrent', 'yearmaderange', 'bedrooms', 'ncombath', 'nhafbath', 'othrooms', 'totrooms', 'studio', 'walltype', 'rooftype', 'highceil', 'door1sum', 'windows', 'typeglass', 'origwin', 'winframe', 'treeshad', 'adqinsul', 'drafty', 'ugashere', 'swimpool', 'monpool', 'poolpump', 'fuelpool', 'recbath', 'montub', 'fueltub', 'numfrig', 'sizrfri1', 'typerfr1', 'agerfri1', 'ice', 'sizrfri2', 'typerfr2', 'agerfri2', 'locrfri2', 'winechill', 'numfreez', 'uprtfrzr', 'sizfreez', 'freezer', 'agefrzr', 'range', 'cooktop', 'oven', 'rangefuel', 'rangeindt', 'rcookuse', 'rovenuse', 'cooktopfuel', 'cooktopindt', 'cooktopuse', 'ovenfuel', 'ovenuse', 'micro', 'amtmicro', 'outgrillfuel', 'outgrill', 'nummeal', 'usecoffee', 'toast', 'toastovn', 'crockpot', 'prsscook', 'ricecook', 'blender', 'appother', 'elfood', 'lpcook', 'ugcook', 'dishwash', 'dwashuse', 'dwcycle', 'agedw', 'cwasher', 'topfront', 'washload', 'washtemp', 'agecwash', 'dryer', 'dryrfuel', 'dryruse', 'agecdryer', 'tvcolor', 'tvsize1', 'tvtype1', 'tvuse1', 'tvonwd1', 'tvonwe1', 'tvsize2', 'tvtype2', 'tvuse2', 'tvonwd2', 'tvonwe2', 'tvsize3', 'tvtype3', 'tvuse3', 'tvonwd3', 'tvonwe3', 'cablesat', 'combodvr', 'sepdvr', 'intstream', 'playsta', 'dvd', 'vcr', 'tvaudiosys', 'desktop', 'numlaptop', 'numtablet', 'elperiph', 'numsmphone', 'cellphone', 'tellwork', 'telldays', 'tldesktop', 'tllaptop', 'tltablet', 'tlmonitor', 'tlother', 'onlneduc', 'internet', 'intypecell', 'intypebroad', 'intypeoth', 'smartspk', 'sslight', 'sstemp', 'sssecure', 'sstv', 'ssother', 'heathome', 'dntheat', 'heatapt', 'equipm', 'fuelheat', 'equipage', 'geohp', 'equipauxtype', 'equipaux', 'fuelaux', 'useequipaux', 'numportel', 'numfireplc', 'numdlhp', 'baseheat', 'attcheat', 'gargheat', 'humidtype', 'numporthum', 'usehumid', 'elwarm', 'ugwarm', 'lpwarm', 'fowarm', 'wdwarm', 'aircond', 'coolapt', 'acequipm_pub', 'acequipage', 'acequipauxtype_pub', 'numdlhpac', 'numwwac', 'numportac', 'basecool', 'attccool', 'gargcool', 'numcfan', 'numfloorfan', 'usecfan', 'housefan', 'atticfan', 'dehumtype', 'numportdehum', 'usedehum', 'elcool', 'typetherm', 'heatcntl', 'temphome', 'tempgone', 'tempnite', 'coolcntl', 'temphomeac', 'tempgoneac', 'tempniteac', 'h2oapt', 'h2omain', 'wheatsiz', 'wheatbkt', 'wheatage', 'fuelh2o', 'morethan1h2o', 'fuelh2o2', 'elwater', 'fowater', 'lpwater', 'solwater', 'wdwater', 'ugwater', 'lgtin1to4', 'lgtin4to8', 'lgtinmore8', 'lgtinled', 'lgtincfl', 'lgtincan', 'lgtoutany', 'lgtoutnite', 'lgtoutled', 'lgtoutcfl', 'lgtoutcan', 'elpay', 'ngpay', 'lpgpay', 'fopay', 'smartmeter', 'intdataacc', 'medicaldev', 'powerout', 'whypowerout', 'backup', 'solar', 'elother', 'ugoth', 'lpother', 'foother', 'useel', 'useng', 'uselp', 'usefo', 'usesolar', 'usewood', 'allelec', 'sqftest', 'sqftrange', 'sqftincb', 'sqftinca', 'sqftincg', 'totsqft_en', 'tothsqft', 'totcsqft', 'dbt1', 'dbt99', 'gwt', 'woodtype', 'outlet', 'elecveh', 'evchrghome', 'evchrgapt', 'evchrgwks', 'evchrgbus', 'evchrgmuni', 'evchrgdlr', 'evchrghwy', 'evchrgoth', 'evhomeamt', 'evchrgtype', 'REGIONC', 'DIVISION', 'STATE_FIPS', 'state_postal', 'state_name', 'HHSEX', 'HHAGE', 'EMPLOYHH', 'EDUCATION', 'SDESCENT', 'HOUSEHOLDER_RACE', 'NHSLDMEM', 'NUMCHILD', 'NUMADULT1', 'NUMADULT2', 'ATHOME', 'MONEYPY', 'HDD65_sum', 'CDD65_sum', 'time_y']\n"
          ]
        }
      ],
      "source": [
        "print(new_data.columns.tolist())\n"
      ]
    },
    {
      "cell_type": "code",
      "execution_count": 301,
      "metadata": {
        "colab": {
          "base_uri": "https://localhost:8080/"
        },
        "id": "VmXgUSVVyoLE",
        "outputId": "190cf909-df67-42e5-b089-78a04dd1ffb7"
      },
      "outputs": [
        {
          "output_type": "stream",
          "name": "stdout",
          "text": [
            "       typehuq  cellar  crawl  concrete  baseoth  basefin  attic  atticfin  \\\n",
            "0            5      -2     -2        -2       -2       -2     -2        -2   \n",
            "1            2       0      1         1        0       -2      1         0   \n",
            "2            2       0      1         0        0       -2      1         0   \n",
            "3            2       0      1         0        0       -2      0        -2   \n",
            "4            2       1      0         0        0        1      1         0   \n",
            "...        ...     ...    ...       ...      ...      ...    ...       ...   \n",
            "15490        2       1      0         0        0        0      1         0   \n",
            "15491        5      -2     -2        -2       -2       -2     -2        -2   \n",
            "15492        5      -2     -2        -2       -2       -2     -2        -2   \n",
            "15493        2       0      1         0        0       -2      1         0   \n",
            "15494        1      -2     -2        -2       -2       -2     -2        -2   \n",
            "\n",
            "       stories  prkgplc1  ...  EMPLOYHH  EDUCATION  SDESCENT  \\\n",
            "0           -2        -2  ...         4          4         0   \n",
            "1            2         0  ...         3          3         0   \n",
            "2            2         1  ...         2          5         0   \n",
            "3            1         0  ...         1          2         0   \n",
            "4            1         0  ...         1          1         0   \n",
            "...        ...       ...  ...       ...        ...       ...   \n",
            "15490        2         0  ...         3          3         0   \n",
            "15491       -2        -2  ...         1          3         0   \n",
            "15492       -2        -2  ...         1          5         0   \n",
            "15493        1         0  ...         4          2         0   \n",
            "15494       -2        -2  ...         4          4         1   \n",
            "\n",
            "       HOUSEHOLDER_RACE  NHSLDMEM  NUMCHILD  NUMADULT1  NUMADULT2  ATHOME  \\\n",
            "0                     1         2         1          1          0       5   \n",
            "1                     1         3         0          2          1       5   \n",
            "2                     2         4         2          2          0       5   \n",
            "3                     1         3         2          1          0       2   \n",
            "4                     1         3         1          2          0       1   \n",
            "...                 ...       ...       ...        ...        ...     ...   \n",
            "15490                 1         2         0          1          1       5   \n",
            "15491                 1         1         0          1          0       2   \n",
            "15492                 1         2         0          2          0       5   \n",
            "15493                 1         3         0          3          0       5   \n",
            "15494                 6         2         0          2          0       5   \n",
            "\n",
            "       MONEYPY  \n",
            "0            9  \n",
            "1           11  \n",
            "2           15  \n",
            "3            1  \n",
            "4           13  \n",
            "...        ...  \n",
            "15490       15  \n",
            "15491       11  \n",
            "15492       16  \n",
            "15493       16  \n",
            "15494       13  \n",
            "\n",
            "[12744 rows x 284 columns]\n"
          ]
        }
      ],
      "source": [
        "print(copied_data)"
      ]
    },
    {
      "cell_type": "code",
      "execution_count": 302,
      "metadata": {
        "id": "SVavB8Ns0_Lc"
      },
      "outputs": [],
      "source": [
        "categorical_cols.extend(new_categorical_cols)"
      ]
    },
    {
      "cell_type": "code",
      "execution_count": 303,
      "metadata": {
        "id": "dm_digifvFw-"
      },
      "outputs": [],
      "source": [
        "# Ensure all columns in 'categorical_cols' are present in 'new_data' and are unique.\n",
        "categorical_cols = list(set(categorical_cols) & set(copied_data.columns))\n",
        "\n",
        "# Convert the selected columns to categorical\n",
        "copied_data[categorical_cols] = copied_data[categorical_cols].astype('category')"
      ]
    },
    {
      "cell_type": "code",
      "execution_count": 304,
      "metadata": {
        "colab": {
          "base_uri": "https://localhost:8080/"
        },
        "id": "NcCv0b180_Rn",
        "outputId": "88ca8fb3-0bdc-49f8-c6af-de1a32963e87"
      },
      "outputs": [
        {
          "output_type": "stream",
          "name": "stdout",
          "text": [
            "      typehuq cellar crawl concrete baseoth basefin attic atticfin stories  \\\n",
            "0           5     -2    -2       -2      -2      -2    -2       -2      -2   \n",
            "1           2      0     1        1       0      -2     1        0       2   \n",
            "2           2      0     1        0       0      -2     1        0       2   \n",
            "3           2      0     1        0       0      -2     0       -2       1   \n",
            "4           2      1     0        0       0       1     1        0       1   \n",
            "...       ...    ...   ...      ...     ...     ...   ...      ...     ...   \n",
            "15490       2      1     0        0       0       0     1        0       2   \n",
            "15491       5     -2    -2       -2      -2      -2    -2       -2      -2   \n",
            "15492       5     -2    -2       -2      -2      -2    -2       -2      -2   \n",
            "15493       2      0     1        0       0      -2     1        0       1   \n",
            "15494       1     -2    -2       -2      -2      -2    -2       -2      -2   \n",
            "\n",
            "      prkgplc1  ... EMPLOYHH EDUCATION SDESCENT HOUSEHOLDER_RACE NHSLDMEM  \\\n",
            "0           -2  ...        4         4        0                1        2   \n",
            "1            0  ...        3         3        0                1        3   \n",
            "2            1  ...        2         5        0                2        4   \n",
            "3            0  ...        1         2        0                1        3   \n",
            "4            0  ...        1         1        0                1        3   \n",
            "...        ...  ...      ...       ...      ...              ...      ...   \n",
            "15490        0  ...        3         3        0                1        2   \n",
            "15491       -2  ...        1         3        0                1        1   \n",
            "15492       -2  ...        1         5        0                1        2   \n",
            "15493        0  ...        4         2        0                1        3   \n",
            "15494       -2  ...        4         4        1                6        2   \n",
            "\n",
            "      NUMCHILD NUMADULT1 NUMADULT2 ATHOME MONEYPY  \n",
            "0            1         1         0      5       9  \n",
            "1            0         2         1      5      11  \n",
            "2            2         2         0      5      15  \n",
            "3            2         1         0      2       1  \n",
            "4            1         2         0      1      13  \n",
            "...        ...       ...       ...    ...     ...  \n",
            "15490        0         1         1      5      15  \n",
            "15491        0         1         0      2      11  \n",
            "15492        0         2         0      5      16  \n",
            "15493        0         3         0      5      16  \n",
            "15494        0         2         0      5      13  \n",
            "\n",
            "[12744 rows x 284 columns]\n"
          ]
        }
      ],
      "source": [
        "print(copied_data)"
      ]
    },
    {
      "cell_type": "code",
      "execution_count": 305,
      "metadata": {
        "colab": {
          "base_uri": "https://localhost:8080/"
        },
        "id": "wYwZjra92siD",
        "outputId": "be9d6201-6bd5-4c5a-dfc4-98de2ddd2ad2"
      },
      "outputs": [
        {
          "output_type": "stream",
          "name": "stdout",
          "text": [
            "(12744, 296)\n",
            "   typehuq  cellar  crawl  concrete  baseoth  basefin  attic  atticfin  \\\n",
            "0        5      -2     -2        -2       -2       -2     -2        -2   \n",
            "1        2       0      1         1        0       -2      1         0   \n",
            "2        2       0      1         0        0       -2      1         0   \n",
            "3        2       0      1         0        0       -2      0        -2   \n",
            "4        2       1      0         0        0        1      1         0   \n",
            "\n",
            "   stories  prkgplc1  ...   ba_climate  iecc_climate_code  uatyp10  \\\n",
            "0       -2        -2  ...  Mixed-Humid                 4A        U   \n",
            "1        2         0  ...       Marine                 4C        R   \n",
            "2        2         1  ...  Mixed-Humid                 4A        U   \n",
            "3        1         0  ...  Mixed-Humid                 3A        U   \n",
            "4        1         0  ...         Cold                 5A        R   \n",
            "\n",
            "        hdd65       cdd65  hdd30yr_pub  cdd30yr_pub  HDD65_sum  CDD65_sum  \\\n",
            "0  To_compute  To_compute         4505         1372       3886       1389   \n",
            "1  To_compute  To_compute         5312          132       4475        220   \n",
            "2  To_compute  To_compute         3277         1543       2643       1761   \n",
            "3  To_compute  To_compute         3116         1679       2909       1552   \n",
            "4  To_compute  To_compute         5955          978       5841       1045   \n",
            "\n",
            "   time_y  \n",
            "0    2020  \n",
            "1    2020  \n",
            "2    2020  \n",
            "3    2020  \n",
            "4    2020  \n",
            "\n",
            "[5 rows x 296 columns]\n"
          ]
        }
      ],
      "source": [
        
        "copied_data = new_data.iloc[:, 9:293]  # Colonnes 10 à 293\n",
        "\n",
        "#we identify missing columns,
        "remaining_columns = [col for col in new_data.columns if col not in copied_data.columns]\n",
        "\n",
        
        "copied_data = pd.concat([copied_data, new_data[remaining_columns]], axis=1)\n",
        "\n",
        
        "print(copied_data.shape)\n",
        "print(copied_data.head())\n"
      ]
    },
    {
      "cell_type": "code",
      "execution_count": 306,
      "metadata": {
        "colab": {
          "base_uri": "https://localhost:8080/"
        },
        "id": "ZsEX_CMFw9tj",
        "outputId": "179e5005-c9b9-4f90-837a-f3d5dbd950bc"
      },
      "outputs": [
        {
          "output_type": "stream",
          "name": "stdout",
          "text": [
            "       typehuq  cellar  crawl  concrete  baseoth  basefin  attic  atticfin  \\\n",
            "0            5      -2     -2        -2       -2       -2     -2        -2   \n",
            "1            2       0      1         1        0       -2      1         0   \n",
            "2            2       0      1         0        0       -2      1         0   \n",
            "3            2       0      1         0        0       -2      0        -2   \n",
            "4            2       1      0         0        0        1      1         0   \n",
            "...        ...     ...    ...       ...      ...      ...    ...       ...   \n",
            "15490        2       1      0         0        0        0      1         0   \n",
            "15491        5      -2     -2        -2       -2       -2     -2        -2   \n",
            "15492        5      -2     -2        -2       -2       -2     -2        -2   \n",
            "15493        2       0      1         0        0       -2      1         0   \n",
            "15494        1      -2     -2        -2       -2       -2     -2        -2   \n",
            "\n",
            "       stories  prkgplc1  ...   ba_climate  iecc_climate_code  uatyp10  \\\n",
            "0           -2        -2  ...  Mixed-Humid                 4A        U   \n",
            "1            2         0  ...       Marine                 4C        R   \n",
            "2            2         1  ...  Mixed-Humid                 4A        U   \n",
            "3            1         0  ...  Mixed-Humid                 3A        U   \n",
            "4            1         0  ...         Cold                 5A        R   \n",
            "...        ...       ...  ...          ...                ...      ...   \n",
            "15490        2         0  ...  Mixed-Humid                 4A        U   \n",
            "15491       -2        -2  ...  Mixed-Humid                 4A        U   \n",
            "15492       -2        -2  ...  Mixed-Humid                 4A        U   \n",
            "15493        1         0  ...  Mixed-Humid                 4A        R   \n",
            "15494       -2        -2  ...    Hot-Humid                 2A        R   \n",
            "\n",
            "            hdd65       cdd65  hdd30yr_pub  cdd30yr_pub  HDD65_sum  CDD65_sum  \\\n",
            "0      To_compute  To_compute         4505         1372       3886       1389   \n",
            "1      To_compute  To_compute         5312          132       4475        220   \n",
            "2      To_compute  To_compute         3277         1543       2643       1761   \n",
            "3      To_compute  To_compute         3116         1679       2909       1552   \n",
            "4      To_compute  To_compute         5955          978       5841       1045   \n",
            "...           ...         ...          ...          ...        ...        ...   \n",
            "15490  To_compute  To_compute         5252          835       4632       1074   \n",
            "15491  To_compute  To_compute         4869         1067       3900       1255   \n",
            "15492  To_compute  To_compute         4739         1108       4206       1361   \n",
            "15493  To_compute  To_compute         3557         1515       2680       1778   \n",
            "15494  To_compute  To_compute         1904         2459       1373       3040   \n",
            "\n",
            "       time_y  \n",
            "0        2020  \n",
            "1        2020  \n",
            "2        2020  \n",
            "3        2020  \n",
            "4        2020  \n",
            "...       ...  \n",
            "15490    2020  \n",
            "15491    2020  \n",
            "15492    2020  \n",
            "15493    2020  \n",
            "15494    2020  \n",
            "\n",
            "[12744 rows x 296 columns]\n"
          ]
        }
      ],
      "source": [
        "print(copied_data)"
      ]
    },
    {
      "cell_type": "code",
      "execution_count": 307,
      "metadata": {
        "id": "Ozv2TNzg0_cI"
      },
      "outputs": [],
      "source": [
        "copied_data.to_csv('database_test.csv', index=False)"
      ]
    },
    {
      "cell_type": "markdown",
      "metadata": {
        "id": "d7_VGzq95UUH"
      },
      "source": [
        "##LOGISTIC REGRESSION"
      ]
    },
    {
      "cell_type": "code",
      "execution_count": 308,
      "metadata": {
        "id": "bMLRYFn_bctf"
      },
      "outputs": [],
      "source": [
        "from sklearn.tree import DecisionTreeRegressor\n",
        "from sklearn.tree._export import plot_tree"
      ]
    },
    {
      "cell_type": "code",
      "execution_count": 309,
      "metadata": {
        "colab": {
          "base_uri": "https://localhost:8080/"
        },
        "id": "Q-CkAP7AJ2uc",
        "outputId": "5de4abe8-f024-4fe4-d72c-374442eb4144"
      },
      "outputs": [
        {
          "output_type": "stream",
          "name": "stdout",
          "text": [
            "Requirement already satisfied: xgboost in /usr/local/lib/python3.11/dist-packages (2.1.3)\n",
            "Requirement already satisfied: scikit-learn in /usr/local/lib/python3.11/dist-packages (1.6.1)\n",
            "Requirement already satisfied: numpy in /usr/local/lib/python3.11/dist-packages (from xgboost) (1.26.4)\n",
            "Requirement already satisfied: nvidia-nccl-cu12 in /usr/local/lib/python3.11/dist-packages (from xgboost) (2.21.5)\n",
            "Requirement already satisfied: scipy in /usr/local/lib/python3.11/dist-packages (from xgboost) (1.13.1)\n",
            "Requirement already satisfied: joblib>=1.2.0 in /usr/local/lib/python3.11/dist-packages (from scikit-learn) (1.4.2)\n",
            "Requirement already satisfied: threadpoolctl>=3.1.0 in /usr/local/lib/python3.11/dist-packages (from scikit-learn) (3.5.0)\n"
          ]
        }
      ],
      "source": [
        "pip install --upgrade xgboost scikit-learn\n"
      ]
    },
    {
      "cell_type": "code",
      "execution_count": 310,
      "metadata": {
        "colab": {
          "base_uri": "https://localhost:8080/"
        },
        "id": "f_W3c_umLcwM",
        "outputId": "82e19e4e-4d80-40be-f88f-de3745384512"
      },
      "outputs": [
        {
          "output_type": "stream",
          "name": "stdout",
          "text": [
            "Version of XGBoost : 1.6.2\n",
            "Version of scikit-learn : 1.6.1\n"
          ]
        }
      ],
      "source": [
        "print(\"Version of XGBoost :\", xgboost.__version__)\n",
        "print(\"Version of scikit-learn :\", sklearn.__version__)\n"
      ]
    },
    {
      "cell_type": "code",
      "source": [
        "# We had to make sure  that 'copied_data' contains our data\n",
        "# Checking of  available columns\n",
        "print(copied_data.columns)\n",
        "\n",
        "# We created the 'consumption_level' target based on the median of HDD65_sum\n",
        "copied_data['consumption_level'] = np.where(\n",
        "    copied_data['HDD65_sum'] <= copied_data['HDD65_sum'].median(), 0, 1\n",
        ")\n",
        "\n",
        "# We separate explanatory variables (X) and target (y)\n",
        "X = copied_data[['HDD65_sum', 'CDD65_sum', 'totsqft_en', 'NUMADULT1', 'tvsize1', 'dishwash']]\n",
        "y = copied_data['consumption_level']\n",
        "\n",
        "#  We managed missing values\n",
        "X = X.fillna(X.median())\n"
      ],
      "metadata": {
        "colab": {
          "base_uri": "https://localhost:8080/"
        },
        "id": "PpGSppPs6ZYF",
        "outputId": "e5528afd-0c63-4eac-f112-9d04c26a5e4a"
      },
      "execution_count": 311,
      "outputs": [
        {
          "output_type": "stream",
          "name": "stdout",
          "text": [
            "Index(['typehuq', 'cellar', 'crawl', 'concrete', 'baseoth', 'basefin', 'attic',\n",
            "       'atticfin', 'stories', 'prkgplc1',\n",
            "       ...\n",
            "       'ba_climate', 'iecc_climate_code', 'uatyp10', 'hdd65', 'cdd65',\n",
            "       'hdd30yr_pub', 'cdd30yr_pub', 'HDD65_sum', 'CDD65_sum', 'time_y'],\n",
            "      dtype='object', length=296)\n"
          ]
        }
      ]
    },
    {
      "cell_type": "code",
      "execution_count": 312,
      "metadata": {
        "colab": {
          "base_uri": "https://localhost:8080/",
          "height": 715
        },
        "id": "VafqP1Xs8N3b",
        "outputId": "938c77dd-0771-4bbd-b95f-6ed1c0143a70"
      },
      "outputs": [
        {
          "output_type": "stream",
          "name": "stdout",
          "text": [
            "Accuracy: 1.00\n",
            "Confusion Matrix:\n",
            "[[5069   12]\n",
            " [  19 5096]]\n",
            "Classification Report:\n",
            "              precision    recall  f1-score   support\n",
            "\n",
            "           0       1.00      1.00      1.00      5081\n",
            "           1       1.00      1.00      1.00      5115\n",
            "\n",
            "    accuracy                           1.00     10196\n",
            "   macro avg       1.00      1.00      1.00     10196\n",
            "weighted avg       1.00      1.00      1.00     10196\n",
            "\n"
          ]
        },
        {
          "output_type": "display_data",
          "data": {
            "text/plain": [
              "<Figure size 640x480 with 2 Axes>"
            ],
            "image/png": "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\n"
          },
          "metadata": {}
        }
      ],
      "source": [
        "# 1. Creation of  the target column (High or Low) based on a reference column\n",
        "mean_consumption = copied_data['HDD65_sum'].mean()\n",
        "copied_data['consumption_level'] = copied_data['HDD65_sum'].apply(lambda x: 'Low' if x < mean_consumption else 'High')\n",
        "copied_data['consumption_level'] = copied_data['consumption_level'].map({'Low': 0, 'High': 1})\n",
        "\n",
        "# 2. Data preparation (we have included  CDD65 and other relevant variables)\n",
        "X = copied_data[['HDD65_sum', 'CDD65_sum', 'totsqft_en', 'NUMADULT1', 'tvsize1', 'dishwash']]  # Inclure CDD65_sum et HDD65_sum\n",
        "y = copied_data['consumption_level']\n",
        "\n",
        "# 3.data normalization because Machine learning models are sensitive to the range of data values.\n",
        "scaler = StandardScaler()\n",
        "X_scaled = scaler.fit_transform(X)\n",
        "\n",
        "# 4. Division of data into training and test\n",
        "X_train, X_test, y_train, y_test = train_test_split(X_scaled, y, test_size=0.8, random_state=42)\n",
        "\n",
        "# 5. Model training\n",
        "logistic_model = LogisticRegression()\n",
        "logistic_model.fit(X_train, y_train)\n",
        "\n",
        "# 6. Predictions\n",
        "y_pred = logistic_model.predict(X_test)\n",
        "\n",
        "# 7. Evaluation\n",
        "print(f\"Accuracy: {accuracy_score(y_test, y_pred):.2f}\")\n",
        "print(\"Confusion Matrix:\")\n",
        "print(confusion_matrix(y_test, y_pred))\n",
        "print(\"Classification Report:\")\n",
        "print(classification_report(y_test, y_pred))\n",
        "\n",
        "# 8. Visualization of the confusion matrix\n",
        "conf_matrix = confusion_matrix(y_test, y_pred)\n",
        "sns.heatmap(conf_matrix, annot=True, fmt='d', cmap='Blues', xticklabels=['Low', 'High'], yticklabels=['Low', 'High'])\n",
        "plt.xlabel('Predicted')\n",
        "plt.ylabel('Actual')\n",
        "plt.title('Confusion Matrix')\n",
        "plt.show()\n"
      ]
    },
    {
      "cell_type": "code",
      "execution_count": 313,
      "metadata": {
        "id": "G8EnhX3apCK7",
        "colab": {
          "base_uri": "https://localhost:8080/"
        },
        "outputId": "95790d3e-81bd-4dd6-a377-1b3f91385b4e"
      },
      "outputs": [
        {
          "output_type": "stream",
          "name": "stdout",
          "text": [
            "0        0\n",
            "1        0\n",
            "2        0\n",
            "3        0\n",
            "4        1\n",
            "        ..\n",
            "15490    1\n",
            "15491    0\n",
            "15492    0\n",
            "15493    0\n",
            "15494    0\n",
            "Name: consumption_level, Length: 12744, dtype: int64\n"
          ]
        }
      ],
      "source": [
        "print(copied_data[\"consumption_level\"])"
      ]
    },
    {
      "cell_type": "code",
      "execution_count": 314,
      "metadata": {
        "colab": {
          "base_uri": "https://localhost:8080/",
          "height": 570
        },
        "id": "vziyaYNxplUN",
        "outputId": "39c9e927-99da-4094-8c49-49845a98b444"
      },
      "outputs": [
        {
          "output_type": "display_data",
          "data": {
            "text/plain": [
              "<Figure size 1000x600 with 1 Axes>"
            ],
            "image/png": "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\n"
          },
          "metadata": {}
        }
      ],
      "source": [
        "# Histogram for consumption by TV size\n",
        "plt.figure(figsize=(10, 6))\n",
        "sns.countplot(x='tvsize1', hue='consumption_level', data=copied_data, palette=\"coolwarm\")\n",
        "plt.title('Distribution de TV Size par Consumption Level', fontsize=14)\n",
        "plt.xlabel('Taille de la TV (tvsize)', fontsize=12)\n",
        "plt.ylabel('Count(tvsize1)', fontsize=12)\n",
        "plt.legend(title='Consumption Level', labels=['Low (0)', 'High (1)'], fontsize=10)\n",
        "plt.xticks(rotation=45)\n",
        "plt.show()\n"
      ]
    },
    {
      "cell_type": "code",
      "execution_count": 315,
      "metadata": {
        "colab": {
          "base_uri": "https://localhost:8080/",
          "height": 566
        },
        "id": "qy0Z_fiSrIHd",
        "outputId": "77afdfbb-45d3-4037-e2e1-a18703f0ee68"
      },
      "outputs": [
        {
          "output_type": "display_data",
          "data": {
            "text/plain": [
              "<Figure size 1000x600 with 1 Axes>"
            ],
            "image/png": "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\n"
          },
          "metadata": {}
        }
      ],
      "source": [
        "#  Histogram for consumption for diswash\n",
        "plt.figure(figsize=(10, 6))\n",
        "sns.countplot(x='dishwash', hue='consumption_level', data=copied_data, palette=\"coolwarm\")\n",
        "plt.title('Consumption Level', fontsize=14)\n",
        "plt.xlabel('Diswash', fontsize=12)\n",
        "plt.ylabel('Count', fontsize=12)\n",
        "plt.legend(title='Consumption Level', labels=['Low (0)', 'High (1)'], fontsize=10)\n",
        "plt.xticks(rotation=45)\n",
        "plt.show()\n"
      ]
    },
    {
      "cell_type": "code",
      "execution_count": 316,
      "metadata": {
        "id": "chXlrootskFD"
      },
      "outputs": [],
      "source": [
        "correlation = copied_data[\"HDD65_sum\"].corr(copied_data[\"CDD65_sum\"])\n",
        "# Correlation to measure the strength and direction of the linear relationship between HDD65_sum and CDD65_sum"
      ]
    },
    {
      "cell_type": "code",
      "execution_count": 317,
      "metadata": {
        "colab": {
          "base_uri": "https://localhost:8080/"
        },
        "id": "FVmVwvuasx0x",
        "outputId": "2ee52dcd-4a7d-4025-bce9-bf5e974ce8a0"
      },
      "outputs": [
        {
          "output_type": "stream",
          "name": "stdout",
          "text": [
            "-0.7905707551658617\n"
          ]
        }
      ],
      "source": [
        "print(correlation)"
      ]
    },
    {
      "cell_type": "code",
      "execution_count": 318,
      "metadata": {
        "id": "jdSsRzjHs3sm"
      },
      "outputs": [],
      "source": [
        "correlation = copied_data[\"CDD65_sum\"].corr(copied_data[\"consumption_level\"])"
      ]
    },
    {
      "cell_type": "code",
      "execution_count": 319,
      "metadata": {
        "id": "_ygfy5S58N5v"
      },
      "outputs": [],
      "source": [
        "X = copied_data[['HDD65_sum', 'CDD65_sum']]\n"
      ]
    },
    {
      "cell_type": "code",
      "execution_count": 320,
      "metadata": {
        "id": "p83BNbdU8N8a"
      },
      "outputs": [],
      "source": [
        "target = pd.DataFrame ({\n",
        "    'other_column': [1, 0],\n",
        "    'consumption_level': ['Low', 'High']})\n",
        "# This code creates a DataFrame called target that maps numerical values (1 and 0) to their corresponding text labels (Low and High) to facilitate the conversion between these formats."
      ]
    },
    {
      "cell_type": "code",
      "execution_count": 321,
      "metadata": {
        "colab": {
          "base_uri": "https://localhost:8080/"
        },
        "id": "FrQrqvY28N_J",
        "outputId": "11342c3c-77dd-4d13-9393-49d67df20a42"
      },
      "outputs": [
        {
          "output_type": "stream",
          "name": "stdout",
          "text": [
            "   other_column consumption_level\n",
            "0             1               Low\n",
            "1             0              High\n"
          ]
        }
      ],
      "source": [
        "print(target)"
      ]
    },
    {
      "cell_type": "code",
      "execution_count": 322,
      "metadata": {
        "colab": {
          "base_uri": "https://localhost:8080/"
        },
        "id": "mq2zjg-i8OBg",
        "outputId": "a6d53be3-aa46-4ea1-c084-1d81009bf654"
      },
      "outputs": [
        {
          "output_type": "stream",
          "name": "stdout",
          "text": [
            "       HDD65_sum  CDD65_sum\n",
            "0           3886       1389\n",
            "1           4475        220\n",
            "2           2643       1761\n",
            "3           2909       1552\n",
            "4           5841       1045\n",
            "...          ...        ...\n",
            "15490       4632       1074\n",
            "15491       3900       1255\n",
            "15492       4206       1361\n",
            "15493       2680       1778\n",
            "15494       1373       3040\n",
            "\n",
            "[12744 rows x 2 columns]\n"
          ]
        }
      ],
      "source": [
        "print(X)"
      ]
    },
    {
      "cell_type": "code",
      "execution_count": 323,
      "metadata": {
        "colab": {
          "base_uri": "https://localhost:8080/"
        },
        "id": "pmIea-luIflZ",
        "outputId": "615a5ec5-dddb-4a40-baf5-ed9bcbc7e1f1"
      },
      "outputs": [
        {
          "output_type": "stream",
          "name": "stdout",
          "text": [
            "       typehuq  cellar  crawl  concrete  baseoth  basefin  attic  atticfin  \\\n",
            "0            5      -2     -2        -2       -2       -2     -2        -2   \n",
            "1            2       0      1         1        0       -2      1         0   \n",
            "2            2       0      1         0        0       -2      1         0   \n",
            "3            2       0      1         0        0       -2      0        -2   \n",
            "4            2       1      0         0        0        1      1         0   \n",
            "...        ...     ...    ...       ...      ...      ...    ...       ...   \n",
            "15490        2       1      0         0        0        0      1         0   \n",
            "15491        5      -2     -2        -2       -2       -2     -2        -2   \n",
            "15492        5      -2     -2        -2       -2       -2     -2        -2   \n",
            "15493        2       0      1         0        0       -2      1         0   \n",
            "15494        1      -2     -2        -2       -2       -2     -2        -2   \n",
            "\n",
            "       stories  prkgplc1  ...  iecc_climate_code  uatyp10       hdd65  \\\n",
            "0           -2        -2  ...                 4A        U  To_compute   \n",
            "1            2         0  ...                 4C        R  To_compute   \n",
            "2            2         1  ...                 4A        U  To_compute   \n",
            "3            1         0  ...                 3A        U  To_compute   \n",
            "4            1         0  ...                 5A        R  To_compute   \n",
            "...        ...       ...  ...                ...      ...         ...   \n",
            "15490        2         0  ...                 4A        U  To_compute   \n",
            "15491       -2        -2  ...                 4A        U  To_compute   \n",
            "15492       -2        -2  ...                 4A        U  To_compute   \n",
            "15493        1         0  ...                 4A        R  To_compute   \n",
            "15494       -2        -2  ...                 2A        R  To_compute   \n",
            "\n",
            "            cdd65  hdd30yr_pub  cdd30yr_pub  HDD65_sum  CDD65_sum  time_y  \\\n",
            "0      To_compute         4505         1372       3886       1389    2020   \n",
            "1      To_compute         5312          132       4475        220    2020   \n",
            "2      To_compute         3277         1543       2643       1761    2020   \n",
            "3      To_compute         3116         1679       2909       1552    2020   \n",
            "4      To_compute         5955          978       5841       1045    2020   \n",
            "...           ...          ...          ...        ...        ...     ...   \n",
            "15490  To_compute         5252          835       4632       1074    2020   \n",
            "15491  To_compute         4869         1067       3900       1255    2020   \n",
            "15492  To_compute         4739         1108       4206       1361    2020   \n",
            "15493  To_compute         3557         1515       2680       1778    2020   \n",
            "15494  To_compute         1904         2459       1373       3040    2020   \n",
            "\n",
            "       consumption_level  \n",
            "0                      0  \n",
            "1                      0  \n",
            "2                      0  \n",
            "3                      0  \n",
            "4                      1  \n",
            "...                  ...  \n",
            "15490                  1  \n",
            "15491                  0  \n",
            "15492                  0  \n",
            "15493                  0  \n",
            "15494                  0  \n",
            "\n",
            "[12744 rows x 297 columns]\n"
          ]
        }
      ],
      "source": [
        "print(copied_data)"
      ]
    },
    {
      "cell_type": "code",
      "execution_count": 324,
      "metadata": {
        "colab": {
          "base_uri": "https://localhost:8080/"
        },
        "id": "-DZUxdprIfqL",
        "outputId": "3072e097-9267-48e6-bbb0-e5023cd93f3c"
      },
      "outputs": [
        {
          "output_type": "stream",
          "name": "stdout",
          "text": [
            "       typehuq  cellar  crawl  concrete  baseoth  basefin  attic  atticfin  \\\n",
            "0            5      -2     -2        -2       -2       -2     -2        -2   \n",
            "1            2       0      1         1        0       -2      1         0   \n",
            "2            2       0      1         0        0       -2      1         0   \n",
            "3            2       0      1         0        0       -2      0        -2   \n",
            "4            2       1      0         0        0        1      1         0   \n",
            "...        ...     ...    ...       ...      ...      ...    ...       ...   \n",
            "15490        2       1      0         0        0        0      1         0   \n",
            "15491        5      -2     -2        -2       -2       -2     -2        -2   \n",
            "15492        5      -2     -2        -2       -2       -2     -2        -2   \n",
            "15493        2       0      1         0        0       -2      1         0   \n",
            "15494        1      -2     -2        -2       -2       -2     -2        -2   \n",
            "\n",
            "       stories  prkgplc1  ...  uatyp10       hdd65       cdd65  hdd30yr_pub  \\\n",
            "0           -2        -2  ...        U  To_compute  To_compute         4505   \n",
            "1            2         0  ...        R  To_compute  To_compute         5312   \n",
            "2            2         1  ...        U  To_compute  To_compute         3277   \n",
            "3            1         0  ...        U  To_compute  To_compute         3116   \n",
            "4            1         0  ...        R  To_compute  To_compute         5955   \n",
            "...        ...       ...  ...      ...         ...         ...          ...   \n",
            "15490        2         0  ...        U  To_compute  To_compute         5252   \n",
            "15491       -2        -2  ...        U  To_compute  To_compute         4869   \n",
            "15492       -2        -2  ...        U  To_compute  To_compute         4739   \n",
            "15493        1         0  ...        R  To_compute  To_compute         3557   \n",
            "15494       -2        -2  ...        R  To_compute  To_compute         1904   \n",
            "\n",
            "       cdd30yr_pub  HDD65_sum  CDD65_sum  time_y  consumption_level  \\\n",
            "0             1372       3886       1389    2020                  0   \n",
            "1              132       4475        220    2020                  0   \n",
            "2             1543       2643       1761    2020                  0   \n",
            "3             1679       2909       1552    2020                  0   \n",
            "4              978       5841       1045    2020                  1   \n",
            "...            ...        ...        ...     ...                ...   \n",
            "15490          835       4632       1074    2020                  1   \n",
            "15491         1067       3900       1255    2020                  0   \n",
            "15492         1108       4206       1361    2020                  0   \n",
            "15493         1515       2680       1778    2020                  0   \n",
            "15494         2459       1373       3040    2020                  0   \n",
            "\n",
            "       Household_id  \n",
            "0                 1  \n",
            "1                 2  \n",
            "2                 3  \n",
            "3                 4  \n",
            "4                 5  \n",
            "...             ...  \n",
            "15490         12740  \n",
            "15491         12741  \n",
            "15492         12742  \n",
            "15493         12743  \n",
            "15494         12744  \n",
            "\n",
            "[12744 rows x 298 columns]\n"
          ]
        }
      ],
      "source": [
        "copied_data['Household_id'] = range(1, len(copied_data) + 1)\n",
        "print(copied_data)"
      ]
    },
    {
      "cell_type": "code",
      "execution_count": 325,
      "metadata": {
        "id": "LoKrNJygFEkV"
      },
      "outputs": [],
      "source": [
        "copied_data = copied_data.drop(columns=['Household_id'])\n"
      ]
    },
    {
      "cell_type": "code",
      "execution_count": 326,
      "metadata": {
        "id": "1kLyK1taIfsG"
      },
      "outputs": [],
      "source": [
        "predictions_df = pd.DataFrame({\n",
        "    'Household_id': copied_data[\"HHID\"][:len(y_pred)],\n",
        "    'predicted_consumption': y_pred\n",
        "})\n",
        "#creation of  a DataFrame named predictions_df, which is designed to store predicted consumption data for households"
      ]
    },
    {
      "cell_type": "code",
      "execution_count": 327,
      "metadata": {
        "colab": {
          "base_uri": "https://localhost:8080/"
        },
        "id": "uug6RQtTIfwg",
        "outputId": "5df19a74-f1f6-4612-ace4-24fe9cb88965"
      },
      "outputs": [
        {
          "output_type": "stream",
          "name": "stdout",
          "text": [
            "       Household_id  predicted_consumption\n",
            "0            217610                      0\n",
            "1            216582                      0\n",
            "2             63587                      1\n",
            "3             85867                      0\n",
            "4            378348                      1\n",
            "...             ...                    ...\n",
            "12403        442521                      1\n",
            "12404        456900                      0\n",
            "12405        244149                      0\n",
            "12407          7393                      0\n",
            "12408        484924                      1\n",
            "\n",
            "[10196 rows x 2 columns]\n"
          ]
        }
      ],
      "source": [
        "print(predictions_df)"
      ]
    },
    {
      "cell_type": "code",
      "execution_count": 328,
      "metadata": {
        "id": "rJbSzeyI9mVa"
      },
      "outputs": [],
      "source": [
        "\n",
        "X = copied_data.drop(columns=['DOEID', 'consumption_level'])\n",
        "y = copied_data['consumption_level']\n",
        "#This code splits the dataset copied_data into features (X) by dropping the columns DOEID and consumption_level, and the target variable (y), which is set as the consumption_level column ensuring clarity."
      ]
    },
    {
      "cell_type": "code",
      "execution_count": 329,
      "metadata": {
        "id": "9ATV9teh9mYF"
      },
      "outputs": [],
      "source": [
        "X = pd.get_dummies(X, drop_first=True)\n"
      ]
    },
    {
      "cell_type": "code",
      "execution_count": 330,
      "metadata": {
        "id": "zgoy0VFq9maw"
      },
      "outputs": [],
      "source": [
        "scaler = StandardScaler()\n",
        "X_scaled = scaler.fit_transform(X)\n"
      ]
    },
    {
      "cell_type": "code",
      "execution_count": 331,
      "metadata": {
        "id": "7xwmxLei9mdQ"
      },
      "outputs": [],
      "source": [
        "X_train, X_test, y_train, y_test = train_test_split(X_scaled, y, test_size=0.8, random_state=42)\n"
      ]
    },
    {
      "cell_type": "code",
      "execution_count": 332,
      "metadata": {
        "colab": {
          "base_uri": "https://localhost:8080/",
          "height": 80
        },
        "id": "3m3Yiopc9mgS",
        "outputId": "3e44deb9-7bfe-4a06-b07c-cc4816f79f5f"
      },
      "outputs": [
        {
          "output_type": "execute_result",
          "data": {
            "text/plain": [
              "LogisticRegression(max_iter=1000)"
            ],
            "text/html": [
              "<style>#sk-container-id-6 {\n",
              "  /* Definition of color scheme common for light and dark mode */\n",
              "  --sklearn-color-text: #000;\n",
              "  --sklearn-color-text-muted: #666;\n",
              "  --sklearn-color-line: gray;\n",
              "  /* Definition of color scheme for unfitted estimators */\n",
              "  --sklearn-color-unfitted-level-0: #fff5e6;\n",
              "  --sklearn-color-unfitted-level-1: #f6e4d2;\n",
              "  --sklearn-color-unfitted-level-2: #ffe0b3;\n",
              "  --sklearn-color-unfitted-level-3: chocolate;\n",
              "  /* Definition of color scheme for fitted estimators */\n",
              "  --sklearn-color-fitted-level-0: #f0f8ff;\n",
              "  --sklearn-color-fitted-level-1: #d4ebff;\n",
              "  --sklearn-color-fitted-level-2: #b3dbfd;\n",
              "  --sklearn-color-fitted-level-3: cornflowerblue;\n",
              "\n",
              "  /* Specific color for light theme */\n",
              "  --sklearn-color-text-on-default-background: var(--sg-text-color, var(--theme-code-foreground, var(--jp-content-font-color1, black)));\n",
              "  --sklearn-color-background: var(--sg-background-color, var(--theme-background, var(--jp-layout-color0, white)));\n",
              "  --sklearn-color-border-box: var(--sg-text-color, var(--theme-code-foreground, var(--jp-content-font-color1, black)));\n",
              "  --sklearn-color-icon: #696969;\n",
              "\n",
              "  @media (prefers-color-scheme: dark) {\n",
              "    /* Redefinition of color scheme for dark theme */\n",
              "    --sklearn-color-text-on-default-background: var(--sg-text-color, var(--theme-code-foreground, var(--jp-content-font-color1, white)));\n",
              "    --sklearn-color-background: var(--sg-background-color, var(--theme-background, var(--jp-layout-color0, #111)));\n",
              "    --sklearn-color-border-box: var(--sg-text-color, var(--theme-code-foreground, var(--jp-content-font-color1, white)));\n",
              "    --sklearn-color-icon: #878787;\n",
              "  }\n",
              "}\n",
              "\n",
              "#sk-container-id-6 {\n",
              "  color: var(--sklearn-color-text);\n",
              "}\n",
              "\n",
              "#sk-container-id-6 pre {\n",
              "  padding: 0;\n",
              "}\n",
              "\n",
              "#sk-container-id-6 input.sk-hidden--visually {\n",
              "  border: 0;\n",
              "  clip: rect(1px 1px 1px 1px);\n",
              "  clip: rect(1px, 1px, 1px, 1px);\n",
              "  height: 1px;\n",
              "  margin: -1px;\n",
              "  overflow: hidden;\n",
              "  padding: 0;\n",
              "  position: absolute;\n",
              "  width: 1px;\n",
              "}\n",
              "\n",
              "#sk-container-id-6 div.sk-dashed-wrapped {\n",
              "  border: 1px dashed var(--sklearn-color-line);\n",
              "  margin: 0 0.4em 0.5em 0.4em;\n",
              "  box-sizing: border-box;\n",
              "  padding-bottom: 0.4em;\n",
              "  background-color: var(--sklearn-color-background);\n",
              "}\n",
              "\n",
              "#sk-container-id-6 div.sk-container {\n",
              "  /* jupyter's `normalize.less` sets `[hidden] { display: none; }`\n",
              "     but bootstrap.min.css set `[hidden] { display: none !important; }`\n",
              "     so we also need the `!important` here to be able to override the\n",
              "     default hidden behavior on the sphinx rendered scikit-learn.org.\n",
              "     See: https://github.com/scikit-learn/scikit-learn/issues/21755 */\n",
              "  display: inline-block !important;\n",
              "  position: relative;\n",
              "}\n",
              "\n",
              "#sk-container-id-6 div.sk-text-repr-fallback {\n",
              "  display: none;\n",
              "}\n",
              "\n",
              "div.sk-parallel-item,\n",
              "div.sk-serial,\n",
              "div.sk-item {\n",
              "  /* draw centered vertical line to link estimators */\n",
              "  background-image: linear-gradient(var(--sklearn-color-text-on-default-background), var(--sklearn-color-text-on-default-background));\n",
              "  background-size: 2px 100%;\n",
              "  background-repeat: no-repeat;\n",
              "  background-position: center center;\n",
              "}\n",
              "\n",
              "/* Parallel-specific style estimator block */\n",
              "\n",
              "#sk-container-id-6 div.sk-parallel-item::after {\n",
              "  content: \"\";\n",
              "  width: 100%;\n",
              "  border-bottom: 2px solid var(--sklearn-color-text-on-default-background);\n",
              "  flex-grow: 1;\n",
              "}\n",
              "\n",
              "#sk-container-id-6 div.sk-parallel {\n",
              "  display: flex;\n",
              "  align-items: stretch;\n",
              "  justify-content: center;\n",
              "  background-color: var(--sklearn-color-background);\n",
              "  position: relative;\n",
              "}\n",
              "\n",
              "#sk-container-id-6 div.sk-parallel-item {\n",
              "  display: flex;\n",
              "  flex-direction: column;\n",
              "}\n",
              "\n",
              "#sk-container-id-6 div.sk-parallel-item:first-child::after {\n",
              "  align-self: flex-end;\n",
              "  width: 50%;\n",
              "}\n",
              "\n",
              "#sk-container-id-6 div.sk-parallel-item:last-child::after {\n",
              "  align-self: flex-start;\n",
              "  width: 50%;\n",
              "}\n",
              "\n",
              "#sk-container-id-6 div.sk-parallel-item:only-child::after {\n",
              "  width: 0;\n",
              "}\n",
              "\n",
              "/* Serial-specific style estimator block */\n",
              "\n",
              "#sk-container-id-6 div.sk-serial {\n",
              "  display: flex;\n",
              "  flex-direction: column;\n",
              "  align-items: center;\n",
              "  background-color: var(--sklearn-color-background);\n",
              "  padding-right: 1em;\n",
              "  padding-left: 1em;\n",
              "}\n",
              "\n",
              "\n",
              "/* Toggleable style: style used for estimator/Pipeline/ColumnTransformer box that is\n",
              "clickable and can be expanded/collapsed.\n",
              "- Pipeline and ColumnTransformer use this feature and define the default style\n",
              "- Estimators will overwrite some part of the style using the `sk-estimator` class\n",
              "*/\n",
              "\n",
              "/* Pipeline and ColumnTransformer style (default) */\n",
              "\n",
              "#sk-container-id-6 div.sk-toggleable {\n",
              "  /* Default theme specific background. It is overwritten whether we have a\n",
              "  specific estimator or a Pipeline/ColumnTransformer */\n",
              "  background-color: var(--sklearn-color-background);\n",
              "}\n",
              "\n",
              "/* Toggleable label */\n",
              "#sk-container-id-6 label.sk-toggleable__label {\n",
              "  cursor: pointer;\n",
              "  display: flex;\n",
              "  width: 100%;\n",
              "  margin-bottom: 0;\n",
              "  padding: 0.5em;\n",
              "  box-sizing: border-box;\n",
              "  text-align: center;\n",
              "  align-items: start;\n",
              "  justify-content: space-between;\n",
              "  gap: 0.5em;\n",
              "}\n",
              "\n",
              "#sk-container-id-6 label.sk-toggleable__label .caption {\n",
              "  font-size: 0.6rem;\n",
              "  font-weight: lighter;\n",
              "  color: var(--sklearn-color-text-muted);\n",
              "}\n",
              "\n",
              "#sk-container-id-6 label.sk-toggleable__label-arrow:before {\n",
              "  /* Arrow on the left of the label */\n",
              "  content: \"▸\";\n",
              "  float: left;\n",
              "  margin-right: 0.25em;\n",
              "  color: var(--sklearn-color-icon);\n",
              "}\n",
              "\n",
              "#sk-container-id-6 label.sk-toggleable__label-arrow:hover:before {\n",
              "  color: var(--sklearn-color-text);\n",
              "}\n",
              "\n",
              "/* Toggleable content - dropdown */\n",
              "\n",
              "#sk-container-id-6 div.sk-toggleable__content {\n",
              "  max-height: 0;\n",
              "  max-width: 0;\n",
              "  overflow: hidden;\n",
              "  text-align: left;\n",
              "  /* unfitted */\n",
              "  background-color: var(--sklearn-color-unfitted-level-0);\n",
              "}\n",
              "\n",
              "#sk-container-id-6 div.sk-toggleable__content.fitted {\n",
              "  /* fitted */\n",
              "  background-color: var(--sklearn-color-fitted-level-0);\n",
              "}\n",
              "\n",
              "#sk-container-id-6 div.sk-toggleable__content pre {\n",
              "  margin: 0.2em;\n",
              "  border-radius: 0.25em;\n",
              "  color: var(--sklearn-color-text);\n",
              "  /* unfitted */\n",
              "  background-color: var(--sklearn-color-unfitted-level-0);\n",
              "}\n",
              "\n",
              "#sk-container-id-6 div.sk-toggleable__content.fitted pre {\n",
              "  /* unfitted */\n",
              "  background-color: var(--sklearn-color-fitted-level-0);\n",
              "}\n",
              "\n",
              "#sk-container-id-6 input.sk-toggleable__control:checked~div.sk-toggleable__content {\n",
              "  /* Expand drop-down */\n",
              "  max-height: 200px;\n",
              "  max-width: 100%;\n",
              "  overflow: auto;\n",
              "}\n",
              "\n",
              "#sk-container-id-6 input.sk-toggleable__control:checked~label.sk-toggleable__label-arrow:before {\n",
              "  content: \"▾\";\n",
              "}\n",
              "\n",
              "/* Pipeline/ColumnTransformer-specific style */\n",
              "\n",
              "#sk-container-id-6 div.sk-label input.sk-toggleable__control:checked~label.sk-toggleable__label {\n",
              "  color: var(--sklearn-color-text);\n",
              "  background-color: var(--sklearn-color-unfitted-level-2);\n",
              "}\n",
              "\n",
              "#sk-container-id-6 div.sk-label.fitted input.sk-toggleable__control:checked~label.sk-toggleable__label {\n",
              "  background-color: var(--sklearn-color-fitted-level-2);\n",
              "}\n",
              "\n",
              "/* Estimator-specific style */\n",
              "\n",
              "/* Colorize estimator box */\n",
              "#sk-container-id-6 div.sk-estimator input.sk-toggleable__control:checked~label.sk-toggleable__label {\n",
              "  /* unfitted */\n",
              "  background-color: var(--sklearn-color-unfitted-level-2);\n",
              "}\n",
              "\n",
              "#sk-container-id-6 div.sk-estimator.fitted input.sk-toggleable__control:checked~label.sk-toggleable__label {\n",
              "  /* fitted */\n",
              "  background-color: var(--sklearn-color-fitted-level-2);\n",
              "}\n",
              "\n",
              "#sk-container-id-6 div.sk-label label.sk-toggleable__label,\n",
              "#sk-container-id-6 div.sk-label label {\n",
              "  /* The background is the default theme color */\n",
              "  color: var(--sklearn-color-text-on-default-background);\n",
              "}\n",
              "\n",
              "/* On hover, darken the color of the background */\n",
              "#sk-container-id-6 div.sk-label:hover label.sk-toggleable__label {\n",
              "  color: var(--sklearn-color-text);\n",
              "  background-color: var(--sklearn-color-unfitted-level-2);\n",
              "}\n",
              "\n",
              "/* Label box, darken color on hover, fitted */\n",
              "#sk-container-id-6 div.sk-label.fitted:hover label.sk-toggleable__label.fitted {\n",
              "  color: var(--sklearn-color-text);\n",
              "  background-color: var(--sklearn-color-fitted-level-2);\n",
              "}\n",
              "\n",
              "/* Estimator label */\n",
              "\n",
              "#sk-container-id-6 div.sk-label label {\n",
              "  font-family: monospace;\n",
              "  font-weight: bold;\n",
              "  display: inline-block;\n",
              "  line-height: 1.2em;\n",
              "}\n",
              "\n",
              "#sk-container-id-6 div.sk-label-container {\n",
              "  text-align: center;\n",
              "}\n",
              "\n",
              "/* Estimator-specific */\n",
              "#sk-container-id-6 div.sk-estimator {\n",
              "  font-family: monospace;\n",
              "  border: 1px dotted var(--sklearn-color-border-box);\n",
              "  border-radius: 0.25em;\n",
              "  box-sizing: border-box;\n",
              "  margin-bottom: 0.5em;\n",
              "  /* unfitted */\n",
              "  background-color: var(--sklearn-color-unfitted-level-0);\n",
              "}\n",
              "\n",
              "#sk-container-id-6 div.sk-estimator.fitted {\n",
              "  /* fitted */\n",
              "  background-color: var(--sklearn-color-fitted-level-0);\n",
              "}\n",
              "\n",
              "/* on hover */\n",
              "#sk-container-id-6 div.sk-estimator:hover {\n",
              "  /* unfitted */\n",
              "  background-color: var(--sklearn-color-unfitted-level-2);\n",
              "}\n",
              "\n",
              "#sk-container-id-6 div.sk-estimator.fitted:hover {\n",
              "  /* fitted */\n",
              "  background-color: var(--sklearn-color-fitted-level-2);\n",
              "}\n",
              "\n",
              "/* Specification for estimator info (e.g. \"i\" and \"?\") */\n",
              "\n",
              "/* Common style for \"i\" and \"?\" */\n",
              "\n",
              ".sk-estimator-doc-link,\n",
              "a:link.sk-estimator-doc-link,\n",
              "a:visited.sk-estimator-doc-link {\n",
              "  float: right;\n",
              "  font-size: smaller;\n",
              "  line-height: 1em;\n",
              "  font-family: monospace;\n",
              "  background-color: var(--sklearn-color-background);\n",
              "  border-radius: 1em;\n",
              "  height: 1em;\n",
              "  width: 1em;\n",
              "  text-decoration: none !important;\n",
              "  margin-left: 0.5em;\n",
              "  text-align: center;\n",
              "  /* unfitted */\n",
              "  border: var(--sklearn-color-unfitted-level-1) 1pt solid;\n",
              "  color: var(--sklearn-color-unfitted-level-1);\n",
              "}\n",
              "\n",
              ".sk-estimator-doc-link.fitted,\n",
              "a:link.sk-estimator-doc-link.fitted,\n",
              "a:visited.sk-estimator-doc-link.fitted {\n",
              "  /* fitted */\n",
              "  border: var(--sklearn-color-fitted-level-1) 1pt solid;\n",
              "  color: var(--sklearn-color-fitted-level-1);\n",
              "}\n",
              "\n",
              "/* On hover */\n",
              "div.sk-estimator:hover .sk-estimator-doc-link:hover,\n",
              ".sk-estimator-doc-link:hover,\n",
              "div.sk-label-container:hover .sk-estimator-doc-link:hover,\n",
              ".sk-estimator-doc-link:hover {\n",
              "  /* unfitted */\n",
              "  background-color: var(--sklearn-color-unfitted-level-3);\n",
              "  color: var(--sklearn-color-background);\n",
              "  text-decoration: none;\n",
              "}\n",
              "\n",
              "div.sk-estimator.fitted:hover .sk-estimator-doc-link.fitted:hover,\n",
              ".sk-estimator-doc-link.fitted:hover,\n",
              "div.sk-label-container:hover .sk-estimator-doc-link.fitted:hover,\n",
              ".sk-estimator-doc-link.fitted:hover {\n",
              "  /* fitted */\n",
              "  background-color: var(--sklearn-color-fitted-level-3);\n",
              "  color: var(--sklearn-color-background);\n",
              "  text-decoration: none;\n",
              "}\n",
              "\n",
              "/* Span, style for the box shown on hovering the info icon */\n",
              ".sk-estimator-doc-link span {\n",
              "  display: none;\n",
              "  z-index: 9999;\n",
              "  position: relative;\n",
              "  font-weight: normal;\n",
              "  right: .2ex;\n",
              "  padding: .5ex;\n",
              "  margin: .5ex;\n",
              "  width: min-content;\n",
              "  min-width: 20ex;\n",
              "  max-width: 50ex;\n",
              "  color: var(--sklearn-color-text);\n",
              "  box-shadow: 2pt 2pt 4pt #999;\n",
              "  /* unfitted */\n",
              "  background: var(--sklearn-color-unfitted-level-0);\n",
              "  border: .5pt solid var(--sklearn-color-unfitted-level-3);\n",
              "}\n",
              "\n",
              ".sk-estimator-doc-link.fitted span {\n",
              "  /* fitted */\n",
              "  background: var(--sklearn-color-fitted-level-0);\n",
              "  border: var(--sklearn-color-fitted-level-3);\n",
              "}\n",
              "\n",
              ".sk-estimator-doc-link:hover span {\n",
              "  display: block;\n",
              "}\n",
              "\n",
              "/* \"?\"-specific style due to the `<a>` HTML tag */\n",
              "\n",
              "#sk-container-id-6 a.estimator_doc_link {\n",
              "  float: right;\n",
              "  font-size: 1rem;\n",
              "  line-height: 1em;\n",
              "  font-family: monospace;\n",
              "  background-color: var(--sklearn-color-background);\n",
              "  border-radius: 1rem;\n",
              "  height: 1rem;\n",
              "  width: 1rem;\n",
              "  text-decoration: none;\n",
              "  /* unfitted */\n",
              "  color: var(--sklearn-color-unfitted-level-1);\n",
              "  border: var(--sklearn-color-unfitted-level-1) 1pt solid;\n",
              "}\n",
              "\n",
              "#sk-container-id-6 a.estimator_doc_link.fitted {\n",
              "  /* fitted */\n",
              "  border: var(--sklearn-color-fitted-level-1) 1pt solid;\n",
              "  color: var(--sklearn-color-fitted-level-1);\n",
              "}\n",
              "\n",
              "/* On hover */\n",
              "#sk-container-id-6 a.estimator_doc_link:hover {\n",
              "  /* unfitted */\n",
              "  background-color: var(--sklearn-color-unfitted-level-3);\n",
              "  color: var(--sklearn-color-background);\n",
              "  text-decoration: none;\n",
              "}\n",
              "\n",
              "#sk-container-id-6 a.estimator_doc_link.fitted:hover {\n",
              "  /* fitted */\n",
              "  background-color: var(--sklearn-color-fitted-level-3);\n",
              "}\n",
              "</style><div id=\"sk-container-id-6\" class=\"sk-top-container\"><div class=\"sk-text-repr-fallback\"><pre>LogisticRegression(max_iter=1000)</pre><b>In a Jupyter environment, please rerun this cell to show the HTML representation or trust the notebook. <br />On GitHub, the HTML representation is unable to render, please try loading this page with nbviewer.org.</b></div><div class=\"sk-container\" hidden><div class=\"sk-item\"><div class=\"sk-estimator fitted sk-toggleable\"><input class=\"sk-toggleable__control sk-hidden--visually\" id=\"sk-estimator-id-14\" type=\"checkbox\" checked><label for=\"sk-estimator-id-14\" class=\"sk-toggleable__label fitted sk-toggleable__label-arrow\"><div><div>LogisticRegression</div></div><div><a class=\"sk-estimator-doc-link fitted\" rel=\"noreferrer\" target=\"_blank\" href=\"https://scikit-learn.org/1.6/modules/generated/sklearn.linear_model.LogisticRegression.html\">?<span>Documentation for LogisticRegression</span></a><span class=\"sk-estimator-doc-link fitted\">i<span>Fitted</span></span></div></label><div class=\"sk-toggleable__content fitted\"><pre>LogisticRegression(max_iter=1000)</pre></div> </div></div></div></div>"
            ]
          },
          "metadata": {},
          "execution_count": 332
        }
      ],
      "source": [
        "\n",
        "logistic_model = LogisticRegression(max_iter=1000)\n",
        "logistic_model.fit(X_train, y_train)\n",
        "#Initialization  and training of a logistic regression model.\n",
        "#The model learns the relationship between the features and target,"
      ]
    },
    {
      "cell_type": "code",
      "execution_count": 333,
      "metadata": {
        "id": "BAX4CbSh9mjm"
      },
      "outputs": [],
      "source": [
        "y_pred = logistic_model.predict(X_test)\n"
      ]
    },
    {
      "cell_type": "code",
      "execution_count": 334,
      "metadata": {
        "colab": {
          "base_uri": "https://localhost:8080/"
        },
        "id": "oBq-svZ19m40",
        "outputId": "1b819e75-aecf-4be8-a47d-ee684abf00ce"
      },
      "outputs": [
        {
          "output_type": "stream",
          "name": "stdout",
          "text": [
            "Accuracy: 0.9557669674382111\n",
            "Confusion Matrix:\n",
            "[[4882  199]\n",
            " [ 252 4863]]\n",
            "Classification Report:\n",
            "              precision    recall  f1-score   support\n",
            "\n",
            "           0       0.95      0.96      0.96      5081\n",
            "           1       0.96      0.95      0.96      5115\n",
            "\n",
            "    accuracy                           0.96     10196\n",
            "   macro avg       0.96      0.96      0.96     10196\n",
            "weighted avg       0.96      0.96      0.96     10196\n",
            "\n"
          ]
        }
      ],
      "source": [
        "print(\"Accuracy:\", accuracy_score(y_test, y_pred))\n",
        "print(\"Confusion Matrix:\")\n",
        "print(confusion_matrix(y_test, y_pred))\n",
        "print(\"Classification Report:\")\n",
        "print(classification_report(y_test, y_pred))\n"
      ]
    },
    {
      "cell_type": "code",
      "execution_count": 335,
      "metadata": {
        "id": "wftJDhK-9m7b"
      },
      "outputs": [],
      "source": [
        "copied_data['predicted_consumption_level'] = logistic_model.predict(X_scaled)\n"
      ]
    },
    {
      "cell_type": "code",
      "execution_count": 336,
      "metadata": {
        "id": "d7yVWp-59m-G"
      },
      "outputs": [],
      "source": [
        "data_with_predictions = copied_data[['DOEID', 'predicted_consumption_level']]\n",
        "data_with_predictions.to_csv('predictions_par_menage.csv', index=False)\n",
        "# Extracts the DOEID and predicted_consumption_level columns from the dataset and saves them to a CSV file named predictions_par_menage.csv.\n",
        "# Excluding row indices focusing on relevant columns."
      ]
    },
    {
      "cell_type": "code",
      "execution_count": 337,
      "metadata": {
        "colab": {
          "base_uri": "https://localhost:8080/"
        },
        "id": "zmX9Yw0T9nBe",
        "outputId": "3bfdac41-22dd-4c12-fe17-40f4f9df24b5"
      },
      "outputs": [
        {
          "output_type": "stream",
          "name": "stdout",
          "text": [
            "        DOEID  predicted_consumption_level\n",
            "0      117107                            0\n",
            "1      112324                            0\n",
            "2      104821                            0\n",
            "3      106481                            0\n",
            "4      113761                            1\n",
            "...       ...                          ...\n",
            "15490  111201                            1\n",
            "15491  116913                            0\n",
            "15492  110887                            0\n",
            "15493  115454                            0\n",
            "15494  115493                            0\n",
            "\n",
            "[12744 rows x 2 columns]\n"
          ]
        }
      ],
      "source": [
        "print(data_with_predictions)"
      ]
    },
    {
      "cell_type": "code",
      "execution_count": 338,
      "metadata": {
        "id": "IDy_xLkwAnl4"
      },
      "outputs": [],
      "source": [
        "data_with_predictions_sorted = data_with_predictions.sort_values(by='DOEID')"
      ]
    },
    {
      "cell_type": "code",
      "execution_count": 339,
      "metadata": {
        "id": "ea06WismAnok",
        "colab": {
          "base_uri": "https://localhost:8080/"
        },
        "outputId": "f54982e0-3ef5-450f-8156-c7e629f67b2f"
      },
      "outputs": [
        {
          "output_type": "stream",
          "name": "stdout",
          "text": [
            "        DOEID  predicted_consumption_level\n",
            "14804  100001                            0\n",
            "1506   100002                            0\n",
            "13478  100003                            0\n",
            "2919   100004                            0\n",
            "43     100005                            0\n",
            "...       ...                          ...\n",
            "3995   118490                            0\n",
            "6018   118491                            0\n",
            "9099   118492                            0\n",
            "11723  118495                            0\n",
            "6184   118496                            0\n",
            "\n",
            "[12744 rows x 2 columns]\n"
          ]
        }
      ],
      "source": [
        "print(data_with_predictions_sorted)"
      ]
    },
    {
      "cell_type": "code",
      "execution_count": 340,
      "metadata": {
        "id": "kfNLa02hAnt3",
        "colab": {
          "base_uri": "https://localhost:8080/"
        },
        "outputId": "8c2a1407-16a9-4b7c-fd09-5d8143f2e9b1"
      },
      "outputs": [
        {
          "output_type": "stream",
          "name": "stdout",
          "text": [
            "      DOEID  predicted_consumption_level\n",
            "0    117107                            0\n",
            "1    112324                            0\n",
            "2    104821                            0\n",
            "3    106481                            0\n",
            "4    113761                            1\n",
            "..      ...                          ...\n",
            "112  100812                            0\n",
            "114  118337                            0\n",
            "115  114472                            1\n",
            "116  117339                            0\n",
            "117  103179                            1\n",
            "\n",
            "[100 rows x 2 columns]\n"
          ]
        }
      ],
      "source": [
        "print(data_with_predictions.head(100))"
      ]
    },
    {
      "cell_type": "markdown",
      "source": [
        "##LOGISTIC REGRESSION WITH PIPELINE"
      ],
      "metadata": {
        "id": "JEtG3zi-OcCA"
      }
    },
    {
      "cell_type": "code",
      "execution_count": 341,
      "metadata": {
        "id": "k4NmmE8WwN-1"
      },
      "outputs": [],
      "source": [
        "X_train, X_test, y_train, y_test = train_test_split(X, y, train_size=0.8, random_state=42)"
      ]
    },
    {
      "cell_type": "code",
      "execution_count": 342,
      "metadata": {
        "colab": {
          "base_uri": "https://localhost:8080/",
          "height": 157
        },
        "id": "Zfp1A61AwOCD",
        "outputId": "a700af54-e244-4884-95fe-03e4b00cc8dc"
      },
      "outputs": [
        {
          "output_type": "execute_result",
          "data": {
            "text/plain": [
              "Pipeline(steps=[('standardize', StandardScaler()),\n",
              "                ('log_reg', LogisticRegression(max_iter=10000))])"
            ],
            "text/html": [
              "<style>#sk-container-id-7 {\n",
              "  /* Definition of color scheme common for light and dark mode */\n",
              "  --sklearn-color-text: #000;\n",
              "  --sklearn-color-text-muted: #666;\n",
              "  --sklearn-color-line: gray;\n",
              "  /* Definition of color scheme for unfitted estimators */\n",
              "  --sklearn-color-unfitted-level-0: #fff5e6;\n",
              "  --sklearn-color-unfitted-level-1: #f6e4d2;\n",
              "  --sklearn-color-unfitted-level-2: #ffe0b3;\n",
              "  --sklearn-color-unfitted-level-3: chocolate;\n",
              "  /* Definition of color scheme for fitted estimators */\n",
              "  --sklearn-color-fitted-level-0: #f0f8ff;\n",
              "  --sklearn-color-fitted-level-1: #d4ebff;\n",
              "  --sklearn-color-fitted-level-2: #b3dbfd;\n",
              "  --sklearn-color-fitted-level-3: cornflowerblue;\n",
              "\n",
              "  /* Specific color for light theme */\n",
              "  --sklearn-color-text-on-default-background: var(--sg-text-color, var(--theme-code-foreground, var(--jp-content-font-color1, black)));\n",
              "  --sklearn-color-background: var(--sg-background-color, var(--theme-background, var(--jp-layout-color0, white)));\n",
              "  --sklearn-color-border-box: var(--sg-text-color, var(--theme-code-foreground, var(--jp-content-font-color1, black)));\n",
              "  --sklearn-color-icon: #696969;\n",
              "\n",
              "  @media (prefers-color-scheme: dark) {\n",
              "    /* Redefinition of color scheme for dark theme */\n",
              "    --sklearn-color-text-on-default-background: var(--sg-text-color, var(--theme-code-foreground, var(--jp-content-font-color1, white)));\n",
              "    --sklearn-color-background: var(--sg-background-color, var(--theme-background, var(--jp-layout-color0, #111)));\n",
              "    --sklearn-color-border-box: var(--sg-text-color, var(--theme-code-foreground, var(--jp-content-font-color1, white)));\n",
              "    --sklearn-color-icon: #878787;\n",
              "  }\n",
              "}\n",
              "\n",
              "#sk-container-id-7 {\n",
              "  color: var(--sklearn-color-text);\n",
              "}\n",
              "\n",
              "#sk-container-id-7 pre {\n",
              "  padding: 0;\n",
              "}\n",
              "\n",
              "#sk-container-id-7 input.sk-hidden--visually {\n",
              "  border: 0;\n",
              "  clip: rect(1px 1px 1px 1px);\n",
              "  clip: rect(1px, 1px, 1px, 1px);\n",
              "  height: 1px;\n",
              "  margin: -1px;\n",
              "  overflow: hidden;\n",
              "  padding: 0;\n",
              "  position: absolute;\n",
              "  width: 1px;\n",
              "}\n",
              "\n",
              "#sk-container-id-7 div.sk-dashed-wrapped {\n",
              "  border: 1px dashed var(--sklearn-color-line);\n",
              "  margin: 0 0.4em 0.5em 0.4em;\n",
              "  box-sizing: border-box;\n",
              "  padding-bottom: 0.4em;\n",
              "  background-color: var(--sklearn-color-background);\n",
              "}\n",
              "\n",
              "#sk-container-id-7 div.sk-container {\n",
              "  /* jupyter's `normalize.less` sets `[hidden] { display: none; }`\n",
              "     but bootstrap.min.css set `[hidden] { display: none !important; }`\n",
              "     so we also need the `!important` here to be able to override the\n",
              "     default hidden behavior on the sphinx rendered scikit-learn.org.\n",
              "     See: https://github.com/scikit-learn/scikit-learn/issues/21755 */\n",
              "  display: inline-block !important;\n",
              "  position: relative;\n",
              "}\n",
              "\n",
              "#sk-container-id-7 div.sk-text-repr-fallback {\n",
              "  display: none;\n",
              "}\n",
              "\n",
              "div.sk-parallel-item,\n",
              "div.sk-serial,\n",
              "div.sk-item {\n",
              "  /* draw centered vertical line to link estimators */\n",
              "  background-image: linear-gradient(var(--sklearn-color-text-on-default-background), var(--sklearn-color-text-on-default-background));\n",
              "  background-size: 2px 100%;\n",
              "  background-repeat: no-repeat;\n",
              "  background-position: center center;\n",
              "}\n",
              "\n",
              "/* Parallel-specific style estimator block */\n",
              "\n",
              "#sk-container-id-7 div.sk-parallel-item::after {\n",
              "  content: \"\";\n",
              "  width: 100%;\n",
              "  border-bottom: 2px solid var(--sklearn-color-text-on-default-background);\n",
              "  flex-grow: 1;\n",
              "}\n",
              "\n",
              "#sk-container-id-7 div.sk-parallel {\n",
              "  display: flex;\n",
              "  align-items: stretch;\n",
              "  justify-content: center;\n",
              "  background-color: var(--sklearn-color-background);\n",
              "  position: relative;\n",
              "}\n",
              "\n",
              "#sk-container-id-7 div.sk-parallel-item {\n",
              "  display: flex;\n",
              "  flex-direction: column;\n",
              "}\n",
              "\n",
              "#sk-container-id-7 div.sk-parallel-item:first-child::after {\n",
              "  align-self: flex-end;\n",
              "  width: 50%;\n",
              "}\n",
              "\n",
              "#sk-container-id-7 div.sk-parallel-item:last-child::after {\n",
              "  align-self: flex-start;\n",
              "  width: 50%;\n",
              "}\n",
              "\n",
              "#sk-container-id-7 div.sk-parallel-item:only-child::after {\n",
              "  width: 0;\n",
              "}\n",
              "\n",
              "/* Serial-specific style estimator block */\n",
              "\n",
              "#sk-container-id-7 div.sk-serial {\n",
              "  display: flex;\n",
              "  flex-direction: column;\n",
              "  align-items: center;\n",
              "  background-color: var(--sklearn-color-background);\n",
              "  padding-right: 1em;\n",
              "  padding-left: 1em;\n",
              "}\n",
              "\n",
              "\n",
              "/* Toggleable style: style used for estimator/Pipeline/ColumnTransformer box that is\n",
              "clickable and can be expanded/collapsed.\n",
              "- Pipeline and ColumnTransformer use this feature and define the default style\n",
              "- Estimators will overwrite some part of the style using the `sk-estimator` class\n",
              "*/\n",
              "\n",
              "/* Pipeline and ColumnTransformer style (default) */\n",
              "\n",
              "#sk-container-id-7 div.sk-toggleable {\n",
              "  /* Default theme specific background. It is overwritten whether we have a\n",
              "  specific estimator or a Pipeline/ColumnTransformer */\n",
              "  background-color: var(--sklearn-color-background);\n",
              "}\n",
              "\n",
              "/* Toggleable label */\n",
              "#sk-container-id-7 label.sk-toggleable__label {\n",
              "  cursor: pointer;\n",
              "  display: flex;\n",
              "  width: 100%;\n",
              "  margin-bottom: 0;\n",
              "  padding: 0.5em;\n",
              "  box-sizing: border-box;\n",
              "  text-align: center;\n",
              "  align-items: start;\n",
              "  justify-content: space-between;\n",
              "  gap: 0.5em;\n",
              "}\n",
              "\n",
              "#sk-container-id-7 label.sk-toggleable__label .caption {\n",
              "  font-size: 0.6rem;\n",
              "  font-weight: lighter;\n",
              "  color: var(--sklearn-color-text-muted);\n",
              "}\n",
              "\n",
              "#sk-container-id-7 label.sk-toggleable__label-arrow:before {\n",
              "  /* Arrow on the left of the label */\n",
              "  content: \"▸\";\n",
              "  float: left;\n",
              "  margin-right: 0.25em;\n",
              "  color: var(--sklearn-color-icon);\n",
              "}\n",
              "\n",
              "#sk-container-id-7 label.sk-toggleable__label-arrow:hover:before {\n",
              "  color: var(--sklearn-color-text);\n",
              "}\n",
              "\n",
              "/* Toggleable content - dropdown */\n",
              "\n",
              "#sk-container-id-7 div.sk-toggleable__content {\n",
              "  max-height: 0;\n",
              "  max-width: 0;\n",
              "  overflow: hidden;\n",
              "  text-align: left;\n",
              "  /* unfitted */\n",
              "  background-color: var(--sklearn-color-unfitted-level-0);\n",
              "}\n",
              "\n",
              "#sk-container-id-7 div.sk-toggleable__content.fitted {\n",
              "  /* fitted */\n",
              "  background-color: var(--sklearn-color-fitted-level-0);\n",
              "}\n",
              "\n",
              "#sk-container-id-7 div.sk-toggleable__content pre {\n",
              "  margin: 0.2em;\n",
              "  border-radius: 0.25em;\n",
              "  color: var(--sklearn-color-text);\n",
              "  /* unfitted */\n",
              "  background-color: var(--sklearn-color-unfitted-level-0);\n",
              "}\n",
              "\n",
              "#sk-container-id-7 div.sk-toggleable__content.fitted pre {\n",
              "  /* unfitted */\n",
              "  background-color: var(--sklearn-color-fitted-level-0);\n",
              "}\n",
              "\n",
              "#sk-container-id-7 input.sk-toggleable__control:checked~div.sk-toggleable__content {\n",
              "  /* Expand drop-down */\n",
              "  max-height: 200px;\n",
              "  max-width: 100%;\n",
              "  overflow: auto;\n",
              "}\n",
              "\n",
              "#sk-container-id-7 input.sk-toggleable__control:checked~label.sk-toggleable__label-arrow:before {\n",
              "  content: \"▾\";\n",
              "}\n",
              "\n",
              "/* Pipeline/ColumnTransformer-specific style */\n",
              "\n",
              "#sk-container-id-7 div.sk-label input.sk-toggleable__control:checked~label.sk-toggleable__label {\n",
              "  color: var(--sklearn-color-text);\n",
              "  background-color: var(--sklearn-color-unfitted-level-2);\n",
              "}\n",
              "\n",
              "#sk-container-id-7 div.sk-label.fitted input.sk-toggleable__control:checked~label.sk-toggleable__label {\n",
              "  background-color: var(--sklearn-color-fitted-level-2);\n",
              "}\n",
              "\n",
              "/* Estimator-specific style */\n",
              "\n",
              "/* Colorize estimator box */\n",
              "#sk-container-id-7 div.sk-estimator input.sk-toggleable__control:checked~label.sk-toggleable__label {\n",
              "  /* unfitted */\n",
              "  background-color: var(--sklearn-color-unfitted-level-2);\n",
              "}\n",
              "\n",
              "#sk-container-id-7 div.sk-estimator.fitted input.sk-toggleable__control:checked~label.sk-toggleable__label {\n",
              "  /* fitted */\n",
              "  background-color: var(--sklearn-color-fitted-level-2);\n",
              "}\n",
              "\n",
              "#sk-container-id-7 div.sk-label label.sk-toggleable__label,\n",
              "#sk-container-id-7 div.sk-label label {\n",
              "  /* The background is the default theme color */\n",
              "  color: var(--sklearn-color-text-on-default-background);\n",
              "}\n",
              "\n",
              "/* On hover, darken the color of the background */\n",
              "#sk-container-id-7 div.sk-label:hover label.sk-toggleable__label {\n",
              "  color: var(--sklearn-color-text);\n",
              "  background-color: var(--sklearn-color-unfitted-level-2);\n",
              "}\n",
              "\n",
              "/* Label box, darken color on hover, fitted */\n",
              "#sk-container-id-7 div.sk-label.fitted:hover label.sk-toggleable__label.fitted {\n",
              "  color: var(--sklearn-color-text);\n",
              "  background-color: var(--sklearn-color-fitted-level-2);\n",
              "}\n",
              "\n",
              "/* Estimator label */\n",
              "\n",
              "#sk-container-id-7 div.sk-label label {\n",
              "  font-family: monospace;\n",
              "  font-weight: bold;\n",
              "  display: inline-block;\n",
              "  line-height: 1.2em;\n",
              "}\n",
              "\n",
              "#sk-container-id-7 div.sk-label-container {\n",
              "  text-align: center;\n",
              "}\n",
              "\n",
              "/* Estimator-specific */\n",
              "#sk-container-id-7 div.sk-estimator {\n",
              "  font-family: monospace;\n",
              "  border: 1px dotted var(--sklearn-color-border-box);\n",
              "  border-radius: 0.25em;\n",
              "  box-sizing: border-box;\n",
              "  margin-bottom: 0.5em;\n",
              "  /* unfitted */\n",
              "  background-color: var(--sklearn-color-unfitted-level-0);\n",
              "}\n",
              "\n",
              "#sk-container-id-7 div.sk-estimator.fitted {\n",
              "  /* fitted */\n",
              "  background-color: var(--sklearn-color-fitted-level-0);\n",
              "}\n",
              "\n",
              "/* on hover */\n",
              "#sk-container-id-7 div.sk-estimator:hover {\n",
              "  /* unfitted */\n",
              "  background-color: var(--sklearn-color-unfitted-level-2);\n",
              "}\n",
              "\n",
              "#sk-container-id-7 div.sk-estimator.fitted:hover {\n",
              "  /* fitted */\n",
              "  background-color: var(--sklearn-color-fitted-level-2);\n",
              "}\n",
              "\n",
              "/* Specification for estimator info (e.g. \"i\" and \"?\") */\n",
              "\n",
              "/* Common style for \"i\" and \"?\" */\n",
              "\n",
              ".sk-estimator-doc-link,\n",
              "a:link.sk-estimator-doc-link,\n",
              "a:visited.sk-estimator-doc-link {\n",
              "  float: right;\n",
              "  font-size: smaller;\n",
              "  line-height: 1em;\n",
              "  font-family: monospace;\n",
              "  background-color: var(--sklearn-color-background);\n",
              "  border-radius: 1em;\n",
              "  height: 1em;\n",
              "  width: 1em;\n",
              "  text-decoration: none !important;\n",
              "  margin-left: 0.5em;\n",
              "  text-align: center;\n",
              "  /* unfitted */\n",
              "  border: var(--sklearn-color-unfitted-level-1) 1pt solid;\n",
              "  color: var(--sklearn-color-unfitted-level-1);\n",
              "}\n",
              "\n",
              ".sk-estimator-doc-link.fitted,\n",
              "a:link.sk-estimator-doc-link.fitted,\n",
              "a:visited.sk-estimator-doc-link.fitted {\n",
              "  /* fitted */\n",
              "  border: var(--sklearn-color-fitted-level-1) 1pt solid;\n",
              "  color: var(--sklearn-color-fitted-level-1);\n",
              "}\n",
              "\n",
              "/* On hover */\n",
              "div.sk-estimator:hover .sk-estimator-doc-link:hover,\n",
              ".sk-estimator-doc-link:hover,\n",
              "div.sk-label-container:hover .sk-estimator-doc-link:hover,\n",
              ".sk-estimator-doc-link:hover {\n",
              "  /* unfitted */\n",
              "  background-color: var(--sklearn-color-unfitted-level-3);\n",
              "  color: var(--sklearn-color-background);\n",
              "  text-decoration: none;\n",
              "}\n",
              "\n",
              "div.sk-estimator.fitted:hover .sk-estimator-doc-link.fitted:hover,\n",
              ".sk-estimator-doc-link.fitted:hover,\n",
              "div.sk-label-container:hover .sk-estimator-doc-link.fitted:hover,\n",
              ".sk-estimator-doc-link.fitted:hover {\n",
              "  /* fitted */\n",
              "  background-color: var(--sklearn-color-fitted-level-3);\n",
              "  color: var(--sklearn-color-background);\n",
              "  text-decoration: none;\n",
              "}\n",
              "\n",
              "/* Span, style for the box shown on hovering the info icon */\n",
              ".sk-estimator-doc-link span {\n",
              "  display: none;\n",
              "  z-index: 9999;\n",
              "  position: relative;\n",
              "  font-weight: normal;\n",
              "  right: .2ex;\n",
              "  padding: .5ex;\n",
              "  margin: .5ex;\n",
              "  width: min-content;\n",
              "  min-width: 20ex;\n",
              "  max-width: 50ex;\n",
              "  color: var(--sklearn-color-text);\n",
              "  box-shadow: 2pt 2pt 4pt #999;\n",
              "  /* unfitted */\n",
              "  background: var(--sklearn-color-unfitted-level-0);\n",
              "  border: .5pt solid var(--sklearn-color-unfitted-level-3);\n",
              "}\n",
              "\n",
              ".sk-estimator-doc-link.fitted span {\n",
              "  /* fitted */\n",
              "  background: var(--sklearn-color-fitted-level-0);\n",
              "  border: var(--sklearn-color-fitted-level-3);\n",
              "}\n",
              "\n",
              ".sk-estimator-doc-link:hover span {\n",
              "  display: block;\n",
              "}\n",
              "\n",
              "/* \"?\"-specific style due to the `<a>` HTML tag */\n",
              "\n",
              "#sk-container-id-7 a.estimator_doc_link {\n",
              "  float: right;\n",
              "  font-size: 1rem;\n",
              "  line-height: 1em;\n",
              "  font-family: monospace;\n",
              "  background-color: var(--sklearn-color-background);\n",
              "  border-radius: 1rem;\n",
              "  height: 1rem;\n",
              "  width: 1rem;\n",
              "  text-decoration: none;\n",
              "  /* unfitted */\n",
              "  color: var(--sklearn-color-unfitted-level-1);\n",
              "  border: var(--sklearn-color-unfitted-level-1) 1pt solid;\n",
              "}\n",
              "\n",
              "#sk-container-id-7 a.estimator_doc_link.fitted {\n",
              "  /* fitted */\n",
              "  border: var(--sklearn-color-fitted-level-1) 1pt solid;\n",
              "  color: var(--sklearn-color-fitted-level-1);\n",
              "}\n",
              "\n",
              "/* On hover */\n",
              "#sk-container-id-7 a.estimator_doc_link:hover {\n",
              "  /* unfitted */\n",
              "  background-color: var(--sklearn-color-unfitted-level-3);\n",
              "  color: var(--sklearn-color-background);\n",
              "  text-decoration: none;\n",
              "}\n",
              "\n",
              "#sk-container-id-7 a.estimator_doc_link.fitted:hover {\n",
              "  /* fitted */\n",
              "  background-color: var(--sklearn-color-fitted-level-3);\n",
              "}\n",
              "</style><div id=\"sk-container-id-7\" class=\"sk-top-container\"><div class=\"sk-text-repr-fallback\"><pre>Pipeline(steps=[(&#x27;standardize&#x27;, StandardScaler()),\n",
              "                (&#x27;log_reg&#x27;, LogisticRegression(max_iter=10000))])</pre><b>In a Jupyter environment, please rerun this cell to show the HTML representation or trust the notebook. <br />On GitHub, the HTML representation is unable to render, please try loading this page with nbviewer.org.</b></div><div class=\"sk-container\" hidden><div class=\"sk-item sk-dashed-wrapped\"><div class=\"sk-label-container\"><div class=\"sk-label  sk-toggleable\"><input class=\"sk-toggleable__control sk-hidden--visually\" id=\"sk-estimator-id-15\" type=\"checkbox\" ><label for=\"sk-estimator-id-15\" class=\"sk-toggleable__label  sk-toggleable__label-arrow\"><div><div>Pipeline</div></div><div><a class=\"sk-estimator-doc-link \" rel=\"noreferrer\" target=\"_blank\" href=\"https://scikit-learn.org/1.6/modules/generated/sklearn.pipeline.Pipeline.html\">?<span>Documentation for Pipeline</span></a><span class=\"sk-estimator-doc-link \">i<span>Not fitted</span></span></div></label><div class=\"sk-toggleable__content \"><pre>Pipeline(steps=[(&#x27;standardize&#x27;, StandardScaler()),\n",
              "                (&#x27;log_reg&#x27;, LogisticRegression(max_iter=10000))])</pre></div> </div></div><div class=\"sk-serial\"><div class=\"sk-item\"><div class=\"sk-estimator  sk-toggleable\"><input class=\"sk-toggleable__control sk-hidden--visually\" id=\"sk-estimator-id-16\" type=\"checkbox\" ><label for=\"sk-estimator-id-16\" class=\"sk-toggleable__label  sk-toggleable__label-arrow\"><div><div>StandardScaler</div></div><div><a class=\"sk-estimator-doc-link \" rel=\"noreferrer\" target=\"_blank\" href=\"https://scikit-learn.org/1.6/modules/generated/sklearn.preprocessing.StandardScaler.html\">?<span>Documentation for StandardScaler</span></a></div></label><div class=\"sk-toggleable__content \"><pre>StandardScaler()</pre></div> </div></div><div class=\"sk-item\"><div class=\"sk-estimator  sk-toggleable\"><input class=\"sk-toggleable__control sk-hidden--visually\" id=\"sk-estimator-id-17\" type=\"checkbox\" ><label for=\"sk-estimator-id-17\" class=\"sk-toggleable__label  sk-toggleable__label-arrow\"><div><div>LogisticRegression</div></div><div><a class=\"sk-estimator-doc-link \" rel=\"noreferrer\" target=\"_blank\" href=\"https://scikit-learn.org/1.6/modules/generated/sklearn.linear_model.LogisticRegression.html\">?<span>Documentation for LogisticRegression</span></a></div></label><div class=\"sk-toggleable__content \"><pre>LogisticRegression(max_iter=10000)</pre></div> </div></div></div></div></div></div>"
            ]
          },
          "metadata": {},
          "execution_count": 342
        }
      ],
      "source": [
        "scaler = StandardScaler()\n",
        "\n",
        "lr = LogisticRegression(max_iter=10000, solver='lbfgs')\n",
        "\n",
        "model1 = Pipeline([('standardize', scaler),\n",
        "                    ('log_reg', lr)])\n",
        "model1\n",
        "#model1 is a pipeline that Standardizes the features,\n",
        "#Trains a logistic regression model using the standardized data.\n",
        "#This structure ensures a clean, efficient, and error-free workflow for preprocessing and modeling."
      ]
    },
    {
      "cell_type": "code",
      "execution_count": 343,
      "metadata": {
        "id": "RrqI9pvSwOFZ",
        "colab": {
          "base_uri": "https://localhost:8080/",
          "height": 157
        },
        "outputId": "027f70b9-d7e4-4c47-ff39-dcbf1a3f5751"
      },
      "outputs": [
        {
          "output_type": "execute_result",
          "data": {
            "text/plain": [
              "Pipeline(steps=[('standardize', StandardScaler()),\n",
              "                ('log_reg', LogisticRegression(max_iter=10000))])"
            ],
            "text/html": [
              "<style>#sk-container-id-8 {\n",
              "  /* Definition of color scheme common for light and dark mode */\n",
              "  --sklearn-color-text: #000;\n",
              "  --sklearn-color-text-muted: #666;\n",
              "  --sklearn-color-line: gray;\n",
              "  /* Definition of color scheme for unfitted estimators */\n",
              "  --sklearn-color-unfitted-level-0: #fff5e6;\n",
              "  --sklearn-color-unfitted-level-1: #f6e4d2;\n",
              "  --sklearn-color-unfitted-level-2: #ffe0b3;\n",
              "  --sklearn-color-unfitted-level-3: chocolate;\n",
              "  /* Definition of color scheme for fitted estimators */\n",
              "  --sklearn-color-fitted-level-0: #f0f8ff;\n",
              "  --sklearn-color-fitted-level-1: #d4ebff;\n",
              "  --sklearn-color-fitted-level-2: #b3dbfd;\n",
              "  --sklearn-color-fitted-level-3: cornflowerblue;\n",
              "\n",
              "  /* Specific color for light theme */\n",
              "  --sklearn-color-text-on-default-background: var(--sg-text-color, var(--theme-code-foreground, var(--jp-content-font-color1, black)));\n",
              "  --sklearn-color-background: var(--sg-background-color, var(--theme-background, var(--jp-layout-color0, white)));\n",
              "  --sklearn-color-border-box: var(--sg-text-color, var(--theme-code-foreground, var(--jp-content-font-color1, black)));\n",
              "  --sklearn-color-icon: #696969;\n",
              "\n",
              "  @media (prefers-color-scheme: dark) {\n",
              "    /* Redefinition of color scheme for dark theme */\n",
              "    --sklearn-color-text-on-default-background: var(--sg-text-color, var(--theme-code-foreground, var(--jp-content-font-color1, white)));\n",
              "    --sklearn-color-background: var(--sg-background-color, var(--theme-background, var(--jp-layout-color0, #111)));\n",
              "    --sklearn-color-border-box: var(--sg-text-color, var(--theme-code-foreground, var(--jp-content-font-color1, white)));\n",
              "    --sklearn-color-icon: #878787;\n",
              "  }\n",
              "}\n",
              "\n",
              "#sk-container-id-8 {\n",
              "  color: var(--sklearn-color-text);\n",
              "}\n",
              "\n",
              "#sk-container-id-8 pre {\n",
              "  padding: 0;\n",
              "}\n",
              "\n",
              "#sk-container-id-8 input.sk-hidden--visually {\n",
              "  border: 0;\n",
              "  clip: rect(1px 1px 1px 1px);\n",
              "  clip: rect(1px, 1px, 1px, 1px);\n",
              "  height: 1px;\n",
              "  margin: -1px;\n",
              "  overflow: hidden;\n",
              "  padding: 0;\n",
              "  position: absolute;\n",
              "  width: 1px;\n",
              "}\n",
              "\n",
              "#sk-container-id-8 div.sk-dashed-wrapped {\n",
              "  border: 1px dashed var(--sklearn-color-line);\n",
              "  margin: 0 0.4em 0.5em 0.4em;\n",
              "  box-sizing: border-box;\n",
              "  padding-bottom: 0.4em;\n",
              "  background-color: var(--sklearn-color-background);\n",
              "}\n",
              "\n",
              "#sk-container-id-8 div.sk-container {\n",
              "  /* jupyter's `normalize.less` sets `[hidden] { display: none; }`\n",
              "     but bootstrap.min.css set `[hidden] { display: none !important; }`\n",
              "     so we also need the `!important` here to be able to override the\n",
              "     default hidden behavior on the sphinx rendered scikit-learn.org.\n",
              "     See: https://github.com/scikit-learn/scikit-learn/issues/21755 */\n",
              "  display: inline-block !important;\n",
              "  position: relative;\n",
              "}\n",
              "\n",
              "#sk-container-id-8 div.sk-text-repr-fallback {\n",
              "  display: none;\n",
              "}\n",
              "\n",
              "div.sk-parallel-item,\n",
              "div.sk-serial,\n",
              "div.sk-item {\n",
              "  /* draw centered vertical line to link estimators */\n",
              "  background-image: linear-gradient(var(--sklearn-color-text-on-default-background), var(--sklearn-color-text-on-default-background));\n",
              "  background-size: 2px 100%;\n",
              "  background-repeat: no-repeat;\n",
              "  background-position: center center;\n",
              "}\n",
              "\n",
              "/* Parallel-specific style estimator block */\n",
              "\n",
              "#sk-container-id-8 div.sk-parallel-item::after {\n",
              "  content: \"\";\n",
              "  width: 100%;\n",
              "  border-bottom: 2px solid var(--sklearn-color-text-on-default-background);\n",
              "  flex-grow: 1;\n",
              "}\n",
              "\n",
              "#sk-container-id-8 div.sk-parallel {\n",
              "  display: flex;\n",
              "  align-items: stretch;\n",
              "  justify-content: center;\n",
              "  background-color: var(--sklearn-color-background);\n",
              "  position: relative;\n",
              "}\n",
              "\n",
              "#sk-container-id-8 div.sk-parallel-item {\n",
              "  display: flex;\n",
              "  flex-direction: column;\n",
              "}\n",
              "\n",
              "#sk-container-id-8 div.sk-parallel-item:first-child::after {\n",
              "  align-self: flex-end;\n",
              "  width: 50%;\n",
              "}\n",
              "\n",
              "#sk-container-id-8 div.sk-parallel-item:last-child::after {\n",
              "  align-self: flex-start;\n",
              "  width: 50%;\n",
              "}\n",
              "\n",
              "#sk-container-id-8 div.sk-parallel-item:only-child::after {\n",
              "  width: 0;\n",
              "}\n",
              "\n",
              "/* Serial-specific style estimator block */\n",
              "\n",
              "#sk-container-id-8 div.sk-serial {\n",
              "  display: flex;\n",
              "  flex-direction: column;\n",
              "  align-items: center;\n",
              "  background-color: var(--sklearn-color-background);\n",
              "  padding-right: 1em;\n",
              "  padding-left: 1em;\n",
              "}\n",
              "\n",
              "\n",
              "/* Toggleable style: style used for estimator/Pipeline/ColumnTransformer box that is\n",
              "clickable and can be expanded/collapsed.\n",
              "- Pipeline and ColumnTransformer use this feature and define the default style\n",
              "- Estimators will overwrite some part of the style using the `sk-estimator` class\n",
              "*/\n",
              "\n",
              "/* Pipeline and ColumnTransformer style (default) */\n",
              "\n",
              "#sk-container-id-8 div.sk-toggleable {\n",
              "  /* Default theme specific background. It is overwritten whether we have a\n",
              "  specific estimator or a Pipeline/ColumnTransformer */\n",
              "  background-color: var(--sklearn-color-background);\n",
              "}\n",
              "\n",
              "/* Toggleable label */\n",
              "#sk-container-id-8 label.sk-toggleable__label {\n",
              "  cursor: pointer;\n",
              "  display: flex;\n",
              "  width: 100%;\n",
              "  margin-bottom: 0;\n",
              "  padding: 0.5em;\n",
              "  box-sizing: border-box;\n",
              "  text-align: center;\n",
              "  align-items: start;\n",
              "  justify-content: space-between;\n",
              "  gap: 0.5em;\n",
              "}\n",
              "\n",
              "#sk-container-id-8 label.sk-toggleable__label .caption {\n",
              "  font-size: 0.6rem;\n",
              "  font-weight: lighter;\n",
              "  color: var(--sklearn-color-text-muted);\n",
              "}\n",
              "\n",
              "#sk-container-id-8 label.sk-toggleable__label-arrow:before {\n",
              "  /* Arrow on the left of the label */\n",
              "  content: \"▸\";\n",
              "  float: left;\n",
              "  margin-right: 0.25em;\n",
              "  color: var(--sklearn-color-icon);\n",
              "}\n",
              "\n",
              "#sk-container-id-8 label.sk-toggleable__label-arrow:hover:before {\n",
              "  color: var(--sklearn-color-text);\n",
              "}\n",
              "\n",
              "/* Toggleable content - dropdown */\n",
              "\n",
              "#sk-container-id-8 div.sk-toggleable__content {\n",
              "  max-height: 0;\n",
              "  max-width: 0;\n",
              "  overflow: hidden;\n",
              "  text-align: left;\n",
              "  /* unfitted */\n",
              "  background-color: var(--sklearn-color-unfitted-level-0);\n",
              "}\n",
              "\n",
              "#sk-container-id-8 div.sk-toggleable__content.fitted {\n",
              "  /* fitted */\n",
              "  background-color: var(--sklearn-color-fitted-level-0);\n",
              "}\n",
              "\n",
              "#sk-container-id-8 div.sk-toggleable__content pre {\n",
              "  margin: 0.2em;\n",
              "  border-radius: 0.25em;\n",
              "  color: var(--sklearn-color-text);\n",
              "  /* unfitted */\n",
              "  background-color: var(--sklearn-color-unfitted-level-0);\n",
              "}\n",
              "\n",
              "#sk-container-id-8 div.sk-toggleable__content.fitted pre {\n",
              "  /* unfitted */\n",
              "  background-color: var(--sklearn-color-fitted-level-0);\n",
              "}\n",
              "\n",
              "#sk-container-id-8 input.sk-toggleable__control:checked~div.sk-toggleable__content {\n",
              "  /* Expand drop-down */\n",
              "  max-height: 200px;\n",
              "  max-width: 100%;\n",
              "  overflow: auto;\n",
              "}\n",
              "\n",
              "#sk-container-id-8 input.sk-toggleable__control:checked~label.sk-toggleable__label-arrow:before {\n",
              "  content: \"▾\";\n",
              "}\n",
              "\n",
              "/* Pipeline/ColumnTransformer-specific style */\n",
              "\n",
              "#sk-container-id-8 div.sk-label input.sk-toggleable__control:checked~label.sk-toggleable__label {\n",
              "  color: var(--sklearn-color-text);\n",
              "  background-color: var(--sklearn-color-unfitted-level-2);\n",
              "}\n",
              "\n",
              "#sk-container-id-8 div.sk-label.fitted input.sk-toggleable__control:checked~label.sk-toggleable__label {\n",
              "  background-color: var(--sklearn-color-fitted-level-2);\n",
              "}\n",
              "\n",
              "/* Estimator-specific style */\n",
              "\n",
              "/* Colorize estimator box */\n",
              "#sk-container-id-8 div.sk-estimator input.sk-toggleable__control:checked~label.sk-toggleable__label {\n",
              "  /* unfitted */\n",
              "  background-color: var(--sklearn-color-unfitted-level-2);\n",
              "}\n",
              "\n",
              "#sk-container-id-8 div.sk-estimator.fitted input.sk-toggleable__control:checked~label.sk-toggleable__label {\n",
              "  /* fitted */\n",
              "  background-color: var(--sklearn-color-fitted-level-2);\n",
              "}\n",
              "\n",
              "#sk-container-id-8 div.sk-label label.sk-toggleable__label,\n",
              "#sk-container-id-8 div.sk-label label {\n",
              "  /* The background is the default theme color */\n",
              "  color: var(--sklearn-color-text-on-default-background);\n",
              "}\n",
              "\n",
              "/* On hover, darken the color of the background */\n",
              "#sk-container-id-8 div.sk-label:hover label.sk-toggleable__label {\n",
              "  color: var(--sklearn-color-text);\n",
              "  background-color: var(--sklearn-color-unfitted-level-2);\n",
              "}\n",
              "\n",
              "/* Label box, darken color on hover, fitted */\n",
              "#sk-container-id-8 div.sk-label.fitted:hover label.sk-toggleable__label.fitted {\n",
              "  color: var(--sklearn-color-text);\n",
              "  background-color: var(--sklearn-color-fitted-level-2);\n",
              "}\n",
              "\n",
              "/* Estimator label */\n",
              "\n",
              "#sk-container-id-8 div.sk-label label {\n",
              "  font-family: monospace;\n",
              "  font-weight: bold;\n",
              "  display: inline-block;\n",
              "  line-height: 1.2em;\n",
              "}\n",
              "\n",
              "#sk-container-id-8 div.sk-label-container {\n",
              "  text-align: center;\n",
              "}\n",
              "\n",
              "/* Estimator-specific */\n",
              "#sk-container-id-8 div.sk-estimator {\n",
              "  font-family: monospace;\n",
              "  border: 1px dotted var(--sklearn-color-border-box);\n",
              "  border-radius: 0.25em;\n",
              "  box-sizing: border-box;\n",
              "  margin-bottom: 0.5em;\n",
              "  /* unfitted */\n",
              "  background-color: var(--sklearn-color-unfitted-level-0);\n",
              "}\n",
              "\n",
              "#sk-container-id-8 div.sk-estimator.fitted {\n",
              "  /* fitted */\n",
              "  background-color: var(--sklearn-color-fitted-level-0);\n",
              "}\n",
              "\n",
              "/* on hover */\n",
              "#sk-container-id-8 div.sk-estimator:hover {\n",
              "  /* unfitted */\n",
              "  background-color: var(--sklearn-color-unfitted-level-2);\n",
              "}\n",
              "\n",
              "#sk-container-id-8 div.sk-estimator.fitted:hover {\n",
              "  /* fitted */\n",
              "  background-color: var(--sklearn-color-fitted-level-2);\n",
              "}\n",
              "\n",
              "/* Specification for estimator info (e.g. \"i\" and \"?\") */\n",
              "\n",
              "/* Common style for \"i\" and \"?\" */\n",
              "\n",
              ".sk-estimator-doc-link,\n",
              "a:link.sk-estimator-doc-link,\n",
              "a:visited.sk-estimator-doc-link {\n",
              "  float: right;\n",
              "  font-size: smaller;\n",
              "  line-height: 1em;\n",
              "  font-family: monospace;\n",
              "  background-color: var(--sklearn-color-background);\n",
              "  border-radius: 1em;\n",
              "  height: 1em;\n",
              "  width: 1em;\n",
              "  text-decoration: none !important;\n",
              "  margin-left: 0.5em;\n",
              "  text-align: center;\n",
              "  /* unfitted */\n",
              "  border: var(--sklearn-color-unfitted-level-1) 1pt solid;\n",
              "  color: var(--sklearn-color-unfitted-level-1);\n",
              "}\n",
              "\n",
              ".sk-estimator-doc-link.fitted,\n",
              "a:link.sk-estimator-doc-link.fitted,\n",
              "a:visited.sk-estimator-doc-link.fitted {\n",
              "  /* fitted */\n",
              "  border: var(--sklearn-color-fitted-level-1) 1pt solid;\n",
              "  color: var(--sklearn-color-fitted-level-1);\n",
              "}\n",
              "\n",
              "/* On hover */\n",
              "div.sk-estimator:hover .sk-estimator-doc-link:hover,\n",
              ".sk-estimator-doc-link:hover,\n",
              "div.sk-label-container:hover .sk-estimator-doc-link:hover,\n",
              ".sk-estimator-doc-link:hover {\n",
              "  /* unfitted */\n",
              "  background-color: var(--sklearn-color-unfitted-level-3);\n",
              "  color: var(--sklearn-color-background);\n",
              "  text-decoration: none;\n",
              "}\n",
              "\n",
              "div.sk-estimator.fitted:hover .sk-estimator-doc-link.fitted:hover,\n",
              ".sk-estimator-doc-link.fitted:hover,\n",
              "div.sk-label-container:hover .sk-estimator-doc-link.fitted:hover,\n",
              ".sk-estimator-doc-link.fitted:hover {\n",
              "  /* fitted */\n",
              "  background-color: var(--sklearn-color-fitted-level-3);\n",
              "  color: var(--sklearn-color-background);\n",
              "  text-decoration: none;\n",
              "}\n",
              "\n",
              "/* Span, style for the box shown on hovering the info icon */\n",
              ".sk-estimator-doc-link span {\n",
              "  display: none;\n",
              "  z-index: 9999;\n",
              "  position: relative;\n",
              "  font-weight: normal;\n",
              "  right: .2ex;\n",
              "  padding: .5ex;\n",
              "  margin: .5ex;\n",
              "  width: min-content;\n",
              "  min-width: 20ex;\n",
              "  max-width: 50ex;\n",
              "  color: var(--sklearn-color-text);\n",
              "  box-shadow: 2pt 2pt 4pt #999;\n",
              "  /* unfitted */\n",
              "  background: var(--sklearn-color-unfitted-level-0);\n",
              "  border: .5pt solid var(--sklearn-color-unfitted-level-3);\n",
              "}\n",
              "\n",
              ".sk-estimator-doc-link.fitted span {\n",
              "  /* fitted */\n",
              "  background: var(--sklearn-color-fitted-level-0);\n",
              "  border: var(--sklearn-color-fitted-level-3);\n",
              "}\n",
              "\n",
              ".sk-estimator-doc-link:hover span {\n",
              "  display: block;\n",
              "}\n",
              "\n",
              "/* \"?\"-specific style due to the `<a>` HTML tag */\n",
              "\n",
              "#sk-container-id-8 a.estimator_doc_link {\n",
              "  float: right;\n",
              "  font-size: 1rem;\n",
              "  line-height: 1em;\n",
              "  font-family: monospace;\n",
              "  background-color: var(--sklearn-color-background);\n",
              "  border-radius: 1rem;\n",
              "  height: 1rem;\n",
              "  width: 1rem;\n",
              "  text-decoration: none;\n",
              "  /* unfitted */\n",
              "  color: var(--sklearn-color-unfitted-level-1);\n",
              "  border: var(--sklearn-color-unfitted-level-1) 1pt solid;\n",
              "}\n",
              "\n",
              "#sk-container-id-8 a.estimator_doc_link.fitted {\n",
              "  /* fitted */\n",
              "  border: var(--sklearn-color-fitted-level-1) 1pt solid;\n",
              "  color: var(--sklearn-color-fitted-level-1);\n",
              "}\n",
              "\n",
              "/* On hover */\n",
              "#sk-container-id-8 a.estimator_doc_link:hover {\n",
              "  /* unfitted */\n",
              "  background-color: var(--sklearn-color-unfitted-level-3);\n",
              "  color: var(--sklearn-color-background);\n",
              "  text-decoration: none;\n",
              "}\n",
              "\n",
              "#sk-container-id-8 a.estimator_doc_link.fitted:hover {\n",
              "  /* fitted */\n",
              "  background-color: var(--sklearn-color-fitted-level-3);\n",
              "}\n",
              "</style><div id=\"sk-container-id-8\" class=\"sk-top-container\"><div class=\"sk-text-repr-fallback\"><pre>Pipeline(steps=[(&#x27;standardize&#x27;, StandardScaler()),\n",
              "                (&#x27;log_reg&#x27;, LogisticRegression(max_iter=10000))])</pre><b>In a Jupyter environment, please rerun this cell to show the HTML representation or trust the notebook. <br />On GitHub, the HTML representation is unable to render, please try loading this page with nbviewer.org.</b></div><div class=\"sk-container\" hidden><div class=\"sk-item sk-dashed-wrapped\"><div class=\"sk-label-container\"><div class=\"sk-label fitted sk-toggleable\"><input class=\"sk-toggleable__control sk-hidden--visually\" id=\"sk-estimator-id-18\" type=\"checkbox\" ><label for=\"sk-estimator-id-18\" class=\"sk-toggleable__label fitted sk-toggleable__label-arrow\"><div><div>Pipeline</div></div><div><a class=\"sk-estimator-doc-link fitted\" rel=\"noreferrer\" target=\"_blank\" href=\"https://scikit-learn.org/1.6/modules/generated/sklearn.pipeline.Pipeline.html\">?<span>Documentation for Pipeline</span></a><span class=\"sk-estimator-doc-link fitted\">i<span>Fitted</span></span></div></label><div class=\"sk-toggleable__content fitted\"><pre>Pipeline(steps=[(&#x27;standardize&#x27;, StandardScaler()),\n",
              "                (&#x27;log_reg&#x27;, LogisticRegression(max_iter=10000))])</pre></div> </div></div><div class=\"sk-serial\"><div class=\"sk-item\"><div class=\"sk-estimator fitted sk-toggleable\"><input class=\"sk-toggleable__control sk-hidden--visually\" id=\"sk-estimator-id-19\" type=\"checkbox\" ><label for=\"sk-estimator-id-19\" class=\"sk-toggleable__label fitted sk-toggleable__label-arrow\"><div><div>StandardScaler</div></div><div><a class=\"sk-estimator-doc-link fitted\" rel=\"noreferrer\" target=\"_blank\" href=\"https://scikit-learn.org/1.6/modules/generated/sklearn.preprocessing.StandardScaler.html\">?<span>Documentation for StandardScaler</span></a></div></label><div class=\"sk-toggleable__content fitted\"><pre>StandardScaler()</pre></div> </div></div><div class=\"sk-item\"><div class=\"sk-estimator fitted sk-toggleable\"><input class=\"sk-toggleable__control sk-hidden--visually\" id=\"sk-estimator-id-20\" type=\"checkbox\" ><label for=\"sk-estimator-id-20\" class=\"sk-toggleable__label fitted sk-toggleable__label-arrow\"><div><div>LogisticRegression</div></div><div><a class=\"sk-estimator-doc-link fitted\" rel=\"noreferrer\" target=\"_blank\" href=\"https://scikit-learn.org/1.6/modules/generated/sklearn.linear_model.LogisticRegression.html\">?<span>Documentation for LogisticRegression</span></a></div></label><div class=\"sk-toggleable__content fitted\"><pre>LogisticRegression(max_iter=10000)</pre></div> </div></div></div></div></div></div>"
            ]
          },
          "metadata": {},
          "execution_count": 343
        }
      ],
      "source": [
        "model1.fit(X_train, y_train)"
      ]
    },
    {
      "cell_type": "code",
      "execution_count": 344,
      "metadata": {
        "id": "fYbEgUW5xQHE",
        "colab": {
          "base_uri": "https://localhost:8080/",
          "height": 187
        },
        "outputId": "93a4dcfa-252b-4c5c-ab07-3ab067114964"
      },
      "outputs": [
        {
          "output_type": "execute_result",
          "data": {
            "text/plain": [
              "<bound method Pipeline.get_params of Pipeline(steps=[('standardize', StandardScaler()),\n",
              "                ('log_reg', LogisticRegression(max_iter=10000))])>"
            ],
            "text/html": [
              "<div style=\"max-width:800px; border: 1px solid var(--colab-border-color);\"><style>\n",
              "      pre.function-repr-contents {\n",
              "        overflow-x: auto;\n",
              "        padding: 8px 12px;\n",
              "        max-height: 500px;\n",
              "      }\n",
              "\n",
              "      pre.function-repr-contents.function-repr-contents-collapsed {\n",
              "        cursor: pointer;\n",
              "        max-height: 100px;\n",
              "      }\n",
              "    </style>\n",
              "    <pre style=\"white-space: initial; background:\n",
              "         var(--colab-secondary-surface-color); padding: 8px 12px;\n",
              "         border-bottom: 1px solid var(--colab-border-color);\"><b>sklearn.pipeline.Pipeline.get_params</b><br/>def get_params(deep=True)</pre><pre class=\"function-repr-contents function-repr-contents-collapsed\" style=\"\"><a class=\"filepath\" style=\"display:none\" href=\"#\">/usr/local/lib/python3.11/dist-packages/sklearn/pipeline.py</a>Get parameters for this estimator.\n",
              "\n",
              "Returns the parameters given in the constructor as well as the\n",
              "estimators contained within the `steps` of the `Pipeline`.\n",
              "\n",
              "Parameters\n",
              "----------\n",
              "deep : bool, default=True\n",
              "    If True, will return the parameters for this estimator and\n",
              "    contained subobjects that are estimators.\n",
              "\n",
              "Returns\n",
              "-------\n",
              "params : mapping of string to any\n",
              "    Parameter names mapped to their values.</pre>\n",
              "      <script>\n",
              "      if (google.colab.kernel.accessAllowed && google.colab.files && google.colab.files.view) {\n",
              "        for (const element of document.querySelectorAll('.filepath')) {\n",
              "          element.style.display = 'block'\n",
              "          element.onclick = (event) => {\n",
              "            event.preventDefault();\n",
              "            event.stopPropagation();\n",
              "            google.colab.files.view(element.textContent, 282);\n",
              "          };\n",
              "        }\n",
              "      }\n",
              "      for (const element of document.querySelectorAll('.function-repr-contents')) {\n",
              "        element.onclick = (event) => {\n",
              "          event.preventDefault();\n",
              "          event.stopPropagation();\n",
              "          element.classList.toggle('function-repr-contents-collapsed');\n",
              "        };\n",
              "      }\n",
              "      </script>\n",
              "      </div>"
            ]
          },
          "metadata": {},
          "execution_count": 344
        }
      ],
      "source": [
        "model1.get_params\n",
        "#returns the pipeline parameters, useful for inspection or modification."
      ]
    },
    {
      "cell_type": "code",
      "execution_count": 345,
      "metadata": {
        "id": "HodzJiIIxQUj",
        "colab": {
          "base_uri": "https://localhost:8080/"
        },
        "outputId": "068a38f4-81bb-47cf-892b-907b9f02388c"
      },
      "outputs": [
        {
          "output_type": "execute_result",
          "data": {
            "text/plain": [
              "array([1, 1, 1, 1, 0, 1, 1, 1, 1, 1, 1, 0, 1, 0, 1, 0, 1, 1, 1, 1, 1, 1,\n",
              "       0, 1, 0, 0, 0, 0, 1, 1, 1, 0, 0, 1, 0, 0, 1, 0, 0, 1, 1, 0, 1, 1,\n",
              "       1, 0, 1, 1, 1, 0, 0, 1, 1, 1, 1, 0, 1, 0, 1, 1, 0, 0, 0, 1, 1, 1,\n",
              "       0, 0, 1, 0, 0, 0, 1, 1, 0, 0, 1, 0, 0, 1, 1, 0, 1, 1, 0, 0, 1, 1,\n",
              "       1, 1, 0, 1, 1, 1, 1, 1, 0, 1, 0, 1])"
            ]
          },
          "metadata": {},
          "execution_count": 345
        }
      ],
      "source": [
        "# Now predict\n",
        "y_train_hat = model1.predict(X_train)\n",
        "y_train_hat[:100]\n",
        "#This code uses the model to predict labels on `X_train` and displays the first 100 predictions."
      ]
    },
    {
      "cell_type": "code",
      "execution_count": 346,
      "metadata": {
        "id": "EFZq087YxQXj"
      },
      "outputs": [],
      "source": [
        "y_train_hat_probs = model1.predict_proba(X_train)[:,1] # probabilities of being in class 1"
      ]
    },
    {
      "cell_type": "code",
      "execution_count": 347,
      "metadata": {
        "id": "IG6k94M2xQai",
        "colab": {
          "base_uri": "https://localhost:8080/",
          "height": 424
        },
        "outputId": "07fbb4c5-0224-48a3-cb6e-6b443c0aaa1e"
      },
      "outputs": [
        {
          "output_type": "execute_result",
          "data": {
            "text/plain": [
              "    y_train_hat  y_train_hat_probs\n",
              "0             1       1.000000e+00\n",
              "1             1       1.000000e+00\n",
              "2             1       9.281476e-01\n",
              "3             1       9.641604e-01\n",
              "4             0       1.651353e-20\n",
              "..          ...                ...\n",
              "95            1       9.301505e-01\n",
              "96            0       4.662660e-06\n",
              "97            1       9.999660e-01\n",
              "98            0       3.829161e-02\n",
              "99            1       9.992031e-01\n",
              "\n",
              "[100 rows x 2 columns]"
            ],
            "text/html": [
              "\n",
              "  <div id=\"df-a4f2ec72-d75e-47e7-be3f-110a68a22728\" class=\"colab-df-container\">\n",
              "    <div>\n",
              "<style scoped>\n",
              "    .dataframe tbody tr th:only-of-type {\n",
              "        vertical-align: middle;\n",
              "    }\n",
              "\n",
              "    .dataframe tbody tr th {\n",
              "        vertical-align: top;\n",
              "    }\n",
              "\n",
              "    .dataframe thead th {\n",
              "        text-align: right;\n",
              "    }\n",
              "</style>\n",
              "<table border=\"1\" class=\"dataframe\">\n",
              "  <thead>\n",
              "    <tr style=\"text-align: right;\">\n",
              "      <th></th>\n",
              "      <th>y_train_hat</th>\n",
              "      <th>y_train_hat_probs</th>\n",
              "    </tr>\n",
              "  </thead>\n",
              "  <tbody>\n",
              "    <tr>\n",
              "      <th>0</th>\n",
              "      <td>1</td>\n",
              "      <td>1.000000e+00</td>\n",
              "    </tr>\n",
              "    <tr>\n",
              "      <th>1</th>\n",
              "      <td>1</td>\n",
              "      <td>1.000000e+00</td>\n",
              "    </tr>\n",
              "    <tr>\n",
              "      <th>2</th>\n",
              "      <td>1</td>\n",
              "      <td>9.281476e-01</td>\n",
              "    </tr>\n",
              "    <tr>\n",
              "      <th>3</th>\n",
              "      <td>1</td>\n",
              "      <td>9.641604e-01</td>\n",
              "    </tr>\n",
              "    <tr>\n",
              "      <th>4</th>\n",
              "      <td>0</td>\n",
              "      <td>1.651353e-20</td>\n",
              "    </tr>\n",
              "    <tr>\n",
              "      <th>...</th>\n",
              "      <td>...</td>\n",
              "      <td>...</td>\n",
              "    </tr>\n",
              "    <tr>\n",
              "      <th>95</th>\n",
              "      <td>1</td>\n",
              "      <td>9.301505e-01</td>\n",
              "    </tr>\n",
              "    <tr>\n",
              "      <th>96</th>\n",
              "      <td>0</td>\n",
              "      <td>4.662660e-06</td>\n",
              "    </tr>\n",
              "    <tr>\n",
              "      <th>97</th>\n",
              "      <td>1</td>\n",
              "      <td>9.999660e-01</td>\n",
              "    </tr>\n",
              "    <tr>\n",
              "      <th>98</th>\n",
              "      <td>0</td>\n",
              "      <td>3.829161e-02</td>\n",
              "    </tr>\n",
              "    <tr>\n",
              "      <th>99</th>\n",
              "      <td>1</td>\n",
              "      <td>9.992031e-01</td>\n",
              "    </tr>\n",
              "  </tbody>\n",
              "</table>\n",
              "<p>100 rows × 2 columns</p>\n",
              "</div>\n",
              "    <div class=\"colab-df-buttons\">\n",
              "\n",
              "  <div class=\"colab-df-container\">\n",
              "    <button class=\"colab-df-convert\" onclick=\"convertToInteractive('df-a4f2ec72-d75e-47e7-be3f-110a68a22728')\"\n",
              "            title=\"Convert this dataframe to an interactive table.\"\n",
              "            style=\"display:none;\">\n",
              "\n",
              "  <svg xmlns=\"http://www.w3.org/2000/svg\" height=\"24px\" viewBox=\"0 -960 960 960\">\n",
              "    <path d=\"M120-120v-720h720v720H120Zm60-500h600v-160H180v160Zm220 220h160v-160H400v160Zm0 220h160v-160H400v160ZM180-400h160v-160H180v160Zm440 0h160v-160H620v160ZM180-180h160v-160H180v160Zm440 0h160v-160H620v160Z\"/>\n",
              "  </svg>\n",
              "    </button>\n",
              "\n",
              "  <style>\n",
              "    .colab-df-container {\n",
              "      display:flex;\n",
              "      gap: 12px;\n",
              "    }\n",
              "\n",
              "    .colab-df-convert {\n",
              "      background-color: #E8F0FE;\n",
              "      border: none;\n",
              "      border-radius: 50%;\n",
              "      cursor: pointer;\n",
              "      display: none;\n",
              "      fill: #1967D2;\n",
              "      height: 32px;\n",
              "      padding: 0 0 0 0;\n",
              "      width: 32px;\n",
              "    }\n",
              "\n",
              "    .colab-df-convert:hover {\n",
              "      background-color: #E2EBFA;\n",
              "      box-shadow: 0px 1px 2px rgba(60, 64, 67, 0.3), 0px 1px 3px 1px rgba(60, 64, 67, 0.15);\n",
              "      fill: #174EA6;\n",
              "    }\n",
              "\n",
              "    .colab-df-buttons div {\n",
              "      margin-bottom: 4px;\n",
              "    }\n",
              "\n",
              "    [theme=dark] .colab-df-convert {\n",
              "      background-color: #3B4455;\n",
              "      fill: #D2E3FC;\n",
              "    }\n",
              "\n",
              "    [theme=dark] .colab-df-convert:hover {\n",
              "      background-color: #434B5C;\n",
              "      box-shadow: 0px 1px 3px 1px rgba(0, 0, 0, 0.15);\n",
              "      filter: drop-shadow(0px 1px 2px rgba(0, 0, 0, 0.3));\n",
              "      fill: #FFFFFF;\n",
              "    }\n",
              "  </style>\n",
              "\n",
              "    <script>\n",
              "      const buttonEl =\n",
              "        document.querySelector('#df-a4f2ec72-d75e-47e7-be3f-110a68a22728 button.colab-df-convert');\n",
              "      buttonEl.style.display =\n",
              "        google.colab.kernel.accessAllowed ? 'block' : 'none';\n",
              "\n",
              "      async function convertToInteractive(key) {\n",
              "        const element = document.querySelector('#df-a4f2ec72-d75e-47e7-be3f-110a68a22728');\n",
              "        const dataTable =\n",
              "          await google.colab.kernel.invokeFunction('convertToInteractive',\n",
              "                                                    [key], {});\n",
              "        if (!dataTable) return;\n",
              "\n",
              "        const docLinkHtml = 'Like what you see? Visit the ' +\n",
              "          '<a target=\"_blank\" href=https://colab.research.google.com/notebooks/data_table.ipynb>data table notebook</a>'\n",
              "          + ' to learn more about interactive tables.';\n",
              "        element.innerHTML = '';\n",
              "        dataTable['output_type'] = 'display_data';\n",
              "        await google.colab.output.renderOutput(dataTable, element);\n",
              "        const docLink = document.createElement('div');\n",
              "        docLink.innerHTML = docLinkHtml;\n",
              "        element.appendChild(docLink);\n",
              "      }\n",
              "    </script>\n",
              "  </div>\n",
              "\n",
              "\n",
              "<div id=\"df-1d2aa270-95ec-4af6-9371-d784da6688e2\">\n",
              "  <button class=\"colab-df-quickchart\" onclick=\"quickchart('df-1d2aa270-95ec-4af6-9371-d784da6688e2')\"\n",
              "            title=\"Suggest charts\"\n",
              "            style=\"display:none;\">\n",
              "\n",
              "<svg xmlns=\"http://www.w3.org/2000/svg\" height=\"24px\"viewBox=\"0 0 24 24\"\n",
              "     width=\"24px\">\n",
              "    <g>\n",
              "        <path d=\"M19 3H5c-1.1 0-2 .9-2 2v14c0 1.1.9 2 2 2h14c1.1 0 2-.9 2-2V5c0-1.1-.9-2-2-2zM9 17H7v-7h2v7zm4 0h-2V7h2v10zm4 0h-2v-4h2v4z\"/>\n",
              "    </g>\n",
              "</svg>\n",
              "  </button>\n",
              "\n",
              "<style>\n",
              "  .colab-df-quickchart {\n",
              "      --bg-color: #E8F0FE;\n",
              "      --fill-color: #1967D2;\n",
              "      --hover-bg-color: #E2EBFA;\n",
              "      --hover-fill-color: #174EA6;\n",
              "      --disabled-fill-color: #AAA;\n",
              "      --disabled-bg-color: #DDD;\n",
              "  }\n",
              "\n",
              "  [theme=dark] .colab-df-quickchart {\n",
              "      --bg-color: #3B4455;\n",
              "      --fill-color: #D2E3FC;\n",
              "      --hover-bg-color: #434B5C;\n",
              "      --hover-fill-color: #FFFFFF;\n",
              "      --disabled-bg-color: #3B4455;\n",
              "      --disabled-fill-color: #666;\n",
              "  }\n",
              "\n",
              "  .colab-df-quickchart {\n",
              "    background-color: var(--bg-color);\n",
              "    border: none;\n",
              "    border-radius: 50%;\n",
              "    cursor: pointer;\n",
              "    display: none;\n",
              "    fill: var(--fill-color);\n",
              "    height: 32px;\n",
              "    padding: 0;\n",
              "    width: 32px;\n",
              "  }\n",
              "\n",
              "  .colab-df-quickchart:hover {\n",
              "    background-color: var(--hover-bg-color);\n",
              "    box-shadow: 0 1px 2px rgba(60, 64, 67, 0.3), 0 1px 3px 1px rgba(60, 64, 67, 0.15);\n",
              "    fill: var(--button-hover-fill-color);\n",
              "  }\n",
              "\n",
              "  .colab-df-quickchart-complete:disabled,\n",
              "  .colab-df-quickchart-complete:disabled:hover {\n",
              "    background-color: var(--disabled-bg-color);\n",
              "    fill: var(--disabled-fill-color);\n",
              "    box-shadow: none;\n",
              "  }\n",
              "\n",
              "  .colab-df-spinner {\n",
              "    border: 2px solid var(--fill-color);\n",
              "    border-color: transparent;\n",
              "    border-bottom-color: var(--fill-color);\n",
              "    animation:\n",
              "      spin 1s steps(1) infinite;\n",
              "  }\n",
              "\n",
              "  @keyframes spin {\n",
              "    0% {\n",
              "      border-color: transparent;\n",
              "      border-bottom-color: var(--fill-color);\n",
              "      border-left-color: var(--fill-color);\n",
              "    }\n",
              "    20% {\n",
              "      border-color: transparent;\n",
              "      border-left-color: var(--fill-color);\n",
              "      border-top-color: var(--fill-color);\n",
              "    }\n",
              "    30% {\n",
              "      border-color: transparent;\n",
              "      border-left-color: var(--fill-color);\n",
              "      border-top-color: var(--fill-color);\n",
              "      border-right-color: var(--fill-color);\n",
              "    }\n",
              "    40% {\n",
              "      border-color: transparent;\n",
              "      border-right-color: var(--fill-color);\n",
              "      border-top-color: var(--fill-color);\n",
              "    }\n",
              "    60% {\n",
              "      border-color: transparent;\n",
              "      border-right-color: var(--fill-color);\n",
              "    }\n",
              "    80% {\n",
              "      border-color: transparent;\n",
              "      border-right-color: var(--fill-color);\n",
              "      border-bottom-color: var(--fill-color);\n",
              "    }\n",
              "    90% {\n",
              "      border-color: transparent;\n",
              "      border-bottom-color: var(--fill-color);\n",
              "    }\n",
              "  }\n",
              "</style>\n",
              "\n",
              "  <script>\n",
              "    async function quickchart(key) {\n",
              "      const quickchartButtonEl =\n",
              "        document.querySelector('#' + key + ' button');\n",
              "      quickchartButtonEl.disabled = true;  // To prevent multiple clicks.\n",
              "      quickchartButtonEl.classList.add('colab-df-spinner');\n",
              "      try {\n",
              "        const charts = await google.colab.kernel.invokeFunction(\n",
              "            'suggestCharts', [key], {});\n",
              "      } catch (error) {\n",
              "        console.error('Error during call to suggestCharts:', error);\n",
              "      }\n",
              "      quickchartButtonEl.classList.remove('colab-df-spinner');\n",
              "      quickchartButtonEl.classList.add('colab-df-quickchart-complete');\n",
              "    }\n",
              "    (() => {\n",
              "      let quickchartButtonEl =\n",
              "        document.querySelector('#df-1d2aa270-95ec-4af6-9371-d784da6688e2 button');\n",
              "      quickchartButtonEl.style.display =\n",
              "        google.colab.kernel.accessAllowed ? 'block' : 'none';\n",
              "    })();\n",
              "  </script>\n",
              "</div>\n",
              "\n",
              "    </div>\n",
              "  </div>\n"
            ],
            "application/vnd.google.colaboratory.intrinsic+json": {
              "type": "dataframe",
              "summary": "{\n  \"name\": \"#and displays the first 100 rows for inspection\",\n  \"rows\": 100,\n  \"fields\": [\n    {\n      \"column\": \"y_train_hat\",\n      \"properties\": {\n        \"dtype\": \"number\",\n        \"std\": 0,\n        \"min\": 0,\n        \"max\": 1,\n        \"num_unique_values\": 2,\n        \"samples\": [\n          0,\n          1\n        ],\n        \"semantic_type\": \"\",\n        \"description\": \"\"\n      }\n    },\n    {\n      \"column\": \"y_train_hat_probs\",\n      \"properties\": {\n        \"dtype\": \"number\",\n        \"std\": 0.47685270279328623,\n        \"min\": 2.8060115894460912e-21,\n        \"max\": 1.0,\n        \"num_unique_values\": 96,\n        \"samples\": [\n          6.562678992035143e-09,\n          0.0022269447536284095\n        ],\n        \"semantic_type\": \"\",\n        \"description\": \"\"\n      }\n    }\n  ]\n}"
            }
          },
          "metadata": {},
          "execution_count": 347
        }
      ],
      "source": [
        "temp= pd.DataFrame({'y_train_hat': y_train_hat, 'y_train_hat_probs': y_train_hat_probs})\n",
        "temp.head(100)\n",
        "#creates a DataFrame temp with two columns: y_train_hat (predicted labels) and y_train_hat_probs (probabilities for the positive class),\n",
        "#and displays the first 100 rows for inspection."
      ]
    },
    {
      "cell_type": "code",
      "execution_count": 348,
      "metadata": {
        "id": "zhXqFqRfxQdk",
        "colab": {
          "base_uri": "https://localhost:8080/",
          "height": 447
        },
        "outputId": "a0bbcdb7-dee8-412b-b9e1-006dabe184a0"
      },
      "outputs": [
        {
          "output_type": "execute_result",
          "data": {
            "text/plain": [
              "<Axes: >"
            ]
          },
          "metadata": {},
          "execution_count": 348
        },
        {
          "output_type": "display_data",
          "data": {
            "text/plain": [
              "<Figure size 640x480 with 1 Axes>"
            ],
            "image/png": "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\n"
          },
          "metadata": {}
        }
      ],
      "source": [
        "temp['y_train_hat_probs'].hist()"
      ]
    },
    {
      "cell_type": "code",
      "execution_count": 349,
      "metadata": {
        "id": "TGNdQlNsxQiQ",
        "colab": {
          "base_uri": "https://localhost:8080/"
        },
        "outputId": "e38b70f5-b10e-483c-a3a4-92ed483f7a4f"
      },
      "outputs": [
        {
          "output_type": "stream",
          "name": "stdout",
          "text": [
            "Confusion matrix:\n",
            " [[5088   22]\n",
            " [  30 5055]]\n",
            "Training AUC: 99.9885 %\n",
            "Training accuracy: 99.4899 %\n"
          ]
        }
      ],
      "source": [
        "train_accuracy = accuracy_score(y_train, y_train_hat)*100\n",
        "train_auc_roc = roc_auc_score(y_train, y_train_hat_probs)*100\n",
        "\n",
        "print('Confusion matrix:\\n', confusion_matrix(y_train, y_train_hat))\n",
        "print('Training AUC: %.4f %%' % train_auc_roc)\n",
        "print('Training accuracy: %.4f %%' % train_accuracy)"
      ]
    },
    {
      "cell_type": "code",
      "execution_count": 350,
      "metadata": {
        "id": "vnh0HpYgxQnn",
        "colab": {
          "base_uri": "https://localhost:8080/"
        },
        "outputId": "2a9711ce-68d0-4477-f00c-5c40c44a4231"
      },
      "outputs": [
        {
          "output_type": "stream",
          "name": "stdout",
          "text": [
            "              precision    recall  f1-score   support\n",
            "\n",
            "           0   0.992707  1.000000  0.996340      1225\n",
            "           1   1.000000  0.993202  0.996590      1324\n",
            "\n",
            "    accuracy                       0.996469      2549\n",
            "   macro avg   0.996353  0.996601  0.996465      2549\n",
            "weighted avg   0.996495  0.996469  0.996470      2549\n",
            "\n"
          ]
        }
      ],
      "source": [
        "print(classification_report(y_test, y_test_hat, digits=6))"
      ]
    },
    {
      "cell_type": "markdown",
      "source": [
        "##BAGGINGCLASSIFIER"
      ],
      "metadata": {
        "id": "p-RVJRnKOJd9"
      }
    },
    {
      "cell_type": "code",
      "execution_count": 351,
      "metadata": {
        "id": "-rM_D6g12LRC",
        "colab": {
          "base_uri": "https://localhost:8080/"
        },
        "outputId": "571ea82d-577c-44d7-a4a1-dfd7ad068cb8"
      },
      "outputs": [
        {
          "output_type": "stream",
          "name": "stdout",
          "text": [
            "Requirement already satisfied: scikit-learn in /usr/local/lib/python3.11/dist-packages (1.6.1)\n",
            "Requirement already satisfied: numpy>=1.19.5 in /usr/local/lib/python3.11/dist-packages (from scikit-learn) (1.26.4)\n",
            "Requirement already satisfied: scipy>=1.6.0 in /usr/local/lib/python3.11/dist-packages (from scikit-learn) (1.13.1)\n",
            "Requirement already satisfied: joblib>=1.2.0 in /usr/local/lib/python3.11/dist-packages (from scikit-learn) (1.4.2)\n",
            "Requirement already satisfied: threadpoolctl>=3.1.0 in /usr/local/lib/python3.11/dist-packages (from scikit-learn) (3.5.0)\n"
          ]
        }
      ],
      "source": [
        "!pip install --upgrade scikit-learn"
      ]
    },
    {
      "cell_type": "code",
      "execution_count": 352,
      "metadata": {
        "id": "OQ4bXvWAz2N5",
        "colab": {
          "base_uri": "https://localhost:8080/",
          "height": 772
        },
        "outputId": "cebfea54-6762-41a3-edd4-b667a91c5486"
      },
      "outputs": [
        {
          "output_type": "stream",
          "name": "stdout",
          "text": [
            "Accuracy: 1.00\n",
            "\n",
            "Classification Report:\n",
            "              precision    recall  f1-score   support\n",
            "\n",
            "           0       1.00      1.00      1.00      1874\n",
            "           1       1.00      1.00      1.00      1950\n",
            "\n",
            "    accuracy                           1.00      3824\n",
            "   macro avg       1.00      1.00      1.00      3824\n",
            "weighted avg       1.00      1.00      1.00      3824\n",
            "\n"
          ]
        },
        {
          "output_type": "display_data",
          "data": {
            "text/plain": [
              "<Figure size 800x600 with 2 Axes>"
            ],
            "image/png": "iVBORw0KGgoAAAANSUhEUgAAApIAAAIjCAYAAACwHvu2AAAAOnRFWHRTb2Z0d2FyZQBNYXRwbG90bGliIHZlcnNpb24zLjEwLjAsIGh0dHBzOi8vbWF0cGxvdGxpYi5vcmcvlHJYcgAAAAlwSFlzAAAPYQAAD2EBqD+naQAAWI5JREFUeJzt3Xt8zvX/x/Hntdm1EzthtsmZnE8RppiVrxkph/J1KJQojYoUoswhk0qIdHDqK6e+JZUicxjJCBk5tJBDB5scZs1hdrh+f/Tb9e1qw/axy67tety7fW43n/fn/fl8Xtdl8vJ6vz/vj8lisVgEAAAAFJBLUQcAAACA4olEEgAAAIaQSAIAAMAQEkkAAAAYQiIJAAAAQ0gkAQAAYAiJJAAAAAwhkQQAAIAhJJIAAAAwhEQSKATR0dEymUxFHYYkadGiRTKZTDp+/HhRh1JokpOT9eCDD6ps2bIymUyaMWNGod/DZDIpOjq60K/rrKpWraoBAwYUdRgA7IxEEsVKTpJkMpm0devWXMctFosqVaokk8mk++67z9A9pkyZolWrVt1kpCVPcnKyRo4cqTp16sjLy0ve3t5q1qyZJk+erJSUFLvee/jw4fr66681ZswYLV68WB07drTr/RzV33/+c7bAwECFh4drzZo1RR0eACdUqqgDAIzw8PDQ0qVLdffdd9u0b968Wb/++qvc3d0NX3vKlCl68MEH1bVr13yfM27cOI0ePdrwPR3dzp071alTJ6Wlpenhhx9Ws2bNJEm7du3S1KlTtWXLFq1bt85u99+4caMeeOABjRw50m73uHz5skqVKh7/S5w4caKqVasmi8Wi5ORkLVq0SJ06ddIXX3xh+B9QhS0xMVEuLtQqgJKuePxfE/iHTp066b///a9mzZpl85f/0qVL1axZM505c+aWxHHx4kV5e3urVKlSxSYJKaiUlBR169ZNrq6u2rNnj+rUqWNz/JVXXtH7779v1xhOnz4tPz8/u97Dw8PDrtcvTJGRkWrevLl1f+DAgapQoYKWLVvmMInkzfxjDkDxwT8XUSz17t1bZ8+eVWxsrLXt6tWr+vjjj9WnT588z3n99dfVunVrlS1bVp6enmrWrJk+/vhjmz4mk0kXL17UBx98YB06zJnnlTMP8uDBg+rTp4/8/f2tFdFrzZH88MMP1aJFC3l5ecnf319t27bNVblbs2aN2rRpI29vb5UpU0adO3fWgQMH8vU9HDhwQPfcc488PT112223afLkycrOzs6zr9H7vPvuu/rtt980ffr0XEmkJFWoUEHjxo2zaXv77bdVv359ubu7KyQkRFFRUbmGv9u1a6cGDRro4MGDCg8Pl5eXlypWrKhp06ZZ++QM5VosFs2ZM8f6eyJd+zvPa47orl27FBERoXLlysnT01PVqlXTY489ZnNeXnMk9+zZo8jISPn4+Kh06dK69957tX379jzv9+2332rEiBEqX768vL291a1bN/3xxx/X/F4Lk5+fnzw9PXP9YyY/P/PSX9XYp59+WuXKlVOZMmV0//3367fffsvzO4mLi1Pz5s3l4eGhGjVq6N13383z9+KfcyQL8j1lZ2crOjpaISEh8vLyUnh4uA4ePMi8S8ABlcwSCkq8qlWrKjQ0VMuWLVNkZKSkvxKlCxcuqFevXpo1a1auc2bOnKn7779fffv21dWrV7V8+XI99NBDWr16tTp37ixJWrx4sR5//HG1aNFCgwcPliTVqFHD5joPPfSQatWqpSlTpshisVwzxgkTJig6OlqtW7fWxIkTZTabtWPHDm3cuFEdOnSw3q9///6KiIjQq6++qkuXLmnu3Lm6++67tWfPHlWtWvWa109KSlJ4eLgyMzM1evRoeXt767333pOnp2euvjdzn88//1yenp568MEHr9nn76KjozVhwgS1b99eQ4YMUWJioubOnaudO3fq22+/lZubm7Xv+fPn1bFjR3Xv3l09e/bUxx9/rFGjRqlhw4aKjIxU27ZttXjxYj3yyCP617/+pX79+uUrhr87ffq0OnTooPLly2v06NHy8/PT8ePHtXLlyuued+DAAbVp00Y+Pj564YUX5ObmpnfffVft2rXT5s2b1bJlS5v+w4YNk7+/v8aPH6/jx49rxowZGjp0qFasWFHgmG/kwoULOnPmjCwWi06fPq233nrLOu3g7/LzMy9JAwYM0EcffaRHHnlErVq10ubNm22O59izZ486duyo4OBgTZgwQVlZWZo4caLKly+f79jz8z2NGTNG06ZNU5cuXRQREaG9e/cqIiJCV65cMfBtAbArC1CMLFy40CLJsnPnTsvs2bMtZcqUsVy6dMlisVgsDz30kCU8PNxisVgsVapUsXTu3Nnm3Jx+Oa5evWpp0KCB5Z577rFp9/b2tvTv3z/XvcePH2+RZOndu/c1j+U4fPiwxcXFxdKtWzdLVlaWTd/s7GyLxWKx/PnnnxY/Pz/LoEGDbI4nJSVZfH19c7X/07PPPmuRZNmxY4e17fTp0xZfX1+LJMuxY8cK5T7+/v6Wxo0bX7fP3+9vNpstHTp0sPncs2fPtkiyLFiwwNoWFhZmkWT5z3/+Y21LT0+3BAUFWXr06GFzXUmWqKgom7Z/fuc5cn5Gcj7/p59+av2ZuR5JlvHjx1v3u3btajGbzZajR49a237//XdLmTJlLG3bts11v/bt21t/by0Wi2X48OEWV1dXS0pKynXvWxA59/rn5u7ublm0aFGu/vn5md+9e7dFkuXZZ5+16TtgwIBc30mXLl0sXl5elt9++83advjwYUupUqVy/V5UqVLF5s9Rfr+npKQkS6lSpSxdu3a1uV50dLRFUp5/NgEUHYa2UWz17NlTly9f1urVq/Xnn39q9erV1xzWlmRTqTt//rwuXLigNm3a6Pvvvy/QfZ988skb9lm1apWys7P18ssv53rgIGcIMDY2VikpKerdu7fOnDlj3VxdXdWyZUtt2rTpuvf46quv1KpVK7Vo0cLaVr58efXt29em383eJzU1VWXKlLnhZ5ak9evX6+rVq3r22WdtPvegQYPk4+OjL7/80qZ/6dKlbapoZrNZLVq00M8//5yv++VHztzK1atXKyMjI1/nZGVlad26deratauqV69ubQ8ODlafPn20detWpaam2pwzePBgm+HdNm3aKCsrSydOnLj5D/EPc+bMUWxsrGJjY/Xhhx8qPDxcjz/+eK4qa35+5teuXStJeuqpp2zOHTZsmM1+VlaW1q9fr65duyokJMTaXrNmTeuoQH7c6HvasGGDMjMzbxgPAMfA0DaKrfLly6t9+/ZaunSpLl26pKysrOsOv65evVqTJ09WQkKC0tPTre0FXf+xWrVqN+xz9OhRubi4qF69etfsc/jwYUnSPffck+dxHx+f697jxIkTuYZXJal27dqFeh8fHx/9+eef1+3z95jyisFsNqt69eq5kqrbbrst1/fv7++vffv25et++REWFqYePXpowoQJevPNN9WuXTt17dpVffr0ueYDIX/88YcuXbqU63NIUt26dZWdna1ffvlF9evXt7ZXrlw51+eQ/krgruXy5cu6cOGCTVtQUNANP1OLFi1sHrbp3bu3mjZtqqFDh+q+++6T2WyWlL+f+RMnTsjFxSXXz3XNmjVt9k+fPq3Lly/nas+r7/Xc6HvK+Rn55zUDAgKsfQE4DhJJFGt9+vTRoEGDlJSUpMjIyGs+2fvNN9/o/vvvV9u2bfX2228rODhYbm5uWrhwoZYuXVqge+Y1B9GInIdiFi9enGfyUFhPgd/sferUqaOEhARdvXrVmqAUFldX1zzbLdeZe5rjWv8AyMrKytXv448/1vbt2/XFF1/o66+/1mOPPaY33nhD27dvV+nSpQseeB6MfJYVK1bo0UcfzXf/a3FxcVF4eLhmzpypw4cPq379+oX6M1+Ybub3HIDjIZFEsdatWzc98cQT2r59+3Ufavjkk0/k4eGhr7/+2qYKtXDhwlx9C+MNNTVq1FB2drYOHjyoJk2aXLOPJAUGBqp9+/YFvkeVKlWs1ca/S0xMLNT7dOnSRfHx8frkk0/Uu3fvG8aUE8Pfh4SvXr2qY8eOGbr/teRUp1JSUmz+AXGtoeRWrVqpVatWeuWVV7R06VL17dtXy5cv1+OPP56rb/ny5eXl5ZXru5SkH3/8US4uLqpUqdJNf4aIiAiblQduRmZmpiQpLS1NUv5/5qtUqaLs7GwdO3ZMtWrVsrYfOXLEpl9gYKA8PDxytefV92bk/AwdOXLEpkp69uzZ61Z3ARQN5kiiWCtdurTmzp2r6OhodenS5Zr9XF1dZTKZbKpVx48fz/MNNt7e3jf9ppauXbvKxcVFEydOzLUcT07lJSIiQj4+PpoyZUqec/dutHRMp06dtH37dn333Xc25yxZssSm383e58knn1RwcLCee+45/fTTT7mOnz59WpMnT5YktW/fXmazWbNmzbKpMM2fP18XLlzI80lgo3IS5C1btljbcpZu+rvz58/nqnblJPd/H+79O1dXV3Xo0EGfffaZzTJCycnJ1oXwbzQlID+Cg4PVvn17m82IjIwMrVu3TmazWXXr1rV+hvz8zEdEREj6a8mmv3vrrbds9l1dXdW+fXutWrVKv//+u7X9yJEjhfpWnXvvvVelSpXS3Llzbdpnz55daPcAUHioSKLY69+//w37dO7cWdOnT1fHjh3Vp08fnT59WnPmzFHNmjVzzcdr1qyZ1q9fr+nTpyskJETVqlXLcy7i9dSsWVNjx47VpEmT1KZNG3Xv3l3u7u7auXOnQkJCFBMTIx8fH82dO1ePPPKI7rjjDvXq1Uvly5fXyZMn9eWXX+quu+667l+eL7zwgvV1gc8884x1+Z8qVarYfKabvY+/v78+/fRTderUSU2aNLF5s83333+vZcuWKTQ0VNJflbwxY8ZowoQJ6tixo+6//34lJibq7bff1p133plreZqb0aFDB1WuXFkDBw7U888/L1dXVy1YsMD62XJ88MEHevvtt9WtWzfVqFFDf/75p95//335+PioU6dO17z+5MmTFRsbq7vvvltPPfWUSpUqpXfffVfp6ek2a10WhTVr1ujHH3+U9Fciv3TpUh0+fFijR4+2Jrj5/Zlv1qyZevTooRkzZujs2bPW5X9y/tHw9wp9dHS01q1bp7vuuktDhgxRVlaWZs+erQYNGighIaFQPluFChX0zDPP6I033tD999+vjh07au/evVqzZo3KlSvnMO+0B/D/ivCJcaDA/r78z/XktfzP/PnzLbVq1bK4u7tb6tSpY1m4cGGeS8j8+OOPlrZt21o8PT1tlhvJ6fvHH3/kut+1lqJZsGCBpWnTphZ3d3eLv7+/JSwszBIbG2vTZ9OmTZaIiAiLr6+vxcPDw1KjRg3LgAEDLLt27brh97Fv3z5LWFiYxcPDw1KxYkXLpEmTLPPnz7dZ/qYw7mOx/LX0zfDhwy233367xcPDw+Ll5WVp1qyZ5ZVXXrFcuHDBpu/s2bMtderUsbi5uVkqVKhgGTJkiOX8+fM2fcLCwiz169fPdZ/+/ftbqlSpYtOmPJb/sVj+WrqmZcuWFrPZbKlcubJl+vTpuZb/+f777y29e/e2VK5c2eLu7m4JDAy03Hfffbk+t/6x1E3OuREREZbSpUtbvLy8LOHh4ZZt27bZ9LnWz+SmTZsskiybNm3KFbdReS3/4+HhYWnSpIll7ty5NsvqWCz5/5m/ePGiJSoqyhIQEGApXbq0pWvXrpbExESLJMvUqVNt+m7YsMHStGlTi9lsttSoUcMyb948y3PPPWfx8PCw6Xet5X/y8z1lZmZaXnrpJUtQUJDF09PTcs8991gOHTpkKVu2rOXJJ5+8iW8QQGEzWSzMcAYA2EpISFDTpk314Ycf5lpS6p+6du2qAwcO5Dlnt7CkpKTI399fkydP1tixY+12HwAFwxxJAHByly9fztU2Y8YMubi4qG3bttfte/jwYX311Vdq166d3eORVKj3AXDzmCMJAE5u2rRp2r17t8LDw1WqVCmtWbNGa9as0eDBg3M9nV69enUNGDDAui7o3LlzZTab9cILLxRaPCtWrNCiRYvUqVMnlS5dWlu3btWyZcvUoUMH3XXXXYV2HwA3j0QSAJxc69atFRsbq0mTJiktLU2VK1dWdHR0nkPIHTt21LJly5SUlCR3d3eFhoZqypQpNksH3axGjRqpVKlSmjZtmlJTU60P4OSsDgDAcTBHEgAAAIYwRxIAAACGkEgCAADAEBJJAAAAGFIiH7bxbP1iUYcAwE7Ob5lS1CEAsBOPIsxKPJsOtdu1L+8pua/4pCIJAAAAQ0pkRRIAAKBATNTWjCCRBAAAMJmKOoJiifQbAAAAhlCRBAAAYGjbEL41AAAAGEJFEgAAgDmShlCRBAAAgCFUJAEAAJgjaQjfGgAAAAyhIgkAAMAcSUNIJAEAABjaNoRvDQAAAIZQkQQAAGBo2xAqkgAAADCEiiQAAABzJA3hWwMAAIAhVCQBAACYI2kIFUkAAAAYQkUSAACAOZKGkEgCAAAwtG0I6TcAAAAMoSIJAADA0LYhfGsAAAAwhIokAAAAFUlD+NYAAABgCBVJAAAAF57aNoKKJAAAAAyhIgkAAMAcSUNIJAEAAFiQ3BDSbwAAABhCRRIAAIChbUP41gAAAGAIFUkAAADmSBpCRRIAAACGUJEEAABgjqQhfGsAAAAwhIokAAAAcyQNIZEEAABgaNsQvjUAAAAYQkUSAACAoW1DqEgCAADAEBJJAAAAk4v9tgLasmWLunTpopCQEJlMJq1atco2VJMpz+21116z9qlatWqu41OnTrW5zr59+9SmTRt5eHioUqVKmjZtWoFjJZEEAABwIBcvXlTjxo01Z86cPI+fOnXKZluwYIFMJpN69Ohh02/ixIk2/YYNG2Y9lpqaqg4dOqhKlSravXu3XnvtNUVHR+u9994rUKzMkQQAAHCgOZKRkZGKjIy85vGgoCCb/c8++0zh4eGqXr26TXuZMmVy9c2xZMkSXb16VQsWLJDZbFb9+vWVkJCg6dOna/DgwfmOlYokAACAHaWnpys1NdVmS09PL5RrJycn68svv9TAgQNzHZs6darKli2rpk2b6rXXXlNmZqb1WHx8vNq2bSuz2Wxti4iIUGJios6fP5/v+5NIAgAA2HGOZExMjHx9fW22mJiYQgn7gw8+UJkyZdS9e3eb9qefflrLly/Xpk2b9MQTT2jKlCl64YUXrMeTkpJUoUIFm3Ny9pOSkvJ9f4a2AQAA7Lgg+ZgxYzRixAibNnd390K59oIFC9S3b195eHjYtP/9fo0aNZLZbNYTTzyhmJiYQru3RCIJAABgV+7u7oWavOX45ptvlJiYqBUrVtywb8uWLZWZmanjx4+rdu3aCgoKUnJysk2fnP1rzavMC0PbAAAAJpP9NjuZP3++mjVrpsaNG9+wb0JCglxcXBQYGChJCg0N1ZYtW5SRkWHtExsbq9q1a8vf3z/fMZBIAgAAOJC0tDQlJCQoISFBknTs2DElJCTo5MmT1j6pqan673//q8cffzzX+fHx8ZoxY4b27t2rn3/+WUuWLNHw4cP18MMPW5PEPn36yGw2a+DAgTpw4IBWrFihmTNn5hqCvxGGtgEAAOw4R7Kgdu3apfDwcOt+TnLXv39/LVq0SJK0fPlyWSwW9e7dO9f57u7uWr58uaKjo5Wenq5q1app+PDhNkmir6+v1q1bp6ioKDVr1kzlypXTyy+/XKClfyTJZLFYLAY+o0PzbP1iUYcAwE7Ob5lS1CEAsBOPIixveT7wrt2uffmzJ+x27aJGRRIAAMCBFiQvThynjgsAAIBihYokAACAA82RLE5IJAEAABjaNoT0GwAAAIZQkQQAAE7PREXSECqSAAAAMISKJAAAcHpUJI2hIgkAAABDqEgCAABQkDSEiiQAAAAMoSIJAACcHnMkjSGRBAAATo9E0hiGtgEAAGAIFUkAAOD0qEgaQ0USAAAAhlCRBAAATo+KpDFUJAEAAGAIFUkAAAAKkoZQkQQAAIAhVCQBAIDTY46kMVQkAQAAYAgVSQAA4PSoSBpDIgkAAJweiaQxDG0DAADAECqSAADA6VGRNIaKJAAAAAyhIgkAAEBB0hAqkgAAADCEiiQAAHB6zJE0hookAAAADKEiCQAAnB4VSWNIJAEAgNMjkTSGoW0AAAAYQkUSAACAgqQhVCQBAABgCBVJAADg9JgjaQwVSQAAABhCRRIAADg9KpLGUJEEAACAIVQkAQCA06MiaQyJJAAAcHokksYwtA0AAABDqEgCAABQkDSEiiQAAAAMoSIJAACcHnMkjaEiCQAAAEOoSAIAAKdHRdIYKpIAAAAOZMuWLerSpYtCQkJkMpm0atUqm+MDBgyQyWSy2Tp27GjT59y5c+rbt698fHzk5+engQMHKi0tzabPvn371KZNG3l4eKhSpUqaNm1agWMlkQQAAE7vn4lZYW4FdfHiRTVu3Fhz5sy5Zp+OHTvq1KlT1m3ZsmU2x/v27asDBw4oNjZWq1ev1pYtWzR48GDr8dTUVHXo0EFVqlTR7t279dprryk6OlrvvfdegWJlaBsAAMCBRrYjIyMVGRl53T7u7u4KCgrK89ihQ4e0du1a7dy5U82bN5ckvfXWW+rUqZNef/11hYSEaMmSJbp69aoWLFggs9ms+vXrKyEhQdOnT7dJOG+EiiQAAIAdpaenKzU11WZLT0+/qWvGxcUpMDBQtWvX1pAhQ3T27Fnrsfj4ePn5+VmTSElq3769XFxctGPHDmuftm3bymw2W/tEREQoMTFR58+fz3ccDpFI9uvXTwsXLtTRo0eLOhQAAOCE7Dm0HRMTI19fX5stJibGcKwdO3bUf/7zH23YsEGvvvqqNm/erMjISGVlZUmSkpKSFBgYaHNOqVKlFBAQoKSkJGufChUq2PTJ2c/pkx8OMbRtNpsVExOjgQMHqmLFigoLC1O7du0UFhamWrVqFXV4AAAAho0ZM0YjRoywaXN3dzd8vV69ell/3bBhQzVq1Eg1atRQXFyc7r33XsPXNcIhKpLz5s3TTz/9pF9++UXTpk1T6dKl9cYbb6hOnTq67bbbijo8AABQwtmzIunu7i4fHx+b7WYSyX+qXr26ypUrpyNHjkiSgoKCdPr0aZs+mZmZOnfunHVeZVBQkJKTk2365Oxfa+5lXhwikczh7++vsmXLyt/fX35+fipVqpTKly9f1GEBAAA4rF9//VVnz55VcHCwJCk0NFQpKSnavXu3tc/GjRuVnZ2tli1bWvts2bJFGRkZ1j6xsbGqXbu2/P39831vhxjafvHFFxUXF6c9e/aobt26CgsL0+jRo9W2bdsCfRgUT3c1qarhfdrojtoVFVzeRz1HL9YXWw5Zj3t7mjV5SIS6tK2nAF8vHf/9vN7+7zbNW/WdJKlykJ8SV76Q57X7jl2qlZv227QF+Hjqu/88rYqBvgrqMFEX0q7Y78MBMGz50iX6YOF8nTnzh26vXUejX3xJDRs1KuqwUEI50oLkaWlp1uqiJB07dkwJCQkKCAhQQECAJkyYoB49eigoKEhHjx7VCy+8oJo1ayoiIkKSVLduXXXs2FGDBg3SO++8o4yMDA0dOlS9evVSSEiIJKlPnz6aMGGCBg4cqFGjRmn//v2aOXOm3nzzzQLF6hCJ5NSpU1W+fHmNHz9e3bt31+23317UIeEW8vYw64cjSfrP6t1aMfXhXMdffbqT2jWroUcnfKQTp86rfctamvnc/Tp1JlVfbv1Rv56+oKr3TbE557EHWmh4nzb6evtPua73zos99MORJFUM9LXbZwJwc9au+UqvT4vRuPET1LBhYy1Z/IGGPDFQn61eq7JlyxZ1eIBd7dq1S+Hh4db9nPmV/fv319y5c7Vv3z598MEHSklJUUhIiDp06KBJkybZDJcvWbJEQ4cO1b333isXFxf16NFDs2bNsh739fXVunXrFBUVpWbNmqlcuXJ6+eWXC7T0j+QgieSePXu0efNmxcXF6Y033pDZbLY+cNOuXTsSyxJu3faftC6PhC9Hq4ZV9OFX3+ubPcckSQs+26mBD7RQ83qV9OXWH5WdbVHyOdvV+u8Pq6dPNv6gi5ev2rQP6tZSvqU9NGXhRnVsXbvwPwyAQrH4g4Xq/mBPde3WQ5I0bvwEbdkSp1UrP9HAQQX7iw7ID0eqSLZr104Wi+Wax7/++usbXiMgIEBLly69bp9GjRrpm2++KXB8f+cQcyQbN26sp59+WitXrtQff/yhr776SmazWVFRUapbt25Rh4citv2HE7qvTV2FlPORJLW9o7pqVSqn9d8dzrN/09ohanJ7iD74YpdNe52qgRrzaLgen/RfZWdf+w8ogKKVcfWqDh08oFahra1tLi4uatWqtfbt3VOEkaFEM9lxK8EcoiJpsVi0Z88excXFKS4uTlu3blVqaqoaNWqksLCw656bnp6ea1FPS3amTC4O8dFQCEZM/0JzRnXT0c9HKyMzS9nZFj019VN9m3A8z/79uzTXoWOntX3/SWub2c1VH0z4t16cs1a/JF9Q1ZCAWxQ9gII6n3JeWVlZuYawy5Ytq2PHfi6iqADkxSGyrYCAAKWlpalx48YKCwvToEGD1KZNG/n5+d3w3JiYGE2YMMGmzfW2u+VWqY2dosWt9tSDoWpRv5J6PP8fnUxK0d1NqmrG/8+R3LTLdhF7D3Mp/ftfjTV10Sab9klDIpR44g8t/zrhFkYOACguHGlouzhxiETyww8/VJs2beTj41Pgc/Na5DOww+TCCg1FzMNcShOe7KB/j1mitdsSJUn7jyapUa1gPdunTa5Ests9DeTl4aYla2yHv8LuqK4GNYLUbcskSf/7H8avX43Vqx/EafL8Dbfg0wDID38/f7m6utq88k2Szp49q3LlyhVRVADy4hCJZOfOna2//vXXXyUp3wuRu7u751rUk2HtksOtlKvMbqVyzWnMyrbIxSX3vx4H3NdcX279UWdSLtq09x67VJ7ubtb9ZnUr6r2xD6r9U+/p59/O2Sd4AIa4mc2qW6++dmyP1z33tpckZWdna8eOePXqnXtlB6AwUJE0xiEyruzsbE2ePFlvvPGG0tL+evq2TJkyeu655zR27Fi5uDjEM0GwE29Ps2rc9r+5UFWDA9SoVrDOp17SL8kXtOX7nzVlaKQup2foZFKK2jStpr6RTTVq1lc216leMUB3N6mqrs99kOsex/6RLJb19ZIk/Xj8D9aRBBzQI/0f1UsvjlL9+g3UoGEjfbj4A12+fFldu3Uv6tAA/I1DJJJjx47V/PnzNXXqVN11112SpK1btyo6OlpXrlzRK6+8UsQRwp7uqFNR6+YMsu5Pe+avCvXiL3dr8CufqN/LyzVxSIQWRfeUv4+XTialKPrddXr/0x021+l/X3P9djpV6787IgDFW8fITjp/7pzenj1LZ878odp16urtd+epLEPbsBMKksaYLNdbqOgWCQkJ0TvvvKP777/fpv2zzz7TU089pd9++61A1/Ns/WJhhgfAgZzfMuXGnQAUSx5FWN6qOXKN3a595PVIu127qDlERfLcuXOqU6dOrvY6dero3DnmrwEAAPtijqQxDjH5sHHjxpo9e3au9tmzZ6sR71UFAAB2ZjLZbyvJHKIiOW3aNHXu3Fnr169XaGioJCk+Pl6//PKLvvrqqxucDQAAgKLgEBXJsLAw/fTTT+rWrZtSUlKUkpKi7t2768CBA1q8eHFRhwcAAEo4k8lkt60kc4iHba5l7969uuOOO5SVlVWg83jYBii5eNgGKLmK8mGb2qO+ttu1E1+NsNu1i5pDDG0DAAAUpRJeOLQbhxjaBgAAQPFDRRIAADi9vF67ixsr0kSye/frv+oqJSXl1gQCAACAAivSRNLX1/eGx/v163eLogEAAM6KOZLGFGkiuXDhwqK8PQAAgCTebGMUD9sAAADAEB62AQAATo+CpDFUJAEAAGAIFUkAAOD0mCNpDBVJAAAAGEJFEgAAOD0qksZQkQQAAIAhVCQBAIDToyBpDIkkAABwegxtG8PQNgAAAAyhIgkAAJweBUljqEgCAADAECqSAADA6TFH0hgqkgAAADCEiiQAAHB6FCSNoSIJAAAAQ6hIAgAAp8ccSWOoSAIAAMAQKpIAAMDpUZA0hkQSAAA4PYa2jWFoGwAAAIZQkQQAAE6PgqQxVCQBAABgCBVJAADg9JgjaQwVSQAAABhCRRIAADg9CpLGUJEEAACAIVQkAQCA02OOpDEkkgAAwOmRRxrD0DYAAAAMIZEEAABOz2Qy2W0rqC1btqhLly4KCQmRyWTSqlWrrMcyMjI0atQoNWzYUN7e3goJCVG/fv30+++/21yjatWqueKYOnWqTZ99+/apTZs28vDwUKVKlTRt2rQCx0oiCQAA4EAuXryoxo0ba86cObmOXbp0Sd9//71eeuklff/991q5cqUSExN1//335+o7ceJEnTp1yroNGzbMeiw1NVUdOnRQlSpVtHv3br322muKjo7We++9V6BYmSMJAACcniM9bBMZGanIyMg8j/n6+io2Ntambfbs2WrRooVOnjypypUrW9vLlCmjoKCgPK+zZMkSXb16VQsWLJDZbFb9+vWVkJCg6dOna/DgwfmOlYokAACAHaWnpys1NdVmS09PL7TrX7hwQSaTSX5+fjbtU6dOVdmyZdW0aVO99tpryszMtB6Lj49X27ZtZTabrW0RERFKTEzU+fPn831vEkkAAOD0TCb7bTExMfL19bXZYmJiCiXuK1euaNSoUerdu7d8fHys7U8//bSWL1+uTZs26YknntCUKVP0wgsvWI8nJSWpQoUKNtfK2U9KSsr3/RnaBgAAsKMxY8ZoxIgRNm3u7u43fd2MjAz17NlTFotFc+fOtTn29/s1atRIZrNZTzzxhGJiYgrl3jlIJAEAgNOz5xxJd3f3Qk3epP8lkSdOnNDGjRttqpF5admypTIzM3X8+HHVrl1bQUFBSk5OtumTs3+teZV5YWgbAAA4PXsObRe2nCTy8OHDWr9+vcqWLXvDcxISEuTi4qLAwEBJUmhoqLZs2aKMjAxrn9jYWNWuXVv+/v75joWKJAAAgANJS0vTkSNHrPvHjh1TQkKCAgICFBwcrAcffFDff/+9Vq9eraysLOucxoCAAJnNZsXHx2vHjh0KDw9XmTJlFB8fr+HDh+vhhx+2Jol9+vTRhAkTNHDgQI0aNUr79+/XzJkz9eabbxYoVhJJAADg9Bxp+Z9du3YpPDzcup8z37F///6Kjo7W559/Lklq0qSJzXmbNm1Su3bt5O7uruXLlys6Olrp6emqVq2ahg8fbjNv0tfXV+vWrVNUVJSaNWumcuXK6eWXXy7Q0j8SiSQAAIBDadeunSwWyzWPX++YJN1xxx3avn37De/TqFEjffPNNwWO7+9IJAEAgNNzoIJkscLDNgAAADCEiiQAAHB6LpQkDaEiCQAAAEOoSAIAAKdHQdIYEkkAAOD0HGn5n+KEoW0AAAAYUigVyZSUFPn5+RXGpQAAAG45FwqShhS4Ivnqq69qxYoV1v2ePXuqbNmyqlixovbu3VuowQEAAMBxFTiRfOedd1SpUiVJf73cOzY2VmvWrFFkZKSef/75Qg8QAADA3kwmk922kqzAQ9tJSUnWRHL16tXq2bOnOnTooKpVq6ply5aFHiAAAAAcU4Erkv7+/vrll18kSWvXrlX79u0l/fXex6ysrMKNDgAA4BYwmey3lWQFrkh2795dffr0Ua1atXT27FlFRkZKkvbs2aOaNWsWeoAAAABwTAVOJN98801VrVpVv/zyi6ZNm6bSpUtLkk6dOqWnnnqq0AMEAACwN5NKeOnQTgqcSLq5uWnkyJG52ocPH14oAQEAANxqLP9jjKEFyRcvXqy7775bISEhOnHihCRpxowZ+uyzzwo1OAAAADiuAieSc+fO1YgRIxQZGamUlBTrAzZ+fn6aMWNGYccHAABgdyz/Y0yBE8m33npL77//vsaOHStXV1dre/PmzfXDDz8UanAAAABwXAWeI3ns2DE1bdo0V7u7u7suXrxYKEEBAADcSiW8cGg3Ba5IVqtWTQkJCbna165dq7p16xZGTAAAACgGClyRHDFihKKionTlyhVZLBZ99913WrZsmWJiYjRv3jx7xAgAAGBXLpQkDSlwIvn444/L09NT48aN06VLl9SnTx+FhIRo5syZ6tWrlz1iBAAAgAMqcCIpSX379lXfvn116dIlpaWlKTAwsLDjAgAAuGUoSBpjKJHM4eXlJS8vr8KKBQAAoEiU9GV67CVfiWTTpk3z/QV///33NxUQAAAAiod8JZJdu3a1cxgAAABFh4KkMflKJMePH2/vOAAAAFDM3NQcSQAAgJKA5X+MyVci6e/vn+85kufOnbupgAAAAFA85CuRnDFjhp3DAAAAKDrUI43JVyLZv39/e8cBAACAYqbA79qWpKNHj2rcuHHq3bu3Tp8+LUlas2aNDhw4UKjBAQAA3Aomk8luW0lW4ERy8+bNatiwoXbs2KGVK1cqLS1NkrR3716e7gYAAMWSi8l+W0lW4ERy9OjRmjx5smJjY2U2m63t99xzj7Zv316owQEAAMBxFXj5nx9++EFLly7N1R4YGKgzZ84USlAAAAC3UkkfgraXAlck/fz8dOrUqVzte/bsUcWKFQslKAAAADi+AieSvXr10qhRo5SUlCSTyaTs7Gx9++23GjlypPr162ePGAEAAOzKZLLfVpIVOJGcMmWK6tSpo0qVKiktLU316tVT27Zt1bp1a40bN84eMQIAAMABFXiOpNls1vvvv6+XXnpJ+/fvV1pampo2bapatWrZIz4AAAC7Y46kMYbftR0UFKTLly+rRo0aKlWKV3YDAAA4mwIPbV+6dEkDBw6Ul5eX6tevr5MnT0qShg0bpqlTpxZ6gAAAAPbGOpLG3DCRfPfdd/X9999b98eMGaO9e/cqLi5OHh4e1vb27dtrxYoV9okSAADAjnizjTE3TCTr1KmjBx54QOvWrZMkffrpp5o9e7buvvtumy+nfv36Onr0qP0iBQAAgEO5YSIZFhamzZs36+WXX5YknTlzRoGBgbn6Xbx4scRn3QAAoGQy2XEryfI1R7J69erasmWLJKl58+b68ssvrcdyksd58+YpNDTUDiECAADAEeX7ceuc92pPmTJFkZGROnjwoDIzMzVz5kwdPHhQ27Zt0+bNm+0WKAAAgL24MKpqSIGf2r777ruVkJCgzMxMNWzYUOvWrVNgYKDi4+PVrFkze8QIAAAAB2RoAcgaNWro/fffz9X+8ccf68EHH7zpoAAAAG4lCpLGFKgimZmZqf379+unn36yaf/ss8/UuHFj9e3bt1CDAwAAcDZbtmxRly5dFBISIpPJpFWrVtkct1gsevnllxUcHCxPT0+1b99ehw8ftulz7tw59e3bVz4+PvLz89PAgQOVlpZm02ffvn1q06aNPDw8VKlSJU2bNq3AseY7kdy/f79q1qypxo0bq27duurevbuSk5MVFhamxx57TJGRkSz/AwAAiiVHWkfy4sWLaty4sebMmZPn8WnTpmnWrFl65513tGPHDnl7eysiIkJXrlyx9unbt68OHDig2NhYrV69Wlu2bNHgwYOtx1NTU9WhQwdVqVJFu3fv1muvvabo6Gi99957BfveLBaLJT8dO3furPT0dD377LNatmyZli1bptq1a2vgwIGKioqSp6dngW5sT56tXyzqEADYyfktU4o6BAB24lGEb1we/N8Ddrv2ew/VN3yuyWTSp59+qq5du0r6qxoZEhKi5557TiNHjpQkXbhwQRUqVNCiRYvUq1cvHTp0SPXq1dPOnTvVvHlzSdLatWvVqVMn/frrrwoJCdHcuXM1duxYJSUlWR+oHj16tFatWqUff/wx3/HluyK5c+dOvf7667rvvvv09ttvS5JefPFFjRw50qGSSAAAgIIymey3paenKzU11WZLT083FOexY8eUlJSk9u3bW9t8fX3VsmVLxcfHS5Li4+Pl5+dnTSKlv95A6OLioh07dlj7tG3b1ppESlJERIQSExN1/vz5fMeT70TyzJkzCgkJsQbs7e2tVq1a5ftGAAAAjsrFZLLbFhMTI19fX5stJibGUJxJSUmSpAoVKti0V6hQwXosKSkp18tjSpUqpYCAAJs+eV3j7/fIj3wXkU0mk/788095eHjIYrHIZDLp8uXLSk1Ntenn4+OT75sDAACUdGPGjNGIESNs2tzd3YsomsKV70TSYrHo9ttvt9lv2rSpzb7JZFJWVlbhRggAAGBn9lz+x93dvdASx6CgIElScnKygoODre3Jyclq0qSJtc/p06dtzsvMzNS5c+es5wcFBSk5OdmmT85+Tp/8yHciuWnTpnxfFAAAAIWvWrVqCgoK0oYNG6yJY2pqqnbs2KEhQ4ZIkkJDQ5WSkqLdu3dbXxazceNGZWdnq2XLltY+Y8eOVUZGhtzc3CRJsbGxql27tvz9/fMdT74TybCwsHxfFAAAoDgxskyPvaSlpenIkSPW/WPHjikhIUEBAQGqXLmynn32WU2ePFm1atVStWrV9NJLLykkJMT6ZHfdunXVsWNHDRo0SO+8844yMjI0dOhQ9erVy/q8S58+fTRhwgQNHDhQo0aN0v79+zVz5ky9+eabBYq1CB+0BwAAwD/t2rVL4eHh1v2c+ZX9+/fXokWL9MILL+jixYsaPHiwUlJSdPfdd2vt2rXy8PCwnrNkyRINHTpU9957r1xcXNSjRw/NmjXLetzX11fr1q1TVFSUmjVrpnLlyunll1+2WWsyP/K9jmRxciWzqCMAYC/+dw4t6hAA2MnlPbOL7N7DPj1kt2u/1a2u3a5d1Ar0ikQAAAAgB0PbAADA6TnSHMni5KYrkqmpqVq1apUOHbJfSRgAAMCeXEz220qyAieSPXv21OzZf81huHz5spo3b66ePXuqUaNG+uSTTwo9QAAAADimAieSW7ZsUZs2bSRJn376qSwWi1JSUjRr1ixNnjy50AMEAACwNyqSxhQ4kbxw4YICAgIkSWvXrlWPHj3k5eWlzp076/Dhw4UeIAAAABxTgRPJSpUqKT4+XhcvXtTatWvVoUMHSdL58+dt1i8CAAAoLkwmk922kqzAT20/++yz6tu3r0qXLq0qVaqoXbt2kv4a8m7YsGFhxwcAAAAHVeBE8qmnnlLLli118uRJ/etf/5KLy19FzerVqzNHEgAAFEslfS6jvRRoaDsjI0M1atSQl5eXunXrptKlS1uPde7cWXfddVehBwgAAADHVKCKpJubm65cuWKvWAAAAIpECZ/KaDcFftgmKipKr776qjIzeaE1AAAoGVxMJrttJVmB50ju3LlTGzZs0Lp169SwYUN5e3vbHF+5cmWhBQcAAADHVeBE0s/PTz169LBHLAAAAEXipt8Z7aQKnEguXLjQHnEAAACgmClwIgkAAFDSlPCpjHZT4ESyWrVq112l/eeff76pgAAAAFA8GHqzzd9lZGRoz549Wrt2rZ5//vnCigsAAOCWKelPV9tLgRPJZ555Js/2OXPmaNeuXTcdEAAAAIqHQntIKTIyUp988klhXQ4AAOCWMZnst5Vkhfawzccff6yAgIDCuhwAAMAtw7u2jSlwItm0aVObh20sFouSkpL0xx9/6O233y7U4AAAAOC4CpxIdu3a1WbfxcVF5cuXV7t27VSnTp3CigsAAOCW4WEbYwqcSI4fP94ecQAAAKCYMfSwzdGjRzVu3Dj17t1bp0+fliStWbNGBw4cKNTgAAAAbgUetjGmwInk5s2b1bBhQ+3YsUMrV65UWlqaJGnv3r1UKwEAAJxIgRPJ0aNHa/LkyYqNjZXZbLa233PPPdq+fXuhBgcAAHAruJjst5VkBU4kf/jhB3Xr1i1Xe2BgoM6cOVMoQQEAAMDxFTiR9PPz06lTp3K179mzRxUrViyUoAAAAG4lkx3/K8kKnEj26tVLo0aNUlJSkkwmk7Kzs/Xtt99q5MiR6tevnz1iBAAAsCuGto0pcCI5ZcoU1alTR5UqVVJaWprq1auntm3bqnXr1ho3bpw9YgQAAIADKvA6kmazWe+//75eeukl7d+/X2lpaWratKlq1aplj/gAAADsrqRXDu3F8Lu2K1eurMqVKxdmLAAAAChG8pVIjhgxIt8XnD59uuFgAAAAioKppK8cbif5SiT37NmTr4vxmwAAAOA88pVIbtq0yd5xAAAAFBnmSBpj6F3bAAAAgKGHbXbt2qWPPvpIJ0+e1NWrV22OrVy5slACAwAAuFWYnWdMgSuSy5cvV+vWrXXo0CF9+umnysjI0IEDB7Rx40b5+vraI0YAAAC7cjGZ7LaVZIYWJH/zzTf1xRdfyGw2a+bMmfrxxx/Vs2dPlgMCAABwIgVOJI8eParOnTtL+mtx8osXL8pkMmn48OF67733Cj1AAAAAe+MVicYUOJH09/fXn3/+KUmqWLGi9u/fL0lKSUnRpUuXCjc6AAAAOKwCP2zTtm1bxcbGqmHDhnrooYf0zDPPaOPGjYqNjdW9995rjxgBAADsqoRPZbSbfCeS+/fvV4MGDTR79mxduXJFkjR27Fi5ublp27Zt6tGjh8aNG2e3QAEAAOBY8p1INmrUSHfeeacef/xx9erVS5Lk4uKi0aNH2y04AACAW8FFlCSNyPccyc2bN6t+/fp67rnnFBwcrP79++ubb76xZ2wAAABwYPlOJNu0aaMFCxbo1KlTeuutt3T8+HGFhYXp9ttv16uvvqqkpCR7xgkAAGA3JpP9tpKswE9te3t769FHH9XmzZv1008/6aGHHtKcOXNUuXJl3X///faIEQAAwK5Y/seYm3rXds2aNfXiiy9q3LhxKlOmjL788svCigsAAMDpVK1aVSaTKdcWFRUlSWrXrl2uY08++aTNNU6ePKnOnTvLy8tLgYGBev7555WZmWmXeA29a1uStmzZogULFuiTTz6Ri4uLevbsqYEDBxZmbAAAALeEo7zKcOfOncrKyrLu79+/X//617/00EMPWdsGDRqkiRMnWve9vLysv87KylLnzp0VFBSkbdu26dSpU+rXr5/c3Nw0ZcqUQo+3QInk77//rkWLFmnRokU6cuSIWrdurVmzZqlnz57y9vYu9OAAAACcSfny5W32p06dqho1aigsLMza5uXlpaCgoDzPX7dunQ4ePKj169erQoUKatKkiSZNmqRRo0YpOjpaZrO5UOPN99B2ZGSkqlSporfeekvdunXToUOHtHXrVj366KMkkQAAoFiz58M26enpSk1NtdnS09NvGNPVq1f14Ycf6rHHHpPpbxXTJUuWqFy5cmrQoIHGjBlj82bB+Ph4NWzYUBUqVLC2RUREKDU1VQcOHCjcL00FqEi6ubnp448/1n333SdXV9dCDwQAAKAkiomJ0YQJE2zaxo8fr+jo6Ouet2rVKqWkpGjAgAHWtj59+qhKlSoKCQnRvn37NGrUKCUmJmrlypWSpKSkJJskUpJ13x4r7OQ7kfz8888L/eYAAACOwJ5zJMeMGaMRI0bYtLm7u9/wvPnz5ysyMlIhISHWtsGDB1t/3bBhQwUHB+vee+/V0aNHVaNGjcILOp8MP2wDAACAG3N3d89X4vh3J06c0Pr1662Vxmtp2bKlJOnIkSOqUaOGgoKC9N1339n0SU5OlqRrzqu8GTe1/A8AAEBJ4GgLki9cuFCBgYHq3LnzdfslJCRIkoKDgyVJoaGh+uGHH3T69Glrn9jYWPn4+KhevXrGgrkOKpIAAMDpOVJlLTs7WwsXLlT//v1VqtT/UrWjR49q6dKl6tSpk8qWLat9+/Zp+PDhatu2rRo1aiRJ6tChg+rVq6dHHnlE06ZNU1JSksaNG6eoqKgCV0Xzg0QSAADAgaxfv14nT57UY489ZtNuNpu1fv16zZgxQxcvXlSlSpXUo0cPjRs3ztrH1dVVq1ev1pAhQxQaGipvb2/179/fZt3JwmSyWCwWu1y5CF2xz+LtAByA/51DizoEAHZyec/sIrv3B7t+sdu1+zevZLdrFzVHquQCAACgGGFoGwAAOD3HeEFi8UNFEgAAAIZQkQQAAE7PnguSl2RUJAEAAGAIFUkAAOD0qEcaQyIJAACcHiPbxjC0DQAAAEOoSAIAAKdnoiRpCBVJAAAAGEJFEgAAOD0qa8bwvQEAAMAQKpIAAMDpMUfSGCqSAAAAMISKJAAAcHrUI42hIgkAAABDqEgCAACnxxxJY0gkAQCA02OI1hi+NwAAABhCRRIAADg9hraNoSIJAAAAQ6hIAgAAp0c90hgqkgAAADCEiiQAAHB6TJE0hookAAAADKEiCQAAnJ4LsyQNIZEEAABOj6FtYxjaBgAAgCFUJAEAgNMzMbRtCBVJAAAAGEJFEgAAOD3mSBpDRRIAAACGUJEEAABOj+V/jKEiCQAAAEOoSAIAAKfHHEljSCQBAIDTI5E0hqFtAAAAGEJFEgAAOD0WJDeGiiQAAAAMoSIJAACcngsFSUOoSAIAAMAQKpIAAMDpMUfSGCqSAAAAMISKJAAAcHqsI2mMQySSWVlZWrRokTZs2KDTp08rOzvb5vjGjRuLKDIAAOAMGNo2xiESyWeeeUaLFi1S586d1aBBA5n4ZwEAAIDDc4hEcvny5froo4/UqVOnog4FAAA4IZb/McYhHrYxm82qWbNmUYcBAACAAnCIRPK5557TzJkzZbFYijoUAADghEx2/K8goqOjZTKZbLY6depYj1+5ckVRUVEqW7asSpcurR49eig5OdnmGidPnlTnzp3l5eWlwMBAPf/888rMzCyU7+mfimxou3v37jb7Gzdu1Jo1a1S/fn25ubnZHFu5cuWtDA0AAKDI1K9fX+vXr7fulyr1v3Rt+PDh+vLLL/Xf//5Xvr6+Gjp0qLp3765vv/1W0l8PMHfu3FlBQUHatm2bTp06pX79+snNzU1Tpkwp9FiLLJH09fW12e/WrVsRRYLibPnSJfpg4XydOfOHbq9dR6NffEkNGzUq6rAA/L+77qih4f3a6456lRVc3lc9h7+nL+L2WY8HBpTR5GceUPvQuvIt7amt3x/RiGn/1dGTf1j7fP3+M2rbvJbNdd//eKuefmW5db9SkL9mvvhvhTW/XWmX07Xkix166a3PlZVluwoIcC2O9JxvqVKlFBQUlKv9woULmj9/vpYuXap77rlHkrRw4ULVrVtX27dvV6tWrbRu3TodPHhQ69evV4UKFdSkSRNNmjRJo0aNUnR0tMxmc+HGWqhXK4CFCxcW1a1RQqxd85VenxajceMnqGHDxlqy+AMNeWKgPlu9VmXLli3q8ABI8vZ01w8//ab/fBavFdMH5zr+0ZuDlZGZpYeefVepF6/o6Yfv0VfvDFPT7pN16cpVa7/5n3yrSXNXW/cvXcmw/trFxaSVs4Yo+Wyqwge8oaDyvpo36RFlZGZp/Owv7PsBgXxIT09Xenq6TZu7u7vc3d3z7H/48GGFhITIw8NDoaGhiomJUeXKlbV7925lZGSoffv21r516tRR5cqVFR8fr1atWik+Pl4NGzZUhQoVrH0iIiI0ZMgQHThwQE2bNi3Uz+YQcyQBIxZ/sFDdH+yprt16qEbNmho3foI8PDy0auUnRR0agP+37tuDmvD2an2+aV+uYzUrB6plo2p6+pXl2n3wpA6fOK2np6yQh7ubekY2s+l7+cpVJZ/907r9efGK9Vj70LqqWz1Ij439QPt++k3rvj2oiW9/qSd6tpVbKVe7f0aUDCY7bjExMfL19bXZYmJi8oyjZcuWWrRokdauXau5c+fq2LFjatOmjf78808lJSXJbDbLz8/P5pwKFSooKSlJkpSUlGSTROYczzlW2Bxi+Z+mTZvmuXakyWSSh4eHatasqQEDBig8PLwIooMjyrh6VYcOHtDAQU9Y21xcXNSqVWvt27unCCMDkF/u5r/+Crpy9X8PAVgsFl29mqnWTWpo0afx1vZ/d2quXp3uVPLZVH21Zb9i3l+jy/9flWzZqJr2H/ldp8/9ae0fu+2Q3hrbS/VqBGtv4q+36BOhOHOx49j2mDFjNGLECJu2a1UjIyMjrb9u1KiRWrZsqSpVquijjz6Sp6en3WI0yiEqkh07dtTPP/8sb29vhYeHKzw8XKVLl9bRo0d155136tSpU2rfvr0+++yzXOemp6crNTXVZvtn+Rglz/mU88rKyso1hF22bFmdOXOmiKICUBCJx5N08tQ5TRp2v/zKeMqtlKueG9BetwX5K6jc/+bRr1izS4+N/Y86Dp6l1xesU5/Od2rh5P7W4xXK+uj02T9trn36XOpfx8r53JoPA1yHu7u7fHx8bLZrJZL/5Ofnp9tvv11HjhxRUFCQrl69qpSUFJs+ycnJ1jmVQUFBuZ7iztnPa97lzXKIRPLMmTN67rnn9M033+iNN97QG2+8oS1btmjkyJG6ePGi1q1bp3HjxmnSpEm5zs2rXPzaq3mXiwEAjiMzM1u9nntfNasE6tSW13QufrraNr9da7ceULblfw/JLFj5rdbHH9KBI79r+ZpdGvjSYj1wbxNVu61cEUaPksaeQ9s3Iy0tTUePHlVwcLCaNWsmNzc3bdiwwXo8MTFRJ0+eVGhoqCQpNDRUP/zwg06fPm3tExsbKx8fH9WrV+8mo8nNIYa2P/roI+3evTtXe69evdSsWTO9//776t27t6ZPn56rT17lYotr/rJ8FF/+fv5ydXXV2bNnbdrPnj2rcuX4ywUoLvYc+kWtek2VT2kPmd1K6cz5NG35z0jtPnjymufs/OG4JKlGpfI69usZJZ9NVfMGVWz6BAb8VYlMPpNqt9gBexg5cqS6dOmiKlWq6Pfff9f48ePl6uqq3r17y9fXVwMHDtSIESMUEBAgHx8fDRs2TKGhoWrVqpUkqUOHDqpXr54eeeQRTZs2TUlJSRo3bpyioqLyXQUtCIeoSHp4eGjbtm252rdt2yYPDw9JUnZ2tvXXf3cz5WIUX25ms+rWq68d2/83hyo7O1s7dsSrUePCfSINgP2lpl3RmfNpqlG5vO6oV1mr43I/nJOjce3bJElJZy5IknbsO6YGNUNU3r+0tc+9rerowp+Xdejnwn+4ACWUg5Qkf/31V/Xu3Vu1a9dWz549VbZsWW3fvl3ly5eXJL355pu677771KNHD7Vt21ZBQUE26227urpq9erVcnV1VWhoqB5++GH169dPEydONPa93IBDVCSHDRumJ598Urt379add94pSdq5c6fmzZunF198UZL09ddfq0mTJkUYJRzNI/0f1UsvjlL9+g3UoGEjfbj4A12+fFldu3W/8ckAbglvT7NqVCpv3a9asawa3V5R51Mv6Zek8+revqn+OJ+mX5LOqUGtEL3+/IP6Im6fNmz/UZJU7bZy+ndkc3299YDOplxUw9sratpz3fXN7sPaf/h3SdL6+EM69HOS5k/ur7EzV6lCWR+Nj7pP7360RVcz7PM2D8Beli9fft3jHh4emjNnjubMmXPNPlWqVNFXX31V2KHlyWRxkPcSLlmyRLNnz1ZiYqIkqXbt2ho2bJj69OkjSbp8+bL1Ke4bucL/N5zGsiUfWhckr12nrka9OE6NGjUu6rBgR/53Di3qEFAAbZrV0rp5z+RqX/z5dg0e/6Ge6h2m4f3aK7BsGSWdSdWS1TsU895aZWRmSZJuq+CnBa/0V70aIfL2NOvX5PP6fONeTZ33tc0SQJWD/TXzxV5q26yWLl5J15IvvtO4WZ+xIHkxc3nP7CK7946jF+x27ZY1fG/cqZhymESyMJFIAiUXiSRQcpFIFj8OMbQNAABQlBzpFYnFSZElkgEBAfrpp59Urlw5+fv757kgeY5z587dwsgAAICzIY80psgSyTfffFNlypSx/vp6iSQAAAAcT5Elkv3797e+haZ7d56yBQAARYh6liFFOkfSz88vX5XIrKysWxANAAAACqJIE8lNmzZZf22xWNSpUyfNmzdPFStWLMKoAACAszFRkjSkSBPJsLAwm31XV1e1atVK1atXL6KIAAAAkF8s/wMAAJwez/wa4xDv2gYAAEDx43AVSZYBAgAAtxrZhzFFmkj+c9mfK1eu6Mknn5S3t7dN+8qVK29lWAAAwNmQSRpSpImkr6/tuycffvjhIooEAAAABVWkieTChQuL8vYAAACSWP7HKB62AQAAgCEO97ANAADArcazvsZQkQQAAIAhVCQBAIDToyBpDBVJAAAAGEJFEgAAgJKkISSSAADA6bH8jzEMbQMAAMAQKpIAAMDpsfyPMVQkAQAAYAgVSQAA4PQoSBpDRRIAAACGUJEEAACgJGkIFUkAAAAYQkUSAAA4PdaRNIaKJAAAAAyhIgkAAJwe60gaQyIJAACcHnmkMQxtAwAAwBAqkgAAAJQkDaEiCQAAAEOoSAIAAKfH8j/GUJEEAACAIVQkAQCA02P5H2OoSAIAAMAQKpIAAMDpUZA0hkQSAACATNIQhrYBAABgCBVJAADg9Fj+xxgqkgAAADCEiiQAAHB6LP9jDBVJAAAAGEJFEgAAOD0KksZQkQQAAIAhJJIAAAAmO24FEBMTozvvvFNlypRRYGCgunbtqsTERJs+7dq1k8lkstmefPJJmz4nT55U586d5eXlpcDAQD3//PPKzMwsWDD5wNA2AABweo6y/M/mzZsVFRWlO++8U5mZmXrxxRfVoUMHHTx4UN7e3tZ+gwYN0sSJE637Xl5e1l9nZWWpc+fOCgoK0rZt23Tq1Cn169dPbm5umjJlSqHGSyIJAABgR+np6UpPT7dpc3d3l7u7e66+a9eutdlftGiRAgMDtXv3brVt29ba7uXlpaCgoDzvt27dOh08eFDr169XhQoV1KRJE02aNEmjRo1SdHS0zGZzIXyqvzC0DQAAnJ7JZL8tJiZGvr6+NltMTEy+4rpw4YIkKSAgwKZ9yZIlKleunBo0aKAxY8bo0qVL1mPx8fFq2LChKlSoYG2LiIhQamqqDhw4UAjf1v9QkQQAALCjMWPGaMSIETZteVUj/yk7O1vPPvus7rrrLjVo0MDa3qdPH1WpUkUhISHat2+fRo0apcTERK1cuVKSlJSUZJNESrLuJyUl3ezHsUEiCQAAnJ49Z0heaxj7RqKiorR//35t3brVpn3w4MHWXzds2FDBwcG69957dfToUdWoUeOm4y0IhrYBAAAczNChQ7V69Wpt2rRJt91223X7tmzZUpJ05MgRSVJQUJCSk5Nt+uTsX2tepVEkkgAAAA6y/I/FYtHQoUP16aefauPGjapWrdoNz0lISJAkBQcHS5JCQ0P1ww8/6PTp09Y+sbGx8vHxUb169QoW0A0wtA0AAOAgoqKitHTpUn322WcqU6aMdU6jr6+vPD09dfToUS1dulSdOnVS2bJltW/fPg0fPlxt27ZVo0aNJEkdOnRQvXr19Mgjj2jatGlKSkrSuHHjFBUVZWiI/XpMFovFUqhXdABXCn+9TQAOwv/OoUUdAgA7ubxndpHd+8TZ9Bt3MqhK2fwnbyZT3iXMhQsXasCAAfrll1/08MMPa//+/bp48aIqVaqkbt26ady4cfLx8bH2P3HihIYMGaK4uDh5e3urf//+mjp1qkqVKtwaIokkgGKFRBIouYoykTx5zn6JZOWAwq0COhLmSAIAAMAQ5kgCAACn5xgvSCx+qEgCAADAECqSAADA6V3jGRfcABVJAAAAGEJFEgAAgFmShlCRBAAAgCFUJAEAgNNjjqQxJJIAAMDpkUcaw9A2AAAADKEiCQAAnB5D28ZQkQQAAIAhVCQBAIDTMzFL0hAqkgAAADCEiiQAAAAFSUOoSAIAAMAQKpIAAMDpUZA0hkQSAAA4PZb/MYahbQAAABhCRRIAADg9lv8xhookAAAADKEiCQAAQEHSECqSAAAAMISKJAAAcHoUJI2hIgkAAABDqEgCAACnxzqSxpBIAgAAp8fyP8YwtA0AAABDqEgCAACnx9C2MVQkAQAAYAiJJAAAAAwhkQQAAIAhzJEEAABOjzmSxlCRBAAAgCFUJAEAgNNjHUljSCQBAIDTY2jbGIa2AQAAYAgVSQAA4PQoSBpDRRIAAACGUJEEAACgJGkIFUkAAAAYQkUSAAA4PZb/MYaKJAAAAAyhIgkAAJwe60gaQ0USAAAAhlCRBAAATo+CpDEkkgAAAGSShjC0DQAAAENIJAEAgNMz2fE/I+bMmaOqVavKw8NDLVu21HfffVfIn7hwkEgCAAA4kBUrVmjEiBEaP368vv/+ezVu3FgRERE6ffp0UYeWC4kkAABweiaT/baCmj59ugYNGqRHH31U9erV0zvvvCMvLy8tWLCg8D/4TSKRBAAAsKP09HSlpqbabOnp6Xn2vXr1qnbv3q327dtb21xcXNS+fXvFx8ffqpDzrUQ+te1RIj8V8pKenq6YmBiNGTNG7u7uRR0OboHLe2YXdQi4RfjzjVvJnrlD9OQYTZgwwaZt/Pjxio6OztX3zJkzysrKUoUKFWzaK1SooB9//NF+QRpkslgslqIOAjAqNTVVvr6+unDhgnx8fIo6HACFiD/fKCnS09NzVSDd3d3z/AfS77//rooVK2rbtm0KDQ21tr/wwgvavHmzduzYYfd4C4LaHQAAgB1dK2nMS7ly5eTq6qrk5GSb9uTkZAUFBdkjvJvCHEkAAAAHYTab1axZM23YsMHalp2drQ0bNthUKB0FFUkAAAAHMmLECPXv31/NmzdXixYtNGPGDF28eFGPPvpoUYeWC4kkijV3d3eNHz+eifhACcSfbzirf//73/rjjz/08ssvKykpSU2aNNHatWtzPYDjCHjYBgAAAIYwRxIAAACGkEgCAADAEBJJAAAAGEIiCQBwCIsWLZKfn1+BzhkwYIC6du1ql3gA3BiJJBwOfzEAJc+1/lzHxcXJZDIpJSVF//73v/XTTz/d+uAAGMbyPwAAh+Dp6SlPT8+iDgNAAVCRRLGyefNmtWjRQu7u7goODtbo0aOVmZkpSVq9erX8/PyUlZUlSUpISJDJZNLo0aOt5z/++ON6+OGHiyR2ANeX19D25MmTFRgYqDJlyujxxx/X6NGj1aRJk1znvv766woODlbZsmUVFRWljIyMWxM04ORIJFFs/Pbbb+rUqZPuvPNO7d27V3PnztX8+fM1efJkSVKbNm30559/as+ePZL+SjrLlSunuLg46zU2b96sdu3aFUH0AApqyZIleuWVV/Tqq69q9+7dqly5subOnZur36ZNm3T06FFt2rRJH3zwgRYtWqRFixbd+oABJ8TQNoqNt99+W5UqVdLs2bNlMplUp04d/f777xo1apRefvll+fr6qkmTJoqLi1Pz5s0VFxen4cOHa8KECUpLS9OFCxd05MgRhYWFFfVHAZzS6tWrVbp0aZu2nBGEvLz11lsaOHCg9bVwL7/8statW6e0tDSbfv7+/po9e7ZcXV1Vp04dde7cWRs2bNCgQYMK/0MAsEFFEsXGoUOHFBoaKpPJZG276667lJaWpl9//VWSFBYWpri4OFksFn3zzTfq3r276tatq61bt2rz5s0KCQlRrVq1iuojAE4tPDxcCQkJNtu8efOu2T8xMVEtWrSwafvnviTVr19frq6u1v3g4GCdPn268AIHcE1UJFGitGvXTgsWLNDevXvl5uamOnXqqF27doqLi9P58+epRgJFyNvbWzVr1rRpy/lH4M1wc3Oz2TeZTMrOzr7p6wK4MSqSKDbq1q2r+Ph4/f318N9++63KlCmj2267TdL/5km++eab1qQxJ5GMi4tjfiRQjNSuXVs7d+60afvnPoCiRUUSDunChQtKSEiwaRs8eLBmzJihYcOGaejQoUpMTNT48eM1YsQIubj89W8if39/NWrUSEuWLNHs2bMlSW3btlXPnj2VkZFBRRIoRoYNG6ZBgwapefPmat26tVasWKF9+/apevXqRR0agP9HIgmHFBcXp6ZNm9q0DRw4UF999ZWef/55NW7cWAEBARo4cKDGjRtn0y8sLEwJCQnW6mNAQIDq1aun5ORk1a5d+1Z9BAA3qW/fvvr55581cuRIXblyRT179tSAAQP03XffFXVoAP6fyfL3cUIAABzYv/71LwUFBWnx4sVFHQoAUZEEADioS5cu6Z133lFERIRcXV21bNkyrV+/XrGxsUUdGoD/R0USAOCQLl++rC5dumjPnj26cuWKateurXHjxql79+5FHRqA/0ciCQAAAENY/gcAAACGkEgCAADAEBJJAAAAGEIiCQAAAENIJAHY1fHjxzV58mSlpaUVdSgAgEJGIgnAbtLT0/XQQw+pXLlyKl269HX7DhgwQF27drXut2vXTs8+++xN3b8wrgEAuDYSSQDXNWDAAJlMJplMJpnNZtWsWVMTJ05UZmbmDc8dPny4OnTooCeffLLA9125cqUmTZqUr75xcXEymUxKSUkxfA0AQMHxZhsAN9SxY0ctXLhQ6enp+uqrrxQVFSU3NzeNGTPGpt/Vq1dlNput+2+//bbhewYEBBg+tzCvAQC4NiqSAG7I3d1dQUFBqlKlioYMGaL27dvr888/tw5Hv/LKKwoJCVHt2rUlSb/88ot69uwpPz8/BQQE6IEHHtDx48et18vKytKIESPk5+ensmXL6oUXXtA/343wz2Hp9PR0jRo1SpUqVZK7u7tq1qyp+fPn6/jx4woPD5ck+fv7y2QyacCAAXle4/z58+rXr5/8/f3l5eWlyMhIHT582Hp80aJF8vPz09dff626deuqdOnS6tixo06dOmXtExcXpxYtWsjb21t+fn666667dOLEiUL6pgGgeCGRBFBgnp6eunr1qiRpw4YNSkxMVGxsrFavXq2MjAxFRESoTJky+uabb/Ttt99aE7Kcc9544w0tWrRICxYs0NatW3Xu3Dl9+umn171nv379tGzZMs2aNUuHDh3Su+++q9KlS6tSpUr65JNPJEmJiYk6deqUZs6cmec1BgwYoF27dunzzz9XfHy8LBaLOnXqpIyMDGufS5cu6fXXX9fixYu1ZcsWnTx5UiNHjpQkZWZmqmvXrgoLC9O+ffsUHx+vwYMHy2Qy3fR3CgDFEUPbAPLNYrFow4YN+vrrrzVs2DD98ccf8vb21rx586xD2h9++KGys7M1b948a4K1cOFC+fn5KS4uTh06dNCMGTM0ZswY6zuT33nnHX399dfXvO9PP/2kjz76SLGxsWrfvr0kqXr16tbjOUPYgYGB8vPzy/Mahw8f1ueff65vv/1WrVu3liQtWbJElSpV0qpVq/TQQw9JkjIyMvTOO++oRo0akqShQ4dq4sSJkqTU1FRduHBB9913n/V43bp1C/5FAkAJQUUSwA2tXr1apUuXloeHhyIjI/Xvf/9b0dHRkqSGDRvazIvcu3evjhw5ojJlyqh06dIqXbq0AgICdOXKFR09elQXLlzQqVOn1LJlS+s5pUqVUvPmza95/4SEBLm6uiosLMzwZzh06JBKlSplc9+yZcuqdu3aOnTokLXNy8vLmiRKUnBwsE6fPi3pr4R1wIABioiIUJcuXTRz5kybYW8AcDZUJAHcUHh4uObOnSuz2ayQkBCVKvW//3V4e3vb9E1LS1OzZs20ZMmSXNcpX768oft7enoaOs8INzc3m32TyWQzf3PhwoV6+umntXbtWq1YsULjxo1TbGysWrVqdctiBABHQUUSwA15e3urZs2aqly5sk0SmZc77rhDhw8fVmBgoGrWrGmz+fr6ytfXV8HBwdqxY4f1nMzMTO3evfua12zYsKGys7O1efPmPI/nVESzsrKueY26desqMzPT5r5nz55VYmKi6tWrd93P9E9NmzbVmDFjtG3bNjVo0EBLly4t0PkAUFKQSAIoVH379lW5cuX0wAMP6JtvvtGxY8cUFxenp59+Wr/++qsk6ZlnntHUqVO1atUq/fjjj3rqqadyrQH5d1WrVlX//v312GOPadWqVdZrfvTRR5KkKlWqyGQyafXq1frjjz/yfItOrVq19MADD2jQoEHaunWr9u7dq4cfflgVK1bUAw88kK/PduzYMY0ZM0bx8fE6ceKE1q1bp8OHDzNPEoDTIpEEUKi8vLy0ZcsWVa5cWd27d1fdunU1cOBAXblyRT4+PpKk5557To888oj69++v0NBQlSlTRt26dbvudefOnasHH3xQTz31lOrUqaNBgwbp4sWLkqSKFStqwoQJGj16tCpUqKChQ4fmeY2FCxeqWbNmuu+++xQaGiqLxaKvvvoq13D29T7bjz/+qB49euj222/X4MGDFRUVpSeeeKIA3xAAlBwmyz8XbwMAAADygYokAAAADCGRBAAAgCEkkgAAADCERBIAAACGkEgCAADAEBJJAAAAGEIiCQAAAENIJAEAAGAIiSQAAAAMIZEEAACAISSSAAAAMOT/AAP7zlo29O68AAAAAElFTkSuQmCC\n"
          },
          "metadata": {}
        }
      ],
      "source": [
        "# Preparation of the data\n",
        "X = copied_data[['HDD65_sum', 'CDD65_sum', 'totsqft_en', 'NUMADULT1', 'tvsize1', 'dishwash']]  # Features pertinentes\n",
        "y = copied_data['consumption_level']  # target variable\n",
        "\n",
        "# Division into training and test set\n",
        "X_train, X_test, y_train, y_test = train_test_split(X, y, test_size=0.3, random_state=42)\n",
        "\n",
        "# Creation of the Bagging model\n",
        "# Use estimator instead of base_estimator if your scikit-learn version is older.\n",
        "bagging_model = BaggingClassifier(\n",
        "    estimator=DecisionTreeClassifier(),  # Changed base_estimator to estimator\n",
        "    n_estimators=50,  # Number of estimators\n",
        "    max_samples=0.8,  # Size of sub-sample\n",
        "    random_state=42\n",
        ")\n",
        "#This model creates an ensemble of 50 decision trees, each trained on 80% of the dataset,\n",
        "# and aggregates their predictions (e.g., majority voting) to improve accuracy\n",
        "#and reduce overfitting compared to a single Decision Tree.\n",
        "\n",
        "# model training\n",
        "bagging_model.fit(X_train, y_train)\n",
        "\n",
        "# Predictions\n",
        "y_pred = bagging_model.predict(X_test)\n",
        "\n",
        "# performance evaluation\n",
        "accuracy = accuracy_score(y_test, y_pred)\n",
        "print(f\"Accuracy: {accuracy:.2f}\")\n",
        "print(\"\\nClassification Report:\")\n",
        "print(classification_report(y_test, y_pred))\n",
        "\n",
        "# confusion matrix\n",
        "conf_matrix = confusion_matrix(y_test, y_pred)\n",
        "plt.figure(figsize=(8, 6))\n",
        "sns.heatmap(conf_matrix, annot=True, fmt='d', cmap='Blues', xticklabels=['Low', 'High'], yticklabels=['Low', 'High'])\n",
        "plt.title(\"Matrice de Confusion - Bagging\")\n",
        "plt.xlabel(\"Prédictions\")\n",
        "plt.ylabel(\"Valeurs Réelles\")\n",
        "plt.show()"
      ]
    },
    {
      "cell_type": "markdown",
      "source": [
        "##XGBOOST\n"
      ],
      "metadata": {
        "id": "UgrXSt7AN-PG"
      }
    },
    {
      "cell_type": "code",
      "execution_count": 353,
      "metadata": {
        "id": "5TKpjLjeAny8",
        "colab": {
          "base_uri": "https://localhost:8080/"
        },
        "outputId": "b986061a-d747-4cf3-dc74-46e42046a333"
      },
      "outputs": [
        {
          "output_type": "stream",
          "name": "stdout",
          "text": [
            "Requirement already satisfied: xgboost in /usr/local/lib/python3.11/dist-packages (2.1.3)\n",
            "Requirement already satisfied: numpy in /usr/local/lib/python3.11/dist-packages (from xgboost) (1.26.4)\n",
            "Requirement already satisfied: nvidia-nccl-cu12 in /usr/local/lib/python3.11/dist-packages (from xgboost) (2.21.5)\n",
            "Requirement already satisfied: scipy in /usr/local/lib/python3.11/dist-packages (from xgboost) (1.13.1)\n"
          ]
        }
      ],
      "source": [
        "pip install xgboost"
      ]
    },
    {
      "cell_type": "code",
      "execution_count": 354,
      "metadata": {
        "id": "8jMGxiTkGELh",
        "colab": {
          "base_uri": "https://localhost:8080/"
        },
        "outputId": "7d2ad0b5-5840-42b8-857c-397bdb747ff4"
      },
      "outputs": [
        {
          "output_type": "stream",
          "name": "stdout",
          "text": [
            "        DOEID  predicted_consumption_level\n",
            "0      117107                            0\n",
            "1      112324                            0\n",
            "2      104821                            0\n",
            "3      106481                            0\n",
            "4      113761                            1\n",
            "...       ...                          ...\n",
            "15490  111201                            1\n",
            "15491  116913                            0\n",
            "15492  110887                            0\n",
            "15493  115454                            0\n",
            "15494  115493                            0\n",
            "\n",
            "[12744 rows x 2 columns]\n"
          ]
        }
      ],
      "source": [
        "print(data_with_predictions)"
      ]
    },
    {
      "cell_type": "code",
      "execution_count": 355,
      "metadata": {
        "id": "2HEyJDG5E_u0",
        "colab": {
          "base_uri": "https://localhost:8080/"
        },
        "outputId": "0aefa015-642b-4bc4-cd66-a7f7db9c6535"
      },
      "outputs": [
        {
          "output_type": "stream",
          "name": "stderr",
          "text": [
            "/usr/local/lib/python3.11/dist-packages/cudf/utils/_ptxcompiler.py:64: UserWarning: Error getting driver and runtime versions:\n",
            "\n",
            "stdout:\n",
            "\n",
            "\n",
            "\n",
            "stderr:\n",
            "\n",
            "Traceback (most recent call last):\n",
            "  File \"<string>\", line 4, in <module>\n",
            "  File \"/usr/local/lib/python3.11/dist-packages/numba/cuda/cudadrv/driver.py\", line 295, in __getattr__\n",
            "    raise CudaSupportError(\"Error at driver init: \\n%s:\" %\n",
            "numba.cuda.cudadrv.error.CudaSupportError: Error at driver init: \n",
            "\n",
            "CUDA driver library cannot be found.\n",
            "If you are sure that a CUDA driver is installed,\n",
            "try setting environment variable NUMBA_CUDA_DRIVER\n",
            "with the file path of the CUDA driver shared library.\n",
            ":\n",
            "\n",
            "\n",
            "Not patching Numba\n",
            "  warnings.warn(msg, UserWarning)\n",
            "/usr/local/lib/python3.11/dist-packages/cudf/utils/gpu_utils.py:62: UserWarning: Function \"cuInit\" not found\n",
            "  warnings.warn(str(e))\n"
          ]
        }
      ],
      "source": [
        "\n",
        "X = copied_data[['HDD65_sum', 'CDD65_sum', 'totsqft_en', 'NUMADULT1', 'tvsize1', 'dishwash']]\n",
        "y = copied_data['consumption_level']\n",
        "#selects specific columns from copied_data to create the features (X) and the target variable (y)\n",
        "\n",
        "\n",
        "# Separate the features and the target\n",
        "#X = data_with_predictions.drop(['DOEID', 'predicted_consumption_level'], axis=1)  # Features\n",
        "X = copied_data[['HDD65_sum', 'CDD65_sum', 'totsqft_en', 'NUMADULT1', 'tvsize1', 'dishwash']]  # Use of the original features\n",
        "y = copied_data['consumption_level']  # Target\n",
        "\n",
        "# Split data  in training and test set\n",
        "X_train, X_test, y_train, y_test = train_test_split(X, y, test_size=0.8, random_state=42)\n",
        "\n",
        "# Initialisation of XGBOOST model\n",
        "xgb_model = XGBClassifier(use_label_encoder=False, eval_metric='logloss', random_state=42)\n",
        "\n",
        "# Train\n",
        "xgb_model.fit(X_train, y_train)\n",
        "\n",
        "# Predictions\n",
        "y_pred = xgb_model.predict(X_test)"
      ]
    },
    {
      "cell_type": "code",
      "execution_count": 356,
      "metadata": {
        "id": "s5KQ9xHwE_x6",
        "colab": {
          "base_uri": "https://localhost:8080/"
        },
        "outputId": "988fc458-0673-4e5f-9393-a9c0ccd67877"
      },
      "outputs": [
        {
          "output_type": "stream",
          "name": "stdout",
          "text": [
            "Accuracy: 1.00\n",
            "Classification Report:\n",
            "              precision    recall  f1-score   support\n",
            "\n",
            "           0       1.00      1.00      1.00      5081\n",
            "           1       1.00      1.00      1.00      5115\n",
            "\n",
            "    accuracy                           1.00     10196\n",
            "   macro avg       1.00      1.00      1.00     10196\n",
            "weighted avg       1.00      1.00      1.00     10196\n",
            "\n",
            "Confusion Matrix:\n",
            "[[5081    0]\n",
            " [   1 5114]]\n"
          ]
        }
      ],
      "source": [
        "# Calculates the accuracy\n",
        "accuracy = accuracy_score(y_test, y_pred)\n",
        "print(f\"Accuracy: {accuracy:.2f}\")\n",
        "\n",
        "# Display the classification report\n",
        "print(\"Classification Report:\")\n",
        "print(classification_report(y_test, y_pred))\n",
        "\n",
        "# Confusion Matrix\n",
        "print(\"Confusion Matrix:\")\n",
        "conf_matrix = confusion_matrix(y_test, y_pred)\n",
        "print(conf_matrix)"
      ]
    },
    {
      "cell_type": "code",
      "execution_count": 357,
      "metadata": {
        "id": "nNiC48b1E_0z",
        "colab": {
          "base_uri": "https://localhost:8080/"
        },
        "outputId": "2a56cd38-57c8-4cfe-c4bb-421b401180d8"
      },
      "outputs": [
        {
          "output_type": "stream",
          "name": "stdout",
          "text": [
            "    DOEID  xgb_predicted_consumption_level\n",
            "0  117107                                0\n",
            "1  112324                                0\n",
            "2  104821                                0\n",
            "3  106481                                0\n",
            "4  113761                                1\n"
          ]
        },
        {
          "output_type": "stream",
          "name": "stderr",
          "text": [
            "<ipython-input-357-3de74a8e1518>:2: SettingWithCopyWarning: \n",
            "A value is trying to be set on a copy of a slice from a DataFrame.\n",
            "Try using .loc[row_indexer,col_indexer] = value instead\n",
            "\n",
            "See the caveats in the documentation: https://pandas.pydata.org/pandas-docs/stable/user_guide/indexing.html#returning-a-view-versus-a-copy\n",
            "  data_with_predictions['xgb_predicted_consumption_level'] = xgb_model.predict(X)\n"
          ]
        }
      ],
      "source": [
        "# We add the predictions to the original DataFrame\n",
        "data_with_predictions['xgb_predicted_consumption_level'] = xgb_model.predict(X)\n",
        "\n",
        "# Display the results\n",
        "print(data_with_predictions[['DOEID', 'xgb_predicted_consumption_level']].head())"
      ]
    },
    {
      "cell_type": "code",
      "execution_count": 358,
      "metadata": {
        "id": "yos2Qjw2E_3o"
      },
      "outputs": [],
      "source": [
        "data_with_predictions.to_csv('predictions_with_xgboost.csv', index=False)"
      ]
    },
    {
      "cell_type": "code",
      "execution_count": 359,
      "metadata": {
        "id": "9ycrxQrlE_6V",
        "colab": {
          "base_uri": "https://localhost:8080/",
          "height": 17
        },
        "outputId": "9cbc5f29-845c-44ff-bae1-69cb56ecc1c2"
      },
      "outputs": [
        {
          "output_type": "display_data",
          "data": {
            "text/plain": [
              "<IPython.core.display.Javascript object>"
            ],
            "application/javascript": [
              "\n",
              "    async function download(id, filename, size) {\n",
              "      if (!google.colab.kernel.accessAllowed) {\n",
              "        return;\n",
              "      }\n",
              "      const div = document.createElement('div');\n",
              "      const label = document.createElement('label');\n",
              "      label.textContent = `Downloading \"${filename}\": `;\n",
              "      div.appendChild(label);\n",
              "      const progress = document.createElement('progress');\n",
              "      progress.max = size;\n",
              "      div.appendChild(progress);\n",
              "      document.body.appendChild(div);\n",
              "\n",
              "      const buffers = [];\n",
              "      let downloaded = 0;\n",
              "\n",
              "      const channel = await google.colab.kernel.comms.open(id);\n",
              "      // Send a message to notify the kernel that we're ready.\n",
              "      channel.send({})\n",
              "\n",
              "      for await (const message of channel.messages) {\n",
              "        // Send a message to notify the kernel that we're ready.\n",
              "        channel.send({})\n",
              "        if (message.buffers) {\n",
              "          for (const buffer of message.buffers) {\n",
              "            buffers.push(buffer);\n",
              "            downloaded += buffer.byteLength;\n",
              "            progress.value = downloaded;\n",
              "          }\n",
              "        }\n",
              "      }\n",
              "      const blob = new Blob(buffers, {type: 'application/binary'});\n",
              "      const a = document.createElement('a');\n",
              "      a.href = window.URL.createObjectURL(blob);\n",
              "      a.download = filename;\n",
              "      div.appendChild(a);\n",
              "      a.click();\n",
              "      div.remove();\n",
              "    }\n",
              "  "
            ]
          },
          "metadata": {}
        },
        {
          "output_type": "display_data",
          "data": {
            "text/plain": [
              "<IPython.core.display.Javascript object>"
            ],
            "application/javascript": [
              "download(\"download_9dfbb35d-d695-41e7-a643-ec3fd0ccfff7\", \"predictions_with_xgboost.csv\", 140250)"
            ]
          },
          "metadata": {}
        }
      ],
      "source": [
        "# Save  the  predictions in a CSV file\n",
        "data_with_predictions.to_csv('predictions_with_xgboost.csv', index=False)\n",
        "\n",
        "# Uploading file to Jupyter Notebook environment\n",
        "files.download('predictions_with_xgboost.csv')"
      ]
    },
    {
      "cell_type": "code",
      "execution_count": 360,
      "metadata": {
        "id": "VM-UWL-5E__j",
        "colab": {
          "base_uri": "https://localhost:8080/"
        },
        "outputId": "07dd3e78-5369-4d20-bfe2-271e243e0d4c"
      },
      "outputs": [
        {
          "output_type": "stream",
          "name": "stdout",
          "text": [
            "    DOEID predicted_consumption_level  xgb_predicted_consumption_level\n",
            "0  117107                         low                                0\n",
            "1  112324                         low                                0\n",
            "2  104821                         low                                0\n",
            "3  106481                         low                                0\n",
            "4  113761                        high                                1\n"
          ]
        },
        {
          "output_type": "stream",
          "name": "stderr",
          "text": [
            "<ipython-input-360-ccd8ff3c4e21>:2: SettingWithCopyWarning: \n",
            "A value is trying to be set on a copy of a slice from a DataFrame.\n",
            "Try using .loc[row_indexer,col_indexer] = value instead\n",
            "\n",
            "See the caveats in the documentation: https://pandas.pydata.org/pandas-docs/stable/user_guide/indexing.html#returning-a-view-versus-a-copy\n",
            "  data_with_predictions['predicted_consumption_level'] = data_with_predictions['predicted_consumption_level'].replace({1: 'high', 0: 'low'})\n"
          ]
        }
      ],
      "source": [
        "# Replace the values in the 'predicted_consumption_level’column\n",
        "data_with_predictions['predicted_consumption_level'] = data_with_predictions['predicted_consumption_level'].replace({1: 'high', 0: 'low'})\n",
        "\n",
        "# Then we check the  modifications\n",
        "print(data_with_predictions.head())\n"
      ]
    },
    {
      "cell_type": "code",
      "execution_count": 361,
      "metadata": {
        "id": "wdYlukAEJrOb",
        "colab": {
          "base_uri": "https://localhost:8080/"
        },
        "outputId": "b5b26be7-b97a-4965-ee40-aac1178646c9"
      },
      "outputs": [
        {
          "output_type": "stream",
          "name": "stdout",
          "text": [
            "    DOEID predicted_consumption_level xgb_predicted_consumption_level\n",
            "0  117107                         low                             low\n",
            "1  112324                         low                             low\n",
            "2  104821                         low                             low\n",
            "3  106481                         low                             low\n",
            "4  113761                        high                            high\n"
          ]
        },
        {
          "output_type": "stream",
          "name": "stderr",
          "text": [
            "<ipython-input-361-c297c7ad1bdc>:2: SettingWithCopyWarning: \n",
            "A value is trying to be set on a copy of a slice from a DataFrame.\n",
            "Try using .loc[row_indexer,col_indexer] = value instead\n",
            "\n",
            "See the caveats in the documentation: https://pandas.pydata.org/pandas-docs/stable/user_guide/indexing.html#returning-a-view-versus-a-copy\n",
            "  data_with_predictions['xgb_predicted_consumption_level'] = data_with_predictions['xgb_predicted_consumption_level'].replace({1: 'high', 0: 'low'})\n"
          ]
        }
      ],
      "source": [
        "# Replace tha values in the  'predicted_consumption_level' column\n",
        "data_with_predictions['xgb_predicted_consumption_level'] = data_with_predictions['xgb_predicted_consumption_level'].replace({1: 'high', 0: 'low'})\n",
        "\n",
        "# Then check  modifications again\n",
        "print(data_with_predictions.head())\n"
      ]
    },
    {
      "cell_type": "code",
      "execution_count": 363,
      "metadata": {
        "id": "Ngk3BIL7J32B",
        "colab": {
          "base_uri": "https://localhost:8080/",
          "height": 17
        },
        "outputId": "5efb08f9-f3f2-4aa3-ef05-a60079bd41f3"
      },
      "outputs": [
        {
          "output_type": "display_data",
          "data": {
            "text/plain": [
              "<IPython.core.display.Javascript object>"
            ],
            "application/javascript": [
              "\n",
              "    async function download(id, filename, size) {\n",
              "      if (!google.colab.kernel.accessAllowed) {\n",
              "        return;\n",
              "      }\n",
              "      const div = document.createElement('div');\n",
              "      const label = document.createElement('label');\n",
              "      label.textContent = `Downloading \"${filename}\": `;\n",
              "      div.appendChild(label);\n",
              "      const progress = document.createElement('progress');\n",
              "      progress.max = size;\n",
              "      div.appendChild(progress);\n",
              "      document.body.appendChild(div);\n",
              "\n",
              "      const buffers = [];\n",
              "      let downloaded = 0;\n",
              "\n",
              "      const channel = await google.colab.kernel.comms.open(id);\n",
              "      // Send a message to notify the kernel that we're ready.\n",
              "      channel.send({})\n",
              "\n",
              "      for await (const message of channel.messages) {\n",
              "        // Send a message to notify the kernel that we're ready.\n",
              "        channel.send({})\n",
              "        if (message.buffers) {\n",
              "          for (const buffer of message.buffers) {\n",
              "            buffers.push(buffer);\n",
              "            downloaded += buffer.byteLength;\n",
              "            progress.value = downloaded;\n",
              "          }\n",
              "        }\n",
              "      }\n",
              "      const blob = new Blob(buffers, {type: 'application/binary'});\n",
              "      const a = document.createElement('a');\n",
              "      a.href = window.URL.createObjectURL(blob);\n",
              "      a.download = filename;\n",
              "      div.appendChild(a);\n",
              "      a.click();\n",
              "      div.remove();\n",
              "    }\n",
              "  "
            ]
          },
          "metadata": {}
        },
        {
          "output_type": "display_data",
          "data": {
            "text/plain": [
              "<IPython.core.display.Javascript object>"
            ],
            "application/javascript": [
              "download(\"download_e705ec8c-fafd-4b7b-9684-b1ca8bac4049\", \"predictions_with_xgboost.xlsx\", 201002)"
            ]
          },
          "metadata": {}
        }
      ],
      "source": [
        "data_with_predictions.to_excel('predictions_with_xgboost.xlsx', index=False)\n",
        "\n",
        "files.download('predictions_with_xgboost.xlsx')"
      ]
    },
    {
      "cell_type": "code",
      "execution_count": 364,
      "metadata": {
        "id": "84Qj0Et1J41M",
        "colab": {
          "base_uri": "https://localhost:8080/",
          "height": 472
        },
        "outputId": "1251ace7-e740-4606-cc8a-aad8771a2ae9"
      },
      "outputs": [
        {
          "output_type": "display_data",
          "data": {
            "text/plain": [
              "<Figure size 640x480 with 1 Axes>"
            ],
            "image/png": "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\n"
          },
          "metadata": {}
        }
      ],
      "source": [
        "copied_data['HDD65_sum'].hist(bins=30, color='skyblue', edgecolor='black')\n",
        "plt.title('Distribution de HDD65_sum')\n",
        "plt.xlabel('HDD65_sum')\n",
        "plt.ylabel('Fréquence')\n",
        "plt.show()\n",
        "# We enerates a histogram to visualize the distribution of values in the HDD65_sum column from the copied_data DataFrame\n",
        "#The histogram helps to understand the distribution of heating degree days (HDD65_sum) in the dataset,\n",
        "#revealing whether the data is symmetrical, skewed, or multimodal."
      ]
    },
    {
      "cell_type": "code",
      "execution_count": 366,
      "metadata": {
        "id": "LPlMJ59zMTtB",
        "colab": {
          "base_uri": "https://localhost:8080/",
          "height": 579
        },
        "outputId": "6547822c-2b5b-4130-c9e6-1e833418d921"
      },
      "outputs": [
        {
          "output_type": "stream",
          "name": "stderr",
          "text": [
            "<ipython-input-366-8529695a1b34>:1: FutureWarning: \n",
            "\n",
            "Passing `palette` without assigning `hue` is deprecated and will be removed in v0.14.0. Assign the `x` variable to `hue` and set `legend=False` for the same effect.\n",
            "\n",
            "  sns.boxplot(x='predicted_consumption_level', y='HDD65_sum', data=copied_data, palette='Blues')\n"
          ]
        },
        {
          "output_type": "display_data",
          "data": {
            "text/plain": [
              "<Figure size 640x480 with 1 Axes>"
            ],
            "image/png": "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\n"
          },
          "metadata": {}
        }
      ],
      "source": [
        "sns.boxplot(x='predicted_consumption_level', y='HDD65_sum', data=copied_data, palette='Blues')\n",
        "plt.title('Distribution de HDD65_sum par niveau de consommation')\n",
        "plt.xlabel('Niveau de consommation')\n",
        "plt.ylabel('HDD65_sum')\n",
        "plt.xticks(ticks=[0, 1], labels=['Low', 'High'])\n",
        "plt.show()\n",
        "#This code generates a boxplot (whisker box) to visualize the distribution of the values of HDD65_sum\n",
        "#according to the predicted consumption levels (predicted_consumption_level)"
      ]
    },
    {
      "cell_type": "code",
      "execution_count": 367,
      "metadata": {
        "id": "aMFB18v8MUJo",
        "colab": {
          "base_uri": "https://localhost:8080/",
          "height": 569
        },
        "outputId": "14407d2a-094e-4f13-e28b-ae87704023fc"
      },
      "outputs": [
        {
          "output_type": "display_data",
          "data": {
            "text/plain": [
              "<Figure size 800x600 with 1 Axes>"
            ],
            "image/png": "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\n"
          },
          "metadata": {}
        }
      ],
      "source": [
        "# Count occurrences of the Low and High predictions\n",
        "prediction_counts = copied_data['predicted_consumption_level'].value_counts()\n",
        "\n",
        "#Histogram\n",
        "plt.figure(figsize=(8, 6))\n",
        "plt.bar(prediction_counts.index.map({0: 'Low', 1: 'High'}), prediction_counts.values, color=['skyblue', 'salmon'], edgecolor='black')\n",
        "plt.title(\"Predictions : Low vs High\", fontsize=14)\n",
        "plt.xlabel(\"Consumption level predicted\", fontsize=12)\n",
        "plt.ylabel(\"Count\", fontsize=12)\n",
        "plt.xticks(fontsize=10)\n",
        "plt.yticks(fontsize=10)\n",
        "plt.show()\n"
      ]
    },
    {
      "cell_type": "code",
      "execution_count": 368,
      "metadata": {
        "id": "xBK9GcJAIi9f",
        "colab": {
          "base_uri": "https://localhost:8080/"
        },
        "outputId": "4d94a9bb-61a6-4553-9a7c-3ccc404020c4"
      },
      "outputs": [
        {
          "output_type": "stream",
          "name": "stdout",
          "text": [
            "Cross-validation scores : [0.97920753 0.98469988 0.98352295 0.98234602 0.98155416]\n",
            "average score : 0.9822661086041684\n"
          ]
        }
      ],
      "source": [
        "scores = cross_val_score(logistic_model, X_scaled, y, cv=5, scoring='accuracy')\n",
        "print(\"Cross-validation scores :\", scores)\n",
        "print(\"average score :\", scores.mean())\n"
      ]
    },
    {
      "cell_type": "code",
      "execution_count": 369,
      "metadata": {
        "id": "B4Z0qP4bIjAZ",
        "colab": {
          "base_uri": "https://localhost:8080/"
        },
        "outputId": "c190b802-6ad8-4c41-f713-9f750abf3ab7"
      },
      "outputs": [
        {
          "output_type": "stream",
          "name": "stdout",
          "text": [
            "['typehuq', 'cellar', 'crawl', 'concrete', 'baseoth', 'basefin', 'attic', 'atticfin', 'stories', 'prkgplc1', 'sizeofgarage', 'kownrent', 'yearmaderange', 'bedrooms', 'ncombath', 'nhafbath', 'othrooms', 'totrooms', 'studio', 'walltype', 'rooftype', 'highceil', 'door1sum', 'windows', 'typeglass', 'origwin', 'winframe', 'treeshad', 'adqinsul', 'drafty', 'ugashere', 'swimpool', 'monpool', 'poolpump', 'fuelpool', 'recbath', 'montub', 'fueltub', 'numfrig', 'sizrfri1', 'typerfr1', 'agerfri1', 'ice', 'sizrfri2', 'typerfr2', 'agerfri2', 'locrfri2', 'winechill', 'numfreez', 'uprtfrzr', 'sizfreez', 'freezer', 'agefrzr', 'range', 'cooktop', 'oven', 'rangefuel', 'rangeindt', 'rcookuse', 'rovenuse', 'cooktopfuel', 'cooktopindt', 'cooktopuse', 'ovenfuel', 'ovenuse', 'micro', 'amtmicro', 'outgrillfuel', 'outgrill', 'nummeal', 'usecoffee', 'toast', 'toastovn', 'crockpot', 'prsscook', 'ricecook', 'blender', 'appother', 'elfood', 'lpcook', 'ugcook', 'dishwash', 'dwashuse', 'dwcycle', 'agedw', 'cwasher', 'topfront', 'washload', 'washtemp', 'agecwash', 'dryer', 'dryrfuel', 'dryruse', 'agecdryer', 'tvcolor', 'tvsize1', 'tvtype1', 'tvuse1', 'tvonwd1', 'tvonwe1', 'tvsize2', 'tvtype2', 'tvuse2', 'tvonwd2', 'tvonwe2', 'tvsize3', 'tvtype3', 'tvuse3', 'tvonwd3', 'tvonwe3', 'cablesat', 'combodvr', 'sepdvr', 'intstream', 'playsta', 'dvd', 'vcr', 'tvaudiosys', 'desktop', 'numlaptop', 'numtablet', 'elperiph', 'numsmphone', 'cellphone', 'tellwork', 'telldays', 'tldesktop', 'tllaptop', 'tltablet', 'tlmonitor', 'tlother', 'onlneduc', 'internet', 'intypecell', 'intypebroad', 'intypeoth', 'smartspk', 'sslight', 'sstemp', 'sssecure', 'sstv', 'ssother', 'heathome', 'dntheat', 'heatapt', 'equipm', 'fuelheat', 'equipage', 'geohp', 'equipauxtype', 'equipaux', 'fuelaux', 'useequipaux', 'numportel', 'numfireplc', 'numdlhp', 'baseheat', 'attcheat', 'gargheat', 'humidtype', 'numporthum', 'usehumid', 'elwarm', 'ugwarm', 'lpwarm', 'fowarm', 'wdwarm', 'aircond', 'coolapt', 'acequipm_pub', 'acequipage', 'acequipauxtype_pub', 'numdlhpac', 'numwwac', 'numportac', 'basecool', 'attccool', 'gargcool', 'numcfan', 'numfloorfan', 'usecfan', 'housefan', 'atticfan', 'dehumtype', 'numportdehum', 'usedehum', 'elcool', 'typetherm', 'heatcntl', 'temphome', 'tempgone', 'tempnite', 'coolcntl', 'temphomeac', 'tempgoneac', 'tempniteac', 'h2oapt', 'h2omain', 'wheatsiz', 'wheatbkt', 'wheatage', 'fuelh2o', 'morethan1h2o', 'fuelh2o2', 'elwater', 'fowater', 'lpwater', 'solwater', 'wdwater', 'ugwater', 'lgtin1to4', 'lgtin4to8', 'lgtinmore8', 'lgtinled', 'lgtincfl', 'lgtincan', 'lgtoutany', 'lgtoutnite', 'lgtoutled', 'lgtoutcfl', 'lgtoutcan', 'elpay', 'ngpay', 'lpgpay', 'fopay', 'smartmeter', 'intdataacc', 'medicaldev', 'powerout', 'whypowerout', 'backup', 'solar', 'elother', 'ugoth', 'lpother', 'foother', 'useel', 'useng', 'uselp', 'usefo', 'usesolar', 'usewood', 'allelec', 'sqftest', 'sqftrange', 'sqftincb', 'sqftinca', 'sqftincg', 'totsqft_en', 'tothsqft', 'totcsqft', 'dbt1', 'dbt99', 'gwt', 'woodtype', 'outlet', 'elecveh', 'evchrghome', 'evchrgapt', 'evchrgwks', 'evchrgbus', 'evchrgmuni', 'evchrgdlr', 'evchrghwy', 'evchrgoth', 'evhomeamt', 'evchrgtype', 'REGIONC', 'DIVISION', 'STATE_FIPS', 'state_postal', 'state_name', 'HHSEX', 'HHAGE', 'EMPLOYHH', 'EDUCATION', 'SDESCENT', 'HOUSEHOLDER_RACE', 'NHSLDMEM', 'NUMCHILD', 'NUMADULT1', 'NUMADULT2', 'ATHOME', 'MONEYPY', 'DOEID', 'HHID', 'ba_climate', 'iecc_climate_code', 'uatyp10', 'hdd65', 'cdd65', 'hdd30yr_pub', 'cdd30yr_pub', 'HDD65_sum', 'CDD65_sum', 'time_y', 'consumption_level', 'predicted_consumption_level']\n"
          ]
        }
      ],
      "source": [
        "print(copied_data.columns.tolist())"
      ]
    },
    {
      "cell_type": "code",
      "execution_count": 370,
      "metadata": {
        "id": "BOsRUNasIjJe",
        "colab": {
          "base_uri": "https://localhost:8080/",
          "height": 579
        },
        "outputId": "8bfcf9aa-85c0-46f7-95c1-2bf63b3a5e70"
      },
      "outputs": [
        {
          "output_type": "stream",
          "name": "stderr",
          "text": [
            "<ipython-input-370-6a07375d3167>:1: FutureWarning: \n",
            "\n",
            "Passing `palette` without assigning `hue` is deprecated and will be removed in v0.14.0. Assign the `x` variable to `hue` and set `legend=False` for the same effect.\n",
            "\n",
            "  sns.boxplot(x='consumption_level', y='totsqft_en', data=copied_data, palette='coolwarm')\n"
          ]
        },
        {
          "output_type": "display_data",
          "data": {
            "text/plain": [
              "<Figure size 640x480 with 1 Axes>"
            ],
            "image/png": "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\n"
          },
          "metadata": {}
        }
      ],
      "source": [
        "sns.boxplot(x='consumption_level', y='totsqft_en', data=copied_data, palette='coolwarm')\n",
        "plt.title(\"The range of the household according to the level of consumption\")\n",
        "plt.xlabel(\"consumption level (0=Low, 1=High)\")\n",
        "plt.ylabel(\"House size (in square feet)\")\n",
        "plt.show()\n"
      ]
    },
    {
      "cell_type": "code",
      "execution_count": 371,
      "metadata": {
        "id": "vGodx3io-Cnb",
        "colab": {
          "base_uri": "https://localhost:8080/",
          "height": 559
        },
        "outputId": "fa7740f0-81d5-4fdc-f314-bde7f442d559"
      },
      "outputs": [
        {
          "output_type": "stream",
          "name": "stdout",
          "text": [
            "zone\n",
            "Mixed Zone    9718\n",
            "Cold Zone     2914\n",
            "Hot Zone       112\n",
            "Name: count, dtype: int64\n"
          ]
        },
        {
          "output_type": "display_data",
          "data": {
            "text/plain": [
              "<Figure size 640x480 with 1 Axes>"
            ],
            "image/png": "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\n"
          },
          "metadata": {}
        }
      ],
      "source": [
        "# Add a categorical column to identify areas\n",
        "#identifies and visualizes climate zones based on HDD65_sum (heating degree days) and CDD65_sum (cooling degree days):\n",
        "def classify_zone(row):\n",
        "    if row['HDD65_sum'] > 6000 and row['CDD65_sum'] < 1000:\n",
        "        return 'Cold Zone'\n",
        "    elif row['HDD65_sum'] < 1000 and row['CDD65_sum'] > 2000:\n",
        "        return 'Hot Zone'\n",
        "    else:\n",
        "        return 'Mixed Zone'\n",
        "\n",
        "copied_data['zone'] = copied_data.apply(classify_zone, axis=1)\n",
        "\n",
        "# Check of the  distributions\n",
        "print(copied_data['zone'].value_counts())\n",
        "\n",
        "# Visualisation of areas\n",
        "sns.scatterplot(x='HDD65_sum', y='CDD65_sum', hue='zone', data=copied_data, palette='coolwarm')\n",
        "plt.title(\"Zones identifiées (Cold, Hot, Mixed)\")\n",
        "plt.xlabel(\"HDD65_sum (jours de chauffage)\")\n",
        "plt.ylabel(\"CDD65_sum (jours de climatisation)\")\n",
        "plt.legend(title=\"Zone\")\n",
        "plt.show()\n"
      ]
    },
    {
      "cell_type": "code",
      "execution_count": 372,
      "metadata": {
        "id": "wcYOTmn1-C2t",
        "colab": {
          "base_uri": "https://localhost:8080/"
        },
        "outputId": "38bc3a85-40ac-44e7-b11b-7c968170e9f3"
      },
      "outputs": [
        {
          "output_type": "stream",
          "name": "stdout",
          "text": [
            "Évaluation du modèle : Random Forest\n",
            "Accuracy : 0.96\n",
            "Precision : 0.96\n",
            "Recall : 0.97\n",
            "F1-Score : 0.96\n",
            "Matrice de confusion :\n",
            "[[6137  251]\n",
            " [ 199 6157]]\n",
            "\n",
            "\n",
            "Évaluation du modèle : XGBoost\n",
            "Accuracy : 0.96\n",
            "Precision : 0.96\n",
            "Recall : 0.97\n",
            "F1-Score : 0.96\n",
            "Matrice de confusion :\n",
            "[[6137  251]\n",
            " [ 199 6157]]\n",
            "\n",
            "\n"
          ]
        }
      ],
      "source": [
        "#evaluates how well a model performs on labeled data\n",
        "def evaluate_model(y_true, y_pred, model_name):\n",
        "    accuracy = accuracy_score(y_true, y_pred)\n",
        "    precision = precision_score(y_true, y_pred, pos_label='high')\n",
        "    recall = recall_score(y_true, y_pred, pos_label='high')\n",
        "    f1 = f1_score(y_true, y_pred, pos_label='high')\n",
        "\n",
        "    print(f\"Évaluation du modèle : {model_name}\")\n",
        "    print(f\"Accuracy : {accuracy:.2f}\")\n",
        "    print(f\"Precision : {precision:.2f}\")\n",
        "    print(f\"Recall : {recall:.2f}\")\n",
        "    print(f\"F1-Score : {f1:.2f}\")\n",
        "    print(\"Matrice de confusion :\")\n",
        "    print(confusion_matrix(y_true, y_pred, labels=['low', 'high']))\n",
        "    print(\"\\n\")\n",
        "    return accuracy, precision, recall, f1\n",
        "\n",
        "# Comparison of the two models\n",
        "rf_metrics = evaluate_model(data_with_predictions['predicted_consumption_level'],\n",
        "                            data_with_predictions['xgb_predicted_consumption_level'], \"Random Forest\")\n",
        "xgb_metrics = evaluate_model(data_with_predictions['predicted_consumption_level'],\n",
        "                             data_with_predictions['xgb_predicted_consumption_level'], \"XGBoost\")"
      ]
    }
  ],
  "metadata": {
    "colab": {
      "toc_visible": true,
      "provenance": [],
      "include_colab_link": true
    },
    "kernelspec": {
      "display_name": "Python 3",
      "name": "python3"
    },
    "language_info": {
      "name": "python"
    }
  },
  "nbformat": 4,
  "nbformat_minor": 0
}
